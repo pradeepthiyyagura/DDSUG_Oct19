{
 "cells": [
  {
   "cell_type": "markdown",
   "metadata": {},
   "source": [
    "# News Group Classification"
   ]
  },
  {
   "cell_type": "markdown",
   "metadata": {},
   "source": [
    "The following notebook is based on code from a [fast.ai MOOC Lesson3](https://course.fast.ai/videos/?lesson=3). \n",
    "It was presented at the [2019 October Desert Data Science User Group](https://www.meetup.com/Desert-Data-Science-User-Group/events/265691365/)"
   ]
  },
  {
   "cell_type": "code",
   "execution_count": 1,
   "metadata": {},
   "outputs": [],
   "source": [
    "%reload_ext autoreload\n",
    "%autoreload 2\n",
    "%matplotlib inline"
   ]
  },
  {
   "cell_type": "code",
   "execution_count": 2,
   "metadata": {},
   "outputs": [],
   "source": [
    "from fastai.text import *\n",
    "from fastai.callbacks import *\n",
    "from IPython.display import display, Image"
   ]
  },
  {
   "cell_type": "markdown",
   "metadata": {},
   "source": [
    "## Data Description"
   ]
  },
  {
   "cell_type": "markdown",
   "metadata": {},
   "source": [
    "The 20 Newsgroups data set is a collection of approximately 20,000 newsgroup documents, partitioned (nearly) evenly across 20 different newsgroups. You can download the [Dataset](http://qwone.com/~jason/20Newsgroups/) and follow along the tutorial.\n",
    "\n",
    "The categories are as follows:\n"
   ]
  },
  {
   "cell_type": "code",
   "execution_count": 68,
   "metadata": {},
   "outputs": [
    {
     "data": {
      "image/png": "[encoded data removed]",
      "text/plain": [
       "<IPython.core.display.Image object>"
      ]
     },
     "metadata": {},
     "output_type": "display_data"
    }
   ],
   "source": [
    "display(Image(filename='C:\\\\Users\\\\p1thiyya\\\\Downloads\\\\20_news_desc.PNG'))"
   ]
  },
  {
   "cell_type": "markdown",
   "metadata": {},
   "source": [
    "## Extracting the data"
   ]
  },
  {
   "cell_type": "code",
   "execution_count": 6,
   "metadata": {},
   "outputs": [],
   "source": [
    "from pathlib import Path\n",
    "path = Path('C:\\\\Users\\\\pradeep.thiyyagura\\\\Documents\\\\Learning\\\\Meetup_19\\\\20_newsgroups')\n",
    "working = Path('C:\\\\Users\\\\pradeep.thiyyagura\\\\Documents\\\\Learning\\\\Meetup_19\\\\working')"
   ]
  },
  {
   "cell_type": "code",
   "execution_count": 7,
   "metadata": {},
   "outputs": [],
   "source": [
    "os.chdir(working)"
   ]
  },
  {
   "cell_type": "code",
   "execution_count": 8,
   "metadata": {},
   "outputs": [],
   "source": [
    "from os import walk\n",
    "\n",
    "# Get the list of all files in directory tree at given path\n",
    "Files = list()\n",
    "for (dirpath, dirnames, filenames) in os.walk(path):\n",
    "    Files +=[os.path.join(dirpath, file) for file in filenames]\n"
   ]
  },
  {
   "cell_type": "code",
   "execution_count": 45,
   "metadata": {
    "scrolled": false
   },
   "outputs": [
    {
     "name": "stdout",
     "output_type": "stream",
     "text": [
      "19997\n"
     ]
    },
    {
     "data": {
      "text/plain": [
       "['C:\\\\Users\\\\pradeep.thiyyagura\\\\Documents\\\\Learning\\\\Meetup_19\\\\20_newsgroups\\\\alt.atheism\\\\49960',\n",
       " 'C:\\\\Users\\\\pradeep.thiyyagura\\\\Documents\\\\Learning\\\\Meetup_19\\\\20_newsgroups\\\\alt.atheism\\\\51060',\n",
       " 'C:\\\\Users\\\\pradeep.thiyyagura\\\\Documents\\\\Learning\\\\Meetup_19\\\\20_newsgroups\\\\alt.atheism\\\\51119',\n",
       " 'C:\\\\Users\\\\pradeep.thiyyagura\\\\Documents\\\\Learning\\\\Meetup_19\\\\20_newsgroups\\\\alt.atheism\\\\51120',\n",
       " 'C:\\\\Users\\\\pradeep.thiyyagura\\\\Documents\\\\Learning\\\\Meetup_19\\\\20_newsgroups\\\\alt.atheism\\\\51121']"
      ]
     },
     "execution_count": 45,
     "metadata": {},
     "output_type": "execute_result"
    }
   ],
   "source": [
    "print(len(Files))\n",
    "Files[:5]"
   ]
  },
  {
   "cell_type": "code",
   "execution_count": 10,
   "metadata": {},
   "outputs": [
    {
     "data": {
      "text/html": [
       "<div>\n",
       "<style scoped>\n",
       "    .dataframe tbody tr th:only-of-type {\n",
       "        vertical-align: middle;\n",
       "    }\n",
       "\n",
       "    .dataframe tbody tr th {\n",
       "        vertical-align: top;\n",
       "    }\n",
       "\n",
       "    .dataframe thead th {\n",
       "        text-align: right;\n",
       "    }\n",
       "</style>\n",
       "<table border=\"1\" class=\"dataframe\">\n",
       "  <thead>\n",
       "    <tr style=\"text-align: right;\">\n",
       "      <th></th>\n",
       "      <th>File_path</th>\n",
       "    </tr>\n",
       "  </thead>\n",
       "  <tbody>\n",
       "    <tr>\n",
       "      <th>0</th>\n",
       "      <td>C:\\Users\\pradeep.thiyyagura\\Documents\\Learning...</td>\n",
       "    </tr>\n",
       "    <tr>\n",
       "      <th>1</th>\n",
       "      <td>C:\\Users\\pradeep.thiyyagura\\Documents\\Learning...</td>\n",
       "    </tr>\n",
       "    <tr>\n",
       "      <th>2</th>\n",
       "      <td>C:\\Users\\pradeep.thiyyagura\\Documents\\Learning...</td>\n",
       "    </tr>\n",
       "    <tr>\n",
       "      <th>3</th>\n",
       "      <td>C:\\Users\\pradeep.thiyyagura\\Documents\\Learning...</td>\n",
       "    </tr>\n",
       "    <tr>\n",
       "      <th>4</th>\n",
       "      <td>C:\\Users\\pradeep.thiyyagura\\Documents\\Learning...</td>\n",
       "    </tr>\n",
       "  </tbody>\n",
       "</table>\n",
       "</div>"
      ],
      "text/plain": [
       "                                           File_path\n",
       "0  C:\\Users\\pradeep.thiyyagura\\Documents\\Learning...\n",
       "1  C:\\Users\\pradeep.thiyyagura\\Documents\\Learning...\n",
       "2  C:\\Users\\pradeep.thiyyagura\\Documents\\Learning...\n",
       "3  C:\\Users\\pradeep.thiyyagura\\Documents\\Learning...\n",
       "4  C:\\Users\\pradeep.thiyyagura\\Documents\\Learning..."
      ]
     },
     "execution_count": 10,
     "metadata": {},
     "output_type": "execute_result"
    }
   ],
   "source": [
    "news_group_df = pd.DataFrame({'File_path': pd.Series(Files)})\n",
    "news_group_df.head()"
   ]
  },
  {
   "cell_type": "code",
   "execution_count": 11,
   "metadata": {},
   "outputs": [],
   "source": [
    "def extract_contents(file):\n",
    "    #file_label = file.split('\\\\')[-2]\n",
    "    with open(file, encoding = \"ISO-8859-1\") as myfile:\n",
    "        text = myfile.read()\n",
    "        i = text.find('\\n\\n') #skip header\n",
    "        if 0 < i:\n",
    "            text = text[i+2:]       \n",
    "        #file_text = myfile.readlines()[1:] #removing the first line as it has the label \n",
    "    return str(text)\n"
   ]
  },
  {
   "cell_type": "code",
   "execution_count": 46,
   "metadata": {},
   "outputs": [
    {
     "data": {
      "text/plain": [
       "\"In article <1993Apr6.011605.909@cis.uab.edu> sloan@cis.uab.edu\\n(Kenneth Sloan) writes:\\n>\\n>Why didn't you create 8 grey-level images, and display them for\\n>1,2,4,8,16,32,64,128... time slices?\\n\\nBy '8 grey level images' you mean 8 items of 1bit images?\\nIt does work(!), but it doesn't work if you have more than 1bit\\nin your screen and if the screen intensity is non-linear.\\n\\nWith 2 bit per pixel; there could be 1*c_1 + 4*c_2 timing,\\nthis gives 16 levels, but they are linear if screen intensity is\\nlinear.\\nWith 1*c_1 + 2*c_2 it works, but we have to find the best\\ncompinations -- there's 10 levels, but 16 choises; best 10 must be\\nchosen. Different compinations for the same level, varies a bit, but\\nthe levels keeps their order.\\n\\nReaders should verify what I wrote... :-)\\n\\nJuhana Kouhia\\n\""
      ]
     },
     "execution_count": 46,
     "metadata": {},
     "output_type": "execute_result"
    }
   ],
   "source": [
    "extract_contents(Files[1020])"
   ]
  },
  {
   "cell_type": "code",
   "execution_count": 13,
   "metadata": {},
   "outputs": [],
   "source": [
    "news_group_df['File_label'] = news_group_df['File_path'].apply(lambda x: x.split('\\\\')[-2])\n",
    "news_group_df['File_text'] = news_group_df['File_path'].apply(lambda x: extract_contents(x))"
   ]
  },
  {
   "cell_type": "code",
   "execution_count": 14,
   "metadata": {
    "scrolled": true
   },
   "outputs": [
    {
     "data": {
      "text/html": [
       "<div>\n",
       "<style scoped>\n",
       "    .dataframe tbody tr th:only-of-type {\n",
       "        vertical-align: middle;\n",
       "    }\n",
       "\n",
       "    .dataframe tbody tr th {\n",
       "        vertical-align: top;\n",
       "    }\n",
       "\n",
       "    .dataframe thead th {\n",
       "        text-align: right;\n",
       "    }\n",
       "</style>\n",
       "<table border=\"1\" class=\"dataframe\">\n",
       "  <thead>\n",
       "    <tr style=\"text-align: right;\">\n",
       "      <th></th>\n",
       "      <th>File_path</th>\n",
       "      <th>File_label</th>\n",
       "      <th>File_text</th>\n",
       "    </tr>\n",
       "  </thead>\n",
       "  <tbody>\n",
       "    <tr>\n",
       "      <th>14837</th>\n",
       "      <td>C:\\Users\\pradeep.thiyyagura\\Documents\\Learning...</td>\n",
       "      <td>sci.space</td>\n",
       "      <td>In article &lt;C69qA6.J4w.1@cs.cmu.edu&gt;, 00042444...</td>\n",
       "    </tr>\n",
       "    <tr>\n",
       "      <th>10430</th>\n",
       "      <td>C:\\Users\\pradeep.thiyyagura\\Documents\\Learning...</td>\n",
       "      <td>rec.sport.hockey</td>\n",
       "      <td>In article &lt;gp2011-200493132808@m248-68.bgsu.e...</td>\n",
       "    </tr>\n",
       "    <tr>\n",
       "      <th>2120</th>\n",
       "      <td>C:\\Users\\pradeep.thiyyagura\\Documents\\Learning...</td>\n",
       "      <td>comp.os.ms-windows.misc</td>\n",
       "      <td>\\nHi.\\nI'd like to substitute the exciting win...</td>\n",
       "    </tr>\n",
       "    <tr>\n",
       "      <th>12878</th>\n",
       "      <td>C:\\Users\\pradeep.thiyyagura\\Documents\\Learning...</td>\n",
       "      <td>sci.electronics</td>\n",
       "      <td>From article &lt;1993Apr25.201129.1239@Princeton....</td>\n",
       "    </tr>\n",
       "    <tr>\n",
       "      <th>18700</th>\n",
       "      <td>C:\\Users\\pradeep.thiyyagura\\Documents\\Learning...</td>\n",
       "      <td>talk.politics.misc</td>\n",
       "      <td>In article &lt;1993Apr21.230622.6138@gn.ecn.purdu...</td>\n",
       "    </tr>\n",
       "    <tr>\n",
       "      <th>19412</th>\n",
       "      <td>C:\\Users\\pradeep.thiyyagura\\Documents\\Learning...</td>\n",
       "      <td>talk.religion.misc</td>\n",
       "      <td>In article &lt;17609.459.uupcb@ozonehole.com&gt; ant...</td>\n",
       "    </tr>\n",
       "    <tr>\n",
       "      <th>12712</th>\n",
       "      <td>C:\\Users\\pradeep.thiyyagura\\Documents\\Learning...</td>\n",
       "      <td>sci.electronics</td>\n",
       "      <td>idh@nessie.mcc.ac.uk (Ian Hawkins) writes:\\n\\n...</td>\n",
       "    </tr>\n",
       "    <tr>\n",
       "      <th>4427</th>\n",
       "      <td>C:\\Users\\pradeep.thiyyagura\\Documents\\Learning...</td>\n",
       "      <td>comp.sys.mac.hardware</td>\n",
       "      <td>In article &lt;1qcq4gINN2q7@calvin.usc.edu&gt; wls@c...</td>\n",
       "    </tr>\n",
       "    <tr>\n",
       "      <th>13236</th>\n",
       "      <td>C:\\Users\\pradeep.thiyyagura\\Documents\\Learning...</td>\n",
       "      <td>sci.med</td>\n",
       "      <td>In article &lt;1993Apr16.194316.25522@ohsu.edu&gt; t...</td>\n",
       "    </tr>\n",
       "    <tr>\n",
       "      <th>2036</th>\n",
       "      <td>C:\\Users\\pradeep.thiyyagura\\Documents\\Learning...</td>\n",
       "      <td>comp.os.ms-windows.misc</td>\n",
       "      <td>\\nIn article &lt;1rfdkqINN8s2@zephyr.grace.cri.nz...</td>\n",
       "    </tr>\n",
       "  </tbody>\n",
       "</table>\n",
       "</div>"
      ],
      "text/plain": [
       "                                               File_path  \\\n",
       "14837  C:\\Users\\pradeep.thiyyagura\\Documents\\Learning...   \n",
       "10430  C:\\Users\\pradeep.thiyyagura\\Documents\\Learning...   \n",
       "2120   C:\\Users\\pradeep.thiyyagura\\Documents\\Learning...   \n",
       "12878  C:\\Users\\pradeep.thiyyagura\\Documents\\Learning...   \n",
       "18700  C:\\Users\\pradeep.thiyyagura\\Documents\\Learning...   \n",
       "19412  C:\\Users\\pradeep.thiyyagura\\Documents\\Learning...   \n",
       "12712  C:\\Users\\pradeep.thiyyagura\\Documents\\Learning...   \n",
       "4427   C:\\Users\\pradeep.thiyyagura\\Documents\\Learning...   \n",
       "13236  C:\\Users\\pradeep.thiyyagura\\Documents\\Learning...   \n",
       "2036   C:\\Users\\pradeep.thiyyagura\\Documents\\Learning...   \n",
       "\n",
       "                    File_label  \\\n",
       "14837                sci.space   \n",
       "10430         rec.sport.hockey   \n",
       "2120   comp.os.ms-windows.misc   \n",
       "12878          sci.electronics   \n",
       "18700       talk.politics.misc   \n",
       "19412       talk.religion.misc   \n",
       "12712          sci.electronics   \n",
       "4427     comp.sys.mac.hardware   \n",
       "13236                  sci.med   \n",
       "2036   comp.os.ms-windows.misc   \n",
       "\n",
       "                                               File_text  \n",
       "14837  In article <C69qA6.J4w.1@cs.cmu.edu>, 00042444...  \n",
       "10430  In article <gp2011-200493132808@m248-68.bgsu.e...  \n",
       "2120   \\nHi.\\nI'd like to substitute the exciting win...  \n",
       "12878  From article <1993Apr25.201129.1239@Princeton....  \n",
       "18700  In article <1993Apr21.230622.6138@gn.ecn.purdu...  \n",
       "19412  In article <17609.459.uupcb@ozonehole.com> ant...  \n",
       "12712  idh@nessie.mcc.ac.uk (Ian Hawkins) writes:\\n\\n...  \n",
       "4427   In article <1qcq4gINN2q7@calvin.usc.edu> wls@c...  \n",
       "13236  In article <1993Apr16.194316.25522@ohsu.edu> t...  \n",
       "2036   \\nIn article <1rfdkqINN8s2@zephyr.grace.cri.nz...  "
      ]
     },
     "execution_count": 14,
     "metadata": {},
     "output_type": "execute_result"
    }
   ],
   "source": [
    "news_group_df.sample(10)"
   ]
  },
  {
   "cell_type": "markdown",
   "metadata": {},
   "source": [
    "## Create a test label"
   ]
  },
  {
   "cell_type": "code",
   "execution_count": 16,
   "metadata": {},
   "outputs": [],
   "source": [
    "news_group_df.to_pickle('news_group_df_local.pkl')"
   ]
  },
  {
   "cell_type": "code",
   "execution_count": 17,
   "metadata": {
    "scrolled": true
   },
   "outputs": [],
   "source": [
    "news_group_df = pd.read_pickle(\"news_group_df_local.pkl\")"
   ]
  },
  {
   "cell_type": "code",
   "execution_count": 18,
   "metadata": {},
   "outputs": [
    {
     "name": "stderr",
     "output_type": "stream",
     "text": [
      "C:\\Users\\pradeep.thiyyagura\\AppData\\Local\\Continuum\\anaconda3\\envs\\fastai_v1\\lib\\site-packages\\pandas\\core\\indexing.py:376: SettingWithCopyWarning: \n",
      "A value is trying to be set on a copy of a slice from a DataFrame.\n",
      "Try using .loc[row_indexer,col_indexer] = value instead\n",
      "\n",
      "See the caveats in the documentation: http://pandas.pydata.org/pandas-docs/stable/user_guide/indexing.html#returning-a-view-versus-a-copy\n",
      "  self.obj[key] = _infer_fill_value(value)\n",
      "C:\\Users\\pradeep.thiyyagura\\AppData\\Local\\Continuum\\anaconda3\\envs\\fastai_v1\\lib\\site-packages\\pandas\\core\\indexing.py:494: SettingWithCopyWarning: \n",
      "A value is trying to be set on a copy of a slice from a DataFrame.\n",
      "Try using .loc[row_indexer,col_indexer] = value instead\n",
      "\n",
      "See the caveats in the documentation: http://pandas.pydata.org/pandas-docs/stable/user_guide/indexing.html#returning-a-view-versus-a-copy\n",
      "  self.obj[item] = s\n"
     ]
    }
   ],
   "source": [
    "news_dfv = pd.DataFrame([])\n",
    "np.random.seed(40)\n",
    "for label in np.unique(news_group_df['File_label']):\n",
    "    label_df = news_group_df[news_group_df[\"File_label\"]==label]\n",
    "    label_df.reset_index(drop = True)\n",
    "    rand_index = np.random.choice([False,True], size=label_df.shape[0], p=[0.8,0.2])\n",
    "    label_df.loc[:,'is_test'] = list(rand_index)\n",
    "    label_df = label_df.copy()\n",
    "    news_dfv = news_dfv.append(label_df, ignore_index=True)"
   ]
  },
  {
   "cell_type": "code",
   "execution_count": 20,
   "metadata": {
    "scrolled": true
   },
   "outputs": [
    {
     "data": {
      "image/png": "[encoded data removed]",
      "text/plain": [
       "<Figure size 1152x360 with 1 Axes>"
      ]
     },
     "metadata": {
      "needs_background": "light"
     },
     "output_type": "display_data"
    }
   ],
   "source": [
    "import seaborn as sns\n",
    "import matplotlib.pyplot as plt\n",
    "\n",
    "plt.figure(figsize=(16,5))\n",
    "sns.countplot(data=news_dfv, x = 'File_label', hue = 'is_test')\n",
    "plt.title('News group lables distribution', fontsize=16)\n",
    "plt.xlabel('File Count', fontsize=16)\n",
    "plt.ylabel('News Groups', fontsize=16)\n",
    "plt.xticks(rotation='vertical');"
   ]
  },
  {
   "cell_type": "markdown",
   "metadata": {},
   "source": [
    "## Preparing the data for Fastiai.text "
   ]
  },
  {
   "cell_type": "code",
   "execution_count": 21,
   "metadata": {},
   "outputs": [
    {
     "name": "stdout",
     "output_type": "stream",
     "text": [
      "Number of rows in  Training data\n",
      "15958\n",
      "Number of rows in Testing data\n",
      "4039\n"
     ]
    }
   ],
   "source": [
    "df_train = news_dfv[news_dfv[\"is_test\"]==False]\n",
    "df_test = news_dfv[news_dfv[\"is_test\"]==True]\n",
    "\n",
    "df_tst = df_test[[\"File_label\",\"File_text\"]]\n",
    "df_trn = df_train[[\"File_label\",\"File_text\"]]\n",
    "\n",
    "df_tst.columns = ['label','text']\n",
    "df_trn.columns = ['label','text']\n",
    "\n",
    "print(\"Number of rows in  Training data\")\n",
    "print(df_trn.shape[0])\n",
    "\n",
    "print(\"Number of rows in Testing data\")\n",
    "print(df_tst.shape[0])"
   ]
  },
  {
   "cell_type": "markdown",
   "metadata": {},
   "source": [
    "## Language Model"
   ]
  },
  {
   "cell_type": "code",
   "execution_count": 22,
   "metadata": {},
   "outputs": [],
   "source": [
    "data_lm = TextLMDataBunch.from_df('.', df_trn,df_tst,text_cols='text',label_cols='label')"
   ]
  },
  {
   "cell_type": "code",
   "execution_count": 23,
   "metadata": {
    "scrolled": true
   },
   "outputs": [
    {
     "data": {
      "text/html": [
       "<table border=\"1\" class=\"dataframe\">\n",
       "  <thead>\n",
       "    <tr style=\"text-align: right;\">\n",
       "      <th>idx</th>\n",
       "      <th>text</th>\n",
       "    </tr>\n",
       "  </thead>\n",
       "  <tbody>\n",
       "    <tr>\n",
       "      <td>0</td>\n",
       "      <td>paraphernalia are \\n  available from the xxmaj freedom xxmaj from xxmaj religion xxmaj foundation in the xxup us . \\n \\n  xxmaj write to : xxup xxunk , xxup p.o. xxmaj box 750 , xxmaj madison , xxup wi xxunk . \\n  xxmaj telephone : ( 608 ) 256 - 8900 \\n \\n  xxup evolution xxup designs \\n \\n  xxmaj evolution xxmaj designs sell the</td>\n",
       "    </tr>\n",
       "    <tr>\n",
       "      <td>1</td>\n",
       "      <td>experiments . xxmaj what started as a genetic fluke in the mid 1400 's is now \\n  scientifically engineered and bred for . xxmaj the whole bone transplant idea \\n  started in the mid sixties inspired by doctor xxmaj timothy xxmaj leary \\n  xxunk deer bone cells into small white rats . \" xxmaj gillow is quick \\n  to point out the assassination attempt on xxmaj</td>\n",
       "    </tr>\n",
       "    <tr>\n",
       "      <td>2</td>\n",
       "      <td>subject like this you just have a spiral . xxmaj what \\n  would then be a morality of a morality of morals . xxmaj labels do n't make arguments . \\n  xxmaj one really needs a solid measuring stick by which most actions can be \\n  interpreted , even though this would hardly seem moral . xxmaj for example \" xxmaj the best \\n  thing for</td>\n",
       "    </tr>\n",
       "    <tr>\n",
       "      <td>3</td>\n",
       "      <td>$ &gt; &gt; &gt; slack@ncsu.edu &lt; &lt; &lt; $ \" xxmaj my used underwear \\n  xxmaj consumption ! $ $ is legal tender in \\n  xxup po xxmaj box 30904 $ xxup bbs : ( 919 ) 782 - 3095 $ 28 countries ! \" \\n  xxmaj raleigh , xxup nc 27622 $ xxmaj warning : i hoard pennies . $ --\"bob \" \\n \\n  xxbos</td>\n",
       "    </tr>\n",
       "    <tr>\n",
       "      <td>4</td>\n",
       "      <td>+ xxmaj unix : sunos , a / xxup ix , xxup hp - xxup ux , xxmaj unicos , xxup dg / xxup ux , xxmaj ultrix \\n  + xxmaj other platforms : xxup vms , xxmaj amiga / xxmaj exec , xxup ms - xxup dos , xxup os / 2 , next \\n  + \\n  + xxmaj authors : xxmaj many . xxmaj the</td>\n",
       "    </tr>\n",
       "  </tbody>\n",
       "</table>"
      ],
      "text/plain": [
       "<IPython.core.display.HTML object>"
      ]
     },
     "metadata": {},
     "output_type": "display_data"
    }
   ],
   "source": [
    "data_lm.show_batch()"
   ]
  },
  {
   "cell_type": "code",
   "execution_count": 24,
   "metadata": {},
   "outputs": [],
   "source": [
    "data_lm.save()"
   ]
  },
  {
   "cell_type": "code",
   "execution_count": 25,
   "metadata": {},
   "outputs": [],
   "source": [
    "learn = language_model_learner(data_lm, AWD_LSTM, drop_mult=0.3,pretrained=True)"
   ]
  },
  {
   "cell_type": "code",
   "execution_count": 26,
   "metadata": {},
   "outputs": [],
   "source": [
    "TEXTS = [\"Staring into the sky\",\n",
    "         \"Politics are so divided these days\",\n",
    "         \"I really like this software\"]\n",
    "\n",
    "N_WORDS = 40\n",
    "N_SENTENCES = 2"
   ]
  },
  {
   "cell_type": "markdown",
   "metadata": {},
   "source": [
    "### Before training the language model"
   ]
  },
  {
   "cell_type": "code",
   "execution_count": 27,
   "metadata": {},
   "outputs": [
    {
     "name": "stdout",
     "output_type": "stream",
     "text": [
      "Staring into the sky with a white eye line due to the light and the light , the red eye line is the main feature of the eye . The eye is able to lock as well as see the light , and\n",
      "Staring into the sky by a mirror is an image of the moon . The bird 's appearance is reflected in the nshah@acs.bu.edu image , where the colour of the sky is shown . The body of the Venus - like\n",
      "\n",
      "\n",
      "Politics are so divided these days are common only within the National Assembly . Each of the \" Parties \" is the party that is elected . It is the national party ( DEMOCRAT ) of the U.S.\n",
      "Politics are so divided these days include : \n",
      "  Politics of politics , religion , politics , religion , religion , religion , religion , religion and religion . \n",
      "  Politics \n",
      "  The political climate typically associated with foreign authority is not contradictory\n",
      "\n",
      "\n",
      "I really like this software you 'll expect . You can get a lot of money and it 's just because you have a good job . You can ' t put the Fisher Company in the game , i think\n",
      "I really like this software [ Silicon Valley ] , it can be . You can have something similar to L.A. Law with us . It 's a very different way of being very different from the other\n",
      "\n",
      "\n"
     ]
    }
   ],
   "source": [
    "for TEXT in TEXTS:\n",
    "    print(\"\\n\".join(learn.predict(TEXT, N_WORDS, temperature=0.75) for _ in range(N_SENTENCES)))\n",
    "    print(\"\\n\")"
   ]
  },
  {
   "cell_type": "code",
   "execution_count": 43,
   "metadata": {
    "scrolled": true
   },
   "outputs": [
    {
     "data": {
      "text/html": [],
      "text/plain": [
       "<IPython.core.display.HTML object>"
      ]
     },
     "metadata": {},
     "output_type": "display_data"
    },
    {
     "name": "stdout",
     "output_type": "stream",
     "text": [
      "LR Finder is complete, type {learner_name}.recorder.plot() to see the graph.\n",
      "Min numerical gradient: 2.75E-02\n",
      "Min loss divided by 10: 1.45E-02\n"
     ]
    },
    {
     "data": {
      "image/png": "[encoded data removed]",
      "text/plain": [
       "<Figure size 432x288 with 1 Axes>"
      ]
     },
     "metadata": {
      "needs_background": "light"
     },
     "output_type": "display_data"
    }
   ],
   "source": [
    "learn.lr_find()\n",
    "learn.recorder.plot(suggestion=True)\n",
    "#learn.recorder.plot(suggestion=True,skip_end=15)"
   ]
  },
  {
   "cell_type": "code",
   "execution_count": 44,
   "metadata": {},
   "outputs": [
    {
     "data": {
      "text/html": [
       "<table border=\"1\" class=\"dataframe\">\n",
       "  <thead>\n",
       "    <tr style=\"text-align: left;\">\n",
       "      <th>epoch</th>\n",
       "      <th>train_loss</th>\n",
       "      <th>valid_loss</th>\n",
       "      <th>accuracy</th>\n",
       "      <th>time</th>\n",
       "    </tr>\n",
       "  </thead>\n",
       "  <tbody>\n",
       "    <tr>\n",
       "      <td>0</td>\n",
       "      <td>4.148411</td>\n",
       "      <td>3.171141</td>\n",
       "      <td>0.342857</td>\n",
       "      <td>05:12</td>\n",
       "    </tr>\n",
       "    <tr>\n",
       "      <td>1</td>\n",
       "      <td>4.117485</td>\n",
       "      <td>3.046154</td>\n",
       "      <td>0.385714</td>\n",
       "      <td>05:11</td>\n",
       "    </tr>\n",
       "    <tr>\n",
       "      <td>2</td>\n",
       "      <td>3.884022</td>\n",
       "      <td>2.907020</td>\n",
       "      <td>0.371429</td>\n",
       "      <td>05:11</td>\n",
       "    </tr>\n",
       "    <tr>\n",
       "      <td>3</td>\n",
       "      <td>3.546596</td>\n",
       "      <td>2.854224</td>\n",
       "      <td>0.400000</td>\n",
       "      <td>05:11</td>\n",
       "    </tr>\n",
       "    <tr>\n",
       "      <td>4</td>\n",
       "      <td>3.316654</td>\n",
       "      <td>2.847031</td>\n",
       "      <td>0.400000</td>\n",
       "      <td>05:11</td>\n",
       "    </tr>\n",
       "  </tbody>\n",
       "</table>"
      ],
      "text/plain": [
       "<IPython.core.display.HTML object>"
      ]
     },
     "metadata": {},
     "output_type": "display_data"
    },
    {
     "name": "stdout",
     "output_type": "stream",
     "text": [
      "Better model found at epoch 0 with valid_loss value: 3.1711409091949463.\n",
      "Better model found at epoch 1 with valid_loss value: 3.0461535453796387.\n",
      "Better model found at epoch 2 with valid_loss value: 2.907020330429077.\n",
      "Better model found at epoch 3 with valid_loss value: 2.8542237281799316.\n",
      "Better model found at epoch 4 with valid_loss value: 2.847031354904175.\n"
     ]
    }
   ],
   "source": [
    "learn.fit_one_cycle(5, 2.75E-02,callbacks=[SaveModelCallback(learn, name=\"best_lm\")], moms=(0.8,0.7))"
   ]
  },
  {
   "cell_type": "code",
   "execution_count": 28,
   "metadata": {},
   "outputs": [],
   "source": [
    "learn.load('best_lm');"
   ]
  },
  {
   "cell_type": "markdown",
   "metadata": {},
   "source": [
    "### After training the language model with 20 news groups data"
   ]
  },
  {
   "cell_type": "code",
   "execution_count": 32,
   "metadata": {
    "scrolled": true
   },
   "outputs": [
    {
     "name": "stdout",
     "output_type": "stream",
     "text": [
      "Staring into the sky of the 0 Astrophysics reading in particular . All of 'm green atheists \n",
      "  results in though atheists : \n",
      "  Health care would be nice believe they were not since arabs for the \t  to date \n",
      " \n",
      "Staring into the sky % of the 340 i have been underrated . \n",
      "  +46 ( Basis - is a person who \n",
      "  had a Assumptions assumptions that he was AV / fixture martyr deletia- tvtwm . \n",
      " \n",
      "\n",
      "\n",
      "Politics are so divided these days ) ' ) maybe you would have to be \n",
      "  Clipper Chip ( problem send it to the MISSION - . \n",
      " \n",
      "  In article \\ polycarp > sanction will : \n",
      " \n",
      "  > To 9\n",
      "Politics are so divided these days ' Clipper Chip ( i civil - that they are n't here , but i am not interested in the internet . \n",
      " \n",
      "  The Clipper Chip is a repeat in the Clipper chip .\n",
      "\n",
      "\n",
      "I really like this software to be a nl.cs.cmu.edu non of the practices . While . \n",
      " \n",
      "  -- \n",
      "  Beyond Aluminum , 1996 and Instructed \n",
      " \n",
      "  File : Post Koresh . Scaling . Got 1.1\n",
      "I really like this software does not go . You work n't \n",
      "  civil it is a good subject . \n",
      " \n",
      "  i have purchased a ICONS / names and have \n",
      "  been DROPPED with LOCATED at the Test Group\n",
      "\n",
      "\n"
     ]
    }
   ],
   "source": [
    "for TEXT in TEXTS:\n",
    "    print(\"\\n\".join(learn.predict(TEXT, N_WORDS, temperature=0.75) for _ in range(N_SENTENCES)))\n",
    "    print(\"\\n\")"
   ]
  },
  {
   "cell_type": "code",
   "execution_count": 13,
   "metadata": {},
   "outputs": [],
   "source": [
    "learn.save_encoder('news_fine_tuned_enc')"
   ]
  },
  {
   "cell_type": "markdown",
   "metadata": {},
   "source": [
    "## Prepare data for classification model"
   ]
  },
  {
   "cell_type": "code",
   "execution_count": 33,
   "metadata": {},
   "outputs": [],
   "source": [
    "data_clas  = TextClasDataBunch.from_df('.',\n",
    "                                       df_trn,\n",
    "                                       df_tst,\n",
    "                                       vocab=data_lm.train_ds.vocab,\n",
    "                                       bs=48)"
   ]
  },
  {
   "cell_type": "code",
   "execution_count": 34,
   "metadata": {
    "scrolled": true
   },
   "outputs": [
    {
     "data": {
      "text/plain": [
       "(20,\n",
       " ['alt.atheism',\n",
       "  'comp.graphics',\n",
       "  'comp.os.ms-windows.misc',\n",
       "  'comp.sys.ibm.pc.hardware',\n",
       "  'comp.sys.mac.hardware',\n",
       "  'comp.windows.x',\n",
       "  'misc.forsale',\n",
       "  'rec.autos',\n",
       "  'rec.motorcycles',\n",
       "  'rec.sport.baseball',\n",
       "  'rec.sport.hockey',\n",
       "  'sci.crypt',\n",
       "  'sci.electronics',\n",
       "  'sci.med',\n",
       "  'sci.space',\n",
       "  'soc.religion.christian',\n",
       "  'talk.politics.guns',\n",
       "  'talk.politics.mideast',\n",
       "  'talk.politics.misc',\n",
       "  'talk.religion.misc'])"
      ]
     },
     "execution_count": 34,
     "metadata": {},
     "output_type": "execute_result"
    }
   ],
   "source": [
    "data_clas.c,data_clas.classes"
   ]
  },
  {
   "cell_type": "code",
   "execution_count": 55,
   "metadata": {},
   "outputs": [
    {
     "data": {
      "text/html": [
       "<table border=\"1\" class=\"dataframe\">\n",
       "  <thead>\n",
       "    <tr style=\"text-align: right;\">\n",
       "      <th>text</th>\n",
       "      <th>target</th>\n",
       "    </tr>\n",
       "  </thead>\n",
       "  <tbody>\n",
       "    <tr>\n",
       "      <td>xxbos xxunk ( xxmaj owen xxmaj adair ) writes : \\n \\n  &gt; xxmaj in article &lt; 1993apr20.173506.2288@dlss2 &gt; james@dlss2 ( xxmaj james xxmaj cummings ) writes : \\n  &gt; &gt; xxmaj newsgroups : comp.os.ms-windows.misc \\n  &gt; &gt; xxmaj path : atldbs!uupsi!psinntp!uunet!gatech!howland.reston.ans.net!bogus.sura.net!darwin.sura.net!convex!seas.smu.edu!void!dalnet!dlss2!james \\n  &gt; &gt; xxmaj from : james@dlss2 ( xxmaj james xxmaj cummings ) \\n  &gt; &gt; xxmaj subject : xxmaj re : xxmaj</td>\n",
       "      <td>comp.os.ms-windows.misc</td>\n",
       "    </tr>\n",
       "    <tr>\n",
       "      <td>xxbos xxrep 10 - cut here xxrep 10 - part 03 / 03 \\n  xxup xxunk a \\ - \\ ( $ xxup xxunk xxup xxunk &lt; # xxup xxunk ( \\n  xxup xxunk u ) xxup d@ / xxup xxunk &lt; xxup xxunk &lt; xxup xxunk # xxup xxunk xxup ad . \" / , ( , xxup v1 # &amp; w ; \\n  xxup xxunk</td>\n",
       "      <td>comp.os.ms-windows.misc</td>\n",
       "    </tr>\n",
       "    <tr>\n",
       "      <td>xxbos xxmaj archive - name : net - privacy / part2 \\n  xxmaj last - modified : 1993 / 3 / 3 \\n  xxmaj version : 2.1 \\n \\n \\n  xxup identity , xxup privacy , and xxup anonymity on the xxup internet \\n  xxrep 48 = \\n \\n  ( c ) 1993 xxup l. xxmaj detweiler . xxmaj not for commercial use except by</td>\n",
       "      <td>sci.crypt</td>\n",
       "    </tr>\n",
       "    <tr>\n",
       "      <td>xxbos xxmaj archive - name : jpeg - faq \\n  xxmaj last - modified : 2 xxmaj may 1993 \\n \\n  xxmaj this xxup faq article discusses xxup jpeg image compression . xxmaj suggestions for \\n  additions and clarifications are welcome . \\n \\n  xxmaj new since version of 18 xxmaj april 1993 : \\n  * xxmaj new version of xxup xv supports 24-bit viewing</td>\n",
       "      <td>comp.graphics</td>\n",
       "    </tr>\n",
       "    <tr>\n",
       "      <td>xxbos xxmaj we have received a number of requests for a reposting of the \\n  xxmaj international xxmaj obfuscated c xxmaj code xxmaj contest rules and guidelines . xxmaj also \\n  some people requested that these rules be posted to a wider set of \\n  groups . xxmaj sorry for the cross posting . \\n \\n  xxmaj some technical clarifications were made to the rules and</td>\n",
       "      <td>comp.windows.x</td>\n",
       "    </tr>\n",
       "  </tbody>\n",
       "</table>"
      ],
      "text/plain": [
       "<IPython.core.display.HTML object>"
      ]
     },
     "metadata": {},
     "output_type": "display_data"
    }
   ],
   "source": [
    "data_clas.show_batch()"
   ]
  },
  {
   "cell_type": "code",
   "execution_count": 65,
   "metadata": {},
   "outputs": [
    {
     "name": "stdout",
     "output_type": "stream",
     "text": [
      "0 xxunk\n",
      "1 xxpad\n",
      "2 xxbos\n",
      "3 xxeos\n",
      "4 xxfld\n",
      "5 xxmaj\n",
      "6 xxup\n",
      "7 xxrep\n",
      "8 xxwrep\n",
      "9 \n",
      " \n",
      "10 ,\n",
      "11 the\n",
      "12 .\n",
      "13 >\n",
      "14 to\n",
      "15 of\n",
      "16 a\n",
      "17 \n",
      " \n",
      " \n",
      "18 and\n",
      "19 i\n"
     ]
    }
   ],
   "source": [
    "for i, tok in enumerate(data_clas.vocab.itos[:20]):\n",
    "    print(f'{i} {tok}')"
   ]
  },
  {
   "cell_type": "code",
   "execution_count": 67,
   "metadata": {},
   "outputs": [
    {
     "data": {
      "text/plain": [
       "'xxbos xxmaj archive - name : atheism / resources \\n  xxmaj alt - atheism - archive - name : resources'"
      ]
     },
     "execution_count": 67,
     "metadata": {},
     "output_type": "execute_result"
    }
   ],
   "source": [
    "data_clas.train_ds[0][0].text[:100]"
   ]
  },
  {
   "cell_type": "code",
   "execution_count": 61,
   "metadata": {},
   "outputs": [
    {
     "data": {
      "text/plain": [
       "array([   2,    5, 1424,   22,  302,   27, 1592,   29, 1376,    9], dtype=int64)"
      ]
     },
     "execution_count": 61,
     "metadata": {},
     "output_type": "execute_result"
    }
   ],
   "source": [
    "data_clas.train_ds[0][0].data[:10]"
   ]
  },
  {
   "cell_type": "code",
   "execution_count": 68,
   "metadata": {},
   "outputs": [],
   "source": [
    "data_clas.save()"
   ]
  },
  {
   "cell_type": "code",
   "execution_count": 36,
   "metadata": {},
   "outputs": [],
   "source": [
    "learn_clas = text_classifier_learner(data_clas, AWD_LSTM, drop_mult=0.3)"
   ]
  },
  {
   "cell_type": "code",
   "execution_count": 11,
   "metadata": {},
   "outputs": [],
   "source": [
    "learn_clas.load_encoder('news_fine_tuned_enc')"
   ]
  },
  {
   "cell_type": "code",
   "execution_count": 71,
   "metadata": {},
   "outputs": [
    {
     "data": {
      "text/html": [],
      "text/plain": [
       "<IPython.core.display.HTML object>"
      ]
     },
     "metadata": {},
     "output_type": "display_data"
    },
    {
     "name": "stdout",
     "output_type": "stream",
     "text": [
      "LR Finder is complete, type {learner_name}.recorder.plot() to see the graph.\n",
      "Min numerical gradient: 5.75E-02\n",
      "Min loss divided by 10: 2.51E-02\n"
     ]
    },
    {
     "data": {
      "image/png": "[encoded data removed]",
      "text/plain": [
       "<Figure size 432x288 with 1 Axes>"
      ]
     },
     "metadata": {
      "needs_background": "light"
     },
     "output_type": "display_data"
    }
   ],
   "source": [
    "learn_clas.lr_find()\n",
    "learn_clas.recorder.plot(suggestion=True,skip_end=15)"
   ]
  },
  {
   "cell_type": "code",
   "execution_count": 73,
   "metadata": {},
   "outputs": [
    {
     "data": {
      "text/html": [
       "<table border=\"1\" class=\"dataframe\">\n",
       "  <thead>\n",
       "    <tr style=\"text-align: left;\">\n",
       "      <th>epoch</th>\n",
       "      <th>train_loss</th>\n",
       "      <th>valid_loss</th>\n",
       "      <th>accuracy</th>\n",
       "      <th>time</th>\n",
       "    </tr>\n",
       "  </thead>\n",
       "  <tbody>\n",
       "    <tr>\n",
       "      <td>0</td>\n",
       "      <td>1.158847</td>\n",
       "      <td>0.843525</td>\n",
       "      <td>0.726913</td>\n",
       "      <td>02:58</td>\n",
       "    </tr>\n",
       "  </tbody>\n",
       "</table>"
      ],
      "text/plain": [
       "<IPython.core.display.HTML object>"
      ]
     },
     "metadata": {},
     "output_type": "display_data"
    }
   ],
   "source": [
    "learn_clas.fit_one_cycle(1,5.75E-02,moms=(0.8,0.7))"
   ]
  },
  {
   "cell_type": "code",
   "execution_count": 74,
   "metadata": {},
   "outputs": [],
   "source": [
    "learn_clas.save('clas_first')"
   ]
  },
  {
   "cell_type": "code",
   "execution_count": 76,
   "metadata": {},
   "outputs": [],
   "source": [
    "learn_clas.load('clas_first');"
   ]
  },
  {
   "cell_type": "code",
   "execution_count": 77,
   "metadata": {
    "scrolled": true
   },
   "outputs": [
    {
     "data": {
      "text/html": [
       "<table border=\"1\" class=\"dataframe\">\n",
       "  <thead>\n",
       "    <tr style=\"text-align: left;\">\n",
       "      <th>epoch</th>\n",
       "      <th>train_loss</th>\n",
       "      <th>valid_loss</th>\n",
       "      <th>accuracy</th>\n",
       "      <th>time</th>\n",
       "    </tr>\n",
       "  </thead>\n",
       "  <tbody>\n",
       "    <tr>\n",
       "      <td>0</td>\n",
       "      <td>0.852581</td>\n",
       "      <td>0.719486</td>\n",
       "      <td>0.777173</td>\n",
       "      <td>03:02</td>\n",
       "    </tr>\n",
       "  </tbody>\n",
       "</table>"
      ],
      "text/plain": [
       "<IPython.core.display.HTML object>"
      ]
     },
     "metadata": {},
     "output_type": "display_data"
    }
   ],
   "source": [
    "learn_clas.freeze_to(-2)\n",
    "learn_clas.fit_one_cycle(1, slice(1e-2/(2.6**4),1e-2), moms=(0.8,0.7))"
   ]
  },
  {
   "cell_type": "code",
   "execution_count": 78,
   "metadata": {},
   "outputs": [],
   "source": [
    "learn_clas.save('clas_second')"
   ]
  },
  {
   "cell_type": "code",
   "execution_count": 13,
   "metadata": {},
   "outputs": [],
   "source": [
    "learn_clas.load('clas_second');"
   ]
  },
  {
   "cell_type": "code",
   "execution_count": 19,
   "metadata": {},
   "outputs": [],
   "source": [
    "import torch\n",
    "torch.cuda.empty_cache()"
   ]
  },
  {
   "cell_type": "code",
   "execution_count": 18,
   "metadata": {
    "scrolled": true
   },
   "outputs": [
    {
     "data": {
      "text/html": [
       "<table border=\"1\" class=\"dataframe\">\n",
       "  <thead>\n",
       "    <tr style=\"text-align: left;\">\n",
       "      <th>epoch</th>\n",
       "      <th>train_loss</th>\n",
       "      <th>valid_loss</th>\n",
       "      <th>accuracy</th>\n",
       "      <th>time</th>\n",
       "    </tr>\n",
       "  </thead>\n",
       "  <tbody>\n",
       "    <tr>\n",
       "      <td>0</td>\n",
       "      <td>0.657458</td>\n",
       "      <td>0.579585</td>\n",
       "      <td>0.810349</td>\n",
       "      <td>04:23</td>\n",
       "    </tr>\n",
       "  </tbody>\n",
       "</table>"
      ],
      "text/plain": [
       "<IPython.core.display.HTML object>"
      ]
     },
     "metadata": {},
     "output_type": "display_data"
    }
   ],
   "source": [
    "learn_clas.freeze_to(-3)\n",
    "learn_clas.fit_one_cycle(1, slice(5e-3/(2.6**4),5e-3), moms=(0.8,0.7))"
   ]
  },
  {
   "cell_type": "code",
   "execution_count": 14,
   "metadata": {},
   "outputs": [],
   "source": [
    "learn_clas.load('clas_second');"
   ]
  },
  {
   "cell_type": "code",
   "execution_count": 15,
   "metadata": {},
   "outputs": [
    {
     "data": {
      "text/html": [
       "<table border=\"1\" class=\"dataframe\">\n",
       "  <thead>\n",
       "    <tr style=\"text-align: left;\">\n",
       "      <th>epoch</th>\n",
       "      <th>train_loss</th>\n",
       "      <th>valid_loss</th>\n",
       "      <th>accuracy</th>\n",
       "      <th>time</th>\n",
       "    </tr>\n",
       "  </thead>\n",
       "  <tbody>\n",
       "    <tr>\n",
       "      <td>0</td>\n",
       "      <td>0.704038</td>\n",
       "      <td>0.651090</td>\n",
       "      <td>0.791037</td>\n",
       "      <td>04:20</td>\n",
       "    </tr>\n",
       "    <tr>\n",
       "      <td>1</td>\n",
       "      <td>0.603815</td>\n",
       "      <td>0.622480</td>\n",
       "      <td>0.802922</td>\n",
       "      <td>04:20</td>\n",
       "    </tr>\n",
       "    <tr>\n",
       "      <td>2</td>\n",
       "      <td>0.571168</td>\n",
       "      <td>0.595029</td>\n",
       "      <td>0.818272</td>\n",
       "      <td>03:57</td>\n",
       "    </tr>\n",
       "    <tr>\n",
       "      <td>3</td>\n",
       "      <td>0.457325</td>\n",
       "      <td>0.573945</td>\n",
       "      <td>0.825947</td>\n",
       "      <td>04:22</td>\n",
       "    </tr>\n",
       "    <tr>\n",
       "      <td>4</td>\n",
       "      <td>0.334473</td>\n",
       "      <td>0.548988</td>\n",
       "      <td>0.846002</td>\n",
       "      <td>04:05</td>\n",
       "    </tr>\n",
       "    <tr>\n",
       "      <td>5</td>\n",
       "      <td>0.258782</td>\n",
       "      <td>0.559543</td>\n",
       "      <td>0.851448</td>\n",
       "      <td>04:10</td>\n",
       "    </tr>\n",
       "    <tr>\n",
       "      <td>6</td>\n",
       "      <td>0.174118</td>\n",
       "      <td>0.568482</td>\n",
       "      <td>0.849963</td>\n",
       "      <td>04:01</td>\n",
       "    </tr>\n",
       "    <tr>\n",
       "      <td>7</td>\n",
       "      <td>0.153250</td>\n",
       "      <td>0.567101</td>\n",
       "      <td>0.852934</td>\n",
       "      <td>04:40</td>\n",
       "    </tr>\n",
       "    <tr>\n",
       "      <td>8</td>\n",
       "      <td>0.106280</td>\n",
       "      <td>0.584373</td>\n",
       "      <td>0.853677</td>\n",
       "      <td>04:10</td>\n",
       "    </tr>\n",
       "    <tr>\n",
       "      <td>9</td>\n",
       "      <td>0.099035</td>\n",
       "      <td>0.588052</td>\n",
       "      <td>0.851944</td>\n",
       "      <td>04:23</td>\n",
       "    </tr>\n",
       "  </tbody>\n",
       "</table>"
      ],
      "text/plain": [
       "<IPython.core.display.HTML object>"
      ]
     },
     "metadata": {},
     "output_type": "display_data"
    }
   ],
   "source": [
    "learn_clas.freeze_to(-3)\n",
    "learn_clas.fit_one_cycle(10, slice(5e-3/(2.6**4),5e-3), moms=(0.8,0.7) )"
   ]
  },
  {
   "cell_type": "code",
   "execution_count": 16,
   "metadata": {},
   "outputs": [],
   "source": [
    "learn_clas.save('clas_third')"
   ]
  },
  {
   "cell_type": "code",
   "execution_count": 12,
   "metadata": {},
   "outputs": [],
   "source": [
    "learn_clas.load('clas_second');"
   ]
  },
  {
   "cell_type": "code",
   "execution_count": 13,
   "metadata": {},
   "outputs": [
    {
     "data": {
      "text/html": [
       "\n",
       "    <div>\n",
       "        <style>\n",
       "            /* Turns off some styling */\n",
       "            progress {\n",
       "                /* gets rid of default border in Firefox and Opera. */\n",
       "                border: none;\n",
       "                /* Needs to be in here for Safari polyfill so background images work as expected. */\n",
       "                background-size: auto;\n",
       "            }\n",
       "            .progress-bar-interrupted, .progress-bar-interrupted::-webkit-progress-bar {\n",
       "                background: #F44336;\n",
       "            }\n",
       "        </style>\n",
       "      <progress value='0' class='' max='4', style='width:300px; height:20px; vertical-align: middle;'></progress>\n",
       "      0.00% [0/4 00:00<00:00]\n",
       "    </div>\n",
       "    \n",
       "<table border=\"1\" class=\"dataframe\">\n",
       "  <thead>\n",
       "    <tr style=\"text-align: left;\">\n",
       "      <th>epoch</th>\n",
       "      <th>train_loss</th>\n",
       "      <th>valid_loss</th>\n",
       "      <th>accuracy</th>\n",
       "      <th>time</th>\n",
       "    </tr>\n",
       "  </thead>\n",
       "  <tbody>\n",
       "  </tbody>\n",
       "</table><p>\n",
       "\n",
       "    <div>\n",
       "        <style>\n",
       "            /* Turns off some styling */\n",
       "            progress {\n",
       "                /* gets rid of default border in Firefox and Opera. */\n",
       "                border: none;\n",
       "                /* Needs to be in here for Safari polyfill so background images work as expected. */\n",
       "                background-size: auto;\n",
       "            }\n",
       "            .progress-bar-interrupted, .progress-bar-interrupted::-webkit-progress-bar {\n",
       "                background: #F44336;\n",
       "            }\n",
       "        </style>\n",
       "      <progress value='0' class='progress-bar-interrupted' max='332', style='width:300px; height:20px; vertical-align: middle;'></progress>\n",
       "      Interrupted\n",
       "    </div>\n",
       "    "
      ],
      "text/plain": [
       "<IPython.core.display.HTML object>"
      ]
     },
     "metadata": {},
     "output_type": "display_data"
    },
    {
     "ename": "RuntimeError",
     "evalue": "CUDA out of memory. Tried to allocate 101.13 MiB (GPU 0; 12.00 GiB total capacity; 9.35 GiB already allocated; 98.45 MiB free; 136.49 MiB cached)",
     "output_type": "error",
     "traceback": [
      "\u001b[1;31m---------------------------------------------------------------------------\u001b[0m",
      "\u001b[1;31mRuntimeError\u001b[0m                              Traceback (most recent call last)",
      "\u001b[1;32m<ipython-input-13-9d81341ed82a>\u001b[0m in \u001b[0;36m<module>\u001b[1;34m\u001b[0m\n\u001b[0;32m      1\u001b[0m \u001b[0mlearn_clas\u001b[0m\u001b[1;33m.\u001b[0m\u001b[0mfreeze_to\u001b[0m\u001b[1;33m(\u001b[0m\u001b[1;33m-\u001b[0m\u001b[1;36m6\u001b[0m\u001b[1;33m)\u001b[0m\u001b[1;33m\u001b[0m\u001b[1;33m\u001b[0m\u001b[0m\n\u001b[1;32m----> 2\u001b[1;33m \u001b[0mlearn_clas\u001b[0m\u001b[1;33m.\u001b[0m\u001b[0mfit_one_cycle\u001b[0m\u001b[1;33m(\u001b[0m\u001b[1;36m4\u001b[0m\u001b[1;33m,\u001b[0m \u001b[0mslice\u001b[0m\u001b[1;33m(\u001b[0m\u001b[1;36m5e-4\u001b[0m\u001b[1;33m/\u001b[0m\u001b[1;33m(\u001b[0m\u001b[1;36m2.6\u001b[0m\u001b[1;33m**\u001b[0m\u001b[1;36m4\u001b[0m\u001b[1;33m)\u001b[0m\u001b[1;33m,\u001b[0m\u001b[1;36m5e-4\u001b[0m\u001b[1;33m)\u001b[0m\u001b[1;33m,\u001b[0m \u001b[0mmoms\u001b[0m\u001b[1;33m=\u001b[0m\u001b[1;33m(\u001b[0m\u001b[1;36m0.8\u001b[0m\u001b[1;33m,\u001b[0m\u001b[1;36m0.7\u001b[0m\u001b[1;33m)\u001b[0m \u001b[1;33m)\u001b[0m\u001b[1;33m\u001b[0m\u001b[1;33m\u001b[0m\u001b[0m\n\u001b[0m",
      "\u001b[1;32m~\\.conda\\envs\\fastai_v1\\lib\\site-packages\\fastai\\train.py\u001b[0m in \u001b[0;36mfit_one_cycle\u001b[1;34m(learn, cyc_len, max_lr, moms, div_factor, pct_start, final_div, wd, callbacks, tot_epochs, start_epoch)\u001b[0m\n\u001b[0;32m     20\u001b[0m     callbacks.append(OneCycleScheduler(learn, max_lr, moms=moms, div_factor=div_factor, pct_start=pct_start,\n\u001b[0;32m     21\u001b[0m                                        final_div=final_div, tot_epochs=tot_epochs, start_epoch=start_epoch))\n\u001b[1;32m---> 22\u001b[1;33m     \u001b[0mlearn\u001b[0m\u001b[1;33m.\u001b[0m\u001b[0mfit\u001b[0m\u001b[1;33m(\u001b[0m\u001b[0mcyc_len\u001b[0m\u001b[1;33m,\u001b[0m \u001b[0mmax_lr\u001b[0m\u001b[1;33m,\u001b[0m \u001b[0mwd\u001b[0m\u001b[1;33m=\u001b[0m\u001b[0mwd\u001b[0m\u001b[1;33m,\u001b[0m \u001b[0mcallbacks\u001b[0m\u001b[1;33m=\u001b[0m\u001b[0mcallbacks\u001b[0m\u001b[1;33m)\u001b[0m\u001b[1;33m\u001b[0m\u001b[1;33m\u001b[0m\u001b[0m\n\u001b[0m\u001b[0;32m     23\u001b[0m \u001b[1;33m\u001b[0m\u001b[0m\n\u001b[0;32m     24\u001b[0m \u001b[1;32mdef\u001b[0m \u001b[0mlr_find\u001b[0m\u001b[1;33m(\u001b[0m\u001b[0mlearn\u001b[0m\u001b[1;33m:\u001b[0m\u001b[0mLearner\u001b[0m\u001b[1;33m,\u001b[0m \u001b[0mstart_lr\u001b[0m\u001b[1;33m:\u001b[0m\u001b[0mFloats\u001b[0m\u001b[1;33m=\u001b[0m\u001b[1;36m1e-7\u001b[0m\u001b[1;33m,\u001b[0m \u001b[0mend_lr\u001b[0m\u001b[1;33m:\u001b[0m\u001b[0mFloats\u001b[0m\u001b[1;33m=\u001b[0m\u001b[1;36m10\u001b[0m\u001b[1;33m,\u001b[0m \u001b[0mnum_it\u001b[0m\u001b[1;33m:\u001b[0m\u001b[0mint\u001b[0m\u001b[1;33m=\u001b[0m\u001b[1;36m100\u001b[0m\u001b[1;33m,\u001b[0m \u001b[0mstop_div\u001b[0m\u001b[1;33m:\u001b[0m\u001b[0mbool\u001b[0m\u001b[1;33m=\u001b[0m\u001b[1;32mTrue\u001b[0m\u001b[1;33m,\u001b[0m \u001b[0mwd\u001b[0m\u001b[1;33m:\u001b[0m\u001b[0mfloat\u001b[0m\u001b[1;33m=\u001b[0m\u001b[1;32mNone\u001b[0m\u001b[1;33m)\u001b[0m\u001b[1;33m:\u001b[0m\u001b[1;33m\u001b[0m\u001b[1;33m\u001b[0m\u001b[0m\n",
      "\u001b[1;32m~\\.conda\\envs\\fastai_v1\\lib\\site-packages\\fastai\\basic_train.py\u001b[0m in \u001b[0;36mfit\u001b[1;34m(self, epochs, lr, wd, callbacks)\u001b[0m\n\u001b[0;32m    198\u001b[0m         \u001b[0mcallbacks\u001b[0m \u001b[1;33m=\u001b[0m \u001b[1;33m[\u001b[0m\u001b[0mcb\u001b[0m\u001b[1;33m(\u001b[0m\u001b[0mself\u001b[0m\u001b[1;33m)\u001b[0m \u001b[1;32mfor\u001b[0m \u001b[0mcb\u001b[0m \u001b[1;32min\u001b[0m \u001b[0mself\u001b[0m\u001b[1;33m.\u001b[0m\u001b[0mcallback_fns\u001b[0m \u001b[1;33m+\u001b[0m \u001b[0mlistify\u001b[0m\u001b[1;33m(\u001b[0m\u001b[0mdefaults\u001b[0m\u001b[1;33m.\u001b[0m\u001b[0mextra_callback_fns\u001b[0m\u001b[1;33m)\u001b[0m\u001b[1;33m]\u001b[0m \u001b[1;33m+\u001b[0m \u001b[0mlistify\u001b[0m\u001b[1;33m(\u001b[0m\u001b[0mcallbacks\u001b[0m\u001b[1;33m)\u001b[0m\u001b[1;33m\u001b[0m\u001b[1;33m\u001b[0m\u001b[0m\n\u001b[0;32m    199\u001b[0m         \u001b[1;32mif\u001b[0m \u001b[0mdefaults\u001b[0m\u001b[1;33m.\u001b[0m\u001b[0mextra_callbacks\u001b[0m \u001b[1;32mis\u001b[0m \u001b[1;32mnot\u001b[0m \u001b[1;32mNone\u001b[0m\u001b[1;33m:\u001b[0m \u001b[0mcallbacks\u001b[0m \u001b[1;33m+=\u001b[0m \u001b[0mdefaults\u001b[0m\u001b[1;33m.\u001b[0m\u001b[0mextra_callbacks\u001b[0m\u001b[1;33m\u001b[0m\u001b[1;33m\u001b[0m\u001b[0m\n\u001b[1;32m--> 200\u001b[1;33m         \u001b[0mfit\u001b[0m\u001b[1;33m(\u001b[0m\u001b[0mepochs\u001b[0m\u001b[1;33m,\u001b[0m \u001b[0mself\u001b[0m\u001b[1;33m,\u001b[0m \u001b[0mmetrics\u001b[0m\u001b[1;33m=\u001b[0m\u001b[0mself\u001b[0m\u001b[1;33m.\u001b[0m\u001b[0mmetrics\u001b[0m\u001b[1;33m,\u001b[0m \u001b[0mcallbacks\u001b[0m\u001b[1;33m=\u001b[0m\u001b[0mself\u001b[0m\u001b[1;33m.\u001b[0m\u001b[0mcallbacks\u001b[0m\u001b[1;33m+\u001b[0m\u001b[0mcallbacks\u001b[0m\u001b[1;33m)\u001b[0m\u001b[1;33m\u001b[0m\u001b[1;33m\u001b[0m\u001b[0m\n\u001b[0m\u001b[0;32m    201\u001b[0m \u001b[1;33m\u001b[0m\u001b[0m\n\u001b[0;32m    202\u001b[0m     \u001b[1;32mdef\u001b[0m \u001b[0mcreate_opt\u001b[0m\u001b[1;33m(\u001b[0m\u001b[0mself\u001b[0m\u001b[1;33m,\u001b[0m \u001b[0mlr\u001b[0m\u001b[1;33m:\u001b[0m\u001b[0mFloats\u001b[0m\u001b[1;33m,\u001b[0m \u001b[0mwd\u001b[0m\u001b[1;33m:\u001b[0m\u001b[0mFloats\u001b[0m\u001b[1;33m=\u001b[0m\u001b[1;36m0.\u001b[0m\u001b[1;33m)\u001b[0m\u001b[1;33m->\u001b[0m\u001b[1;32mNone\u001b[0m\u001b[1;33m:\u001b[0m\u001b[1;33m\u001b[0m\u001b[1;33m\u001b[0m\u001b[0m\n",
      "\u001b[1;32m~\\.conda\\envs\\fastai_v1\\lib\\site-packages\\fastai\\basic_train.py\u001b[0m in \u001b[0;36mfit\u001b[1;34m(epochs, learn, callbacks, metrics)\u001b[0m\n\u001b[0;32m     99\u001b[0m             \u001b[1;32mfor\u001b[0m \u001b[0mxb\u001b[0m\u001b[1;33m,\u001b[0m\u001b[0myb\u001b[0m \u001b[1;32min\u001b[0m \u001b[0mprogress_bar\u001b[0m\u001b[1;33m(\u001b[0m\u001b[0mlearn\u001b[0m\u001b[1;33m.\u001b[0m\u001b[0mdata\u001b[0m\u001b[1;33m.\u001b[0m\u001b[0mtrain_dl\u001b[0m\u001b[1;33m,\u001b[0m \u001b[0mparent\u001b[0m\u001b[1;33m=\u001b[0m\u001b[0mpbar\u001b[0m\u001b[1;33m)\u001b[0m\u001b[1;33m:\u001b[0m\u001b[1;33m\u001b[0m\u001b[1;33m\u001b[0m\u001b[0m\n\u001b[0;32m    100\u001b[0m                 \u001b[0mxb\u001b[0m\u001b[1;33m,\u001b[0m \u001b[0myb\u001b[0m \u001b[1;33m=\u001b[0m \u001b[0mcb_handler\u001b[0m\u001b[1;33m.\u001b[0m\u001b[0mon_batch_begin\u001b[0m\u001b[1;33m(\u001b[0m\u001b[0mxb\u001b[0m\u001b[1;33m,\u001b[0m \u001b[0myb\u001b[0m\u001b[1;33m)\u001b[0m\u001b[1;33m\u001b[0m\u001b[1;33m\u001b[0m\u001b[0m\n\u001b[1;32m--> 101\u001b[1;33m                 \u001b[0mloss\u001b[0m \u001b[1;33m=\u001b[0m \u001b[0mloss_batch\u001b[0m\u001b[1;33m(\u001b[0m\u001b[0mlearn\u001b[0m\u001b[1;33m.\u001b[0m\u001b[0mmodel\u001b[0m\u001b[1;33m,\u001b[0m \u001b[0mxb\u001b[0m\u001b[1;33m,\u001b[0m \u001b[0myb\u001b[0m\u001b[1;33m,\u001b[0m \u001b[0mlearn\u001b[0m\u001b[1;33m.\u001b[0m\u001b[0mloss_func\u001b[0m\u001b[1;33m,\u001b[0m \u001b[0mlearn\u001b[0m\u001b[1;33m.\u001b[0m\u001b[0mopt\u001b[0m\u001b[1;33m,\u001b[0m \u001b[0mcb_handler\u001b[0m\u001b[1;33m)\u001b[0m\u001b[1;33m\u001b[0m\u001b[1;33m\u001b[0m\u001b[0m\n\u001b[0m\u001b[0;32m    102\u001b[0m                 \u001b[1;32mif\u001b[0m \u001b[0mcb_handler\u001b[0m\u001b[1;33m.\u001b[0m\u001b[0mon_batch_end\u001b[0m\u001b[1;33m(\u001b[0m\u001b[0mloss\u001b[0m\u001b[1;33m)\u001b[0m\u001b[1;33m:\u001b[0m \u001b[1;32mbreak\u001b[0m\u001b[1;33m\u001b[0m\u001b[1;33m\u001b[0m\u001b[0m\n\u001b[0;32m    103\u001b[0m \u001b[1;33m\u001b[0m\u001b[0m\n",
      "\u001b[1;32m~\\.conda\\envs\\fastai_v1\\lib\\site-packages\\fastai\\basic_train.py\u001b[0m in \u001b[0;36mloss_batch\u001b[1;34m(model, xb, yb, loss_func, opt, cb_handler)\u001b[0m\n\u001b[0;32m     32\u001b[0m     \u001b[1;32mif\u001b[0m \u001b[0mopt\u001b[0m \u001b[1;32mis\u001b[0m \u001b[1;32mnot\u001b[0m \u001b[1;32mNone\u001b[0m\u001b[1;33m:\u001b[0m\u001b[1;33m\u001b[0m\u001b[1;33m\u001b[0m\u001b[0m\n\u001b[0;32m     33\u001b[0m         \u001b[0mloss\u001b[0m\u001b[1;33m,\u001b[0m\u001b[0mskip_bwd\u001b[0m \u001b[1;33m=\u001b[0m \u001b[0mcb_handler\u001b[0m\u001b[1;33m.\u001b[0m\u001b[0mon_backward_begin\u001b[0m\u001b[1;33m(\u001b[0m\u001b[0mloss\u001b[0m\u001b[1;33m)\u001b[0m\u001b[1;33m\u001b[0m\u001b[1;33m\u001b[0m\u001b[0m\n\u001b[1;32m---> 34\u001b[1;33m         \u001b[1;32mif\u001b[0m \u001b[1;32mnot\u001b[0m \u001b[0mskip_bwd\u001b[0m\u001b[1;33m:\u001b[0m                     \u001b[0mloss\u001b[0m\u001b[1;33m.\u001b[0m\u001b[0mbackward\u001b[0m\u001b[1;33m(\u001b[0m\u001b[1;33m)\u001b[0m\u001b[1;33m\u001b[0m\u001b[1;33m\u001b[0m\u001b[0m\n\u001b[0m\u001b[0;32m     35\u001b[0m         \u001b[1;32mif\u001b[0m \u001b[1;32mnot\u001b[0m \u001b[0mcb_handler\u001b[0m\u001b[1;33m.\u001b[0m\u001b[0mon_backward_end\u001b[0m\u001b[1;33m(\u001b[0m\u001b[1;33m)\u001b[0m\u001b[1;33m:\u001b[0m \u001b[0mopt\u001b[0m\u001b[1;33m.\u001b[0m\u001b[0mstep\u001b[0m\u001b[1;33m(\u001b[0m\u001b[1;33m)\u001b[0m\u001b[1;33m\u001b[0m\u001b[1;33m\u001b[0m\u001b[0m\n\u001b[0;32m     36\u001b[0m         \u001b[1;32mif\u001b[0m \u001b[1;32mnot\u001b[0m \u001b[0mcb_handler\u001b[0m\u001b[1;33m.\u001b[0m\u001b[0mon_step_end\u001b[0m\u001b[1;33m(\u001b[0m\u001b[1;33m)\u001b[0m\u001b[1;33m:\u001b[0m     \u001b[0mopt\u001b[0m\u001b[1;33m.\u001b[0m\u001b[0mzero_grad\u001b[0m\u001b[1;33m(\u001b[0m\u001b[1;33m)\u001b[0m\u001b[1;33m\u001b[0m\u001b[1;33m\u001b[0m\u001b[0m\n",
      "\u001b[1;32m~\\.conda\\envs\\fastai_v1\\lib\\site-packages\\torch\\tensor.py\u001b[0m in \u001b[0;36mbackward\u001b[1;34m(self, gradient, retain_graph, create_graph)\u001b[0m\n\u001b[0;32m    100\u001b[0m                 \u001b[0mproducts\u001b[0m\u001b[1;33m.\u001b[0m \u001b[0mDefaults\u001b[0m \u001b[0mto\u001b[0m\u001b[0;31m \u001b[0m\u001b[0;31m`\u001b[0m\u001b[0;31m`\u001b[0m\u001b[1;32mFalse\u001b[0m\u001b[0;31m`\u001b[0m\u001b[0;31m`\u001b[0m\u001b[1;33m.\u001b[0m\u001b[1;33m\u001b[0m\u001b[1;33m\u001b[0m\u001b[0m\n\u001b[0;32m    101\u001b[0m         \"\"\"\n\u001b[1;32m--> 102\u001b[1;33m         \u001b[0mtorch\u001b[0m\u001b[1;33m.\u001b[0m\u001b[0mautograd\u001b[0m\u001b[1;33m.\u001b[0m\u001b[0mbackward\u001b[0m\u001b[1;33m(\u001b[0m\u001b[0mself\u001b[0m\u001b[1;33m,\u001b[0m \u001b[0mgradient\u001b[0m\u001b[1;33m,\u001b[0m \u001b[0mretain_graph\u001b[0m\u001b[1;33m,\u001b[0m \u001b[0mcreate_graph\u001b[0m\u001b[1;33m)\u001b[0m\u001b[1;33m\u001b[0m\u001b[1;33m\u001b[0m\u001b[0m\n\u001b[0m\u001b[0;32m    103\u001b[0m \u001b[1;33m\u001b[0m\u001b[0m\n\u001b[0;32m    104\u001b[0m     \u001b[1;32mdef\u001b[0m \u001b[0mregister_hook\u001b[0m\u001b[1;33m(\u001b[0m\u001b[0mself\u001b[0m\u001b[1;33m,\u001b[0m \u001b[0mhook\u001b[0m\u001b[1;33m)\u001b[0m\u001b[1;33m:\u001b[0m\u001b[1;33m\u001b[0m\u001b[1;33m\u001b[0m\u001b[0m\n",
      "\u001b[1;32m~\\.conda\\envs\\fastai_v1\\lib\\site-packages\\torch\\autograd\\__init__.py\u001b[0m in \u001b[0;36mbackward\u001b[1;34m(tensors, grad_tensors, retain_graph, create_graph, grad_variables)\u001b[0m\n\u001b[0;32m     88\u001b[0m     Variable._execution_engine.run_backward(\n\u001b[0;32m     89\u001b[0m         \u001b[0mtensors\u001b[0m\u001b[1;33m,\u001b[0m \u001b[0mgrad_tensors\u001b[0m\u001b[1;33m,\u001b[0m \u001b[0mretain_graph\u001b[0m\u001b[1;33m,\u001b[0m \u001b[0mcreate_graph\u001b[0m\u001b[1;33m,\u001b[0m\u001b[1;33m\u001b[0m\u001b[1;33m\u001b[0m\u001b[0m\n\u001b[1;32m---> 90\u001b[1;33m         allow_unreachable=True)  # allow_unreachable flag\n\u001b[0m\u001b[0;32m     91\u001b[0m \u001b[1;33m\u001b[0m\u001b[0m\n\u001b[0;32m     92\u001b[0m \u001b[1;33m\u001b[0m\u001b[0m\n",
      "\u001b[1;31mRuntimeError\u001b[0m: CUDA out of memory. Tried to allocate 101.13 MiB (GPU 0; 12.00 GiB total capacity; 9.35 GiB already allocated; 98.45 MiB free; 136.49 MiB cached)"
     ]
    }
   ],
   "source": [
    "learn_clas.freeze_to(-6)\n",
    "learn_clas.fit_one_cycle(4, slice(5e-4/(2.6**4),5e-4), moms=(0.8,0.7) )"
   ]
  },
  {
   "cell_type": "markdown",
   "metadata": {},
   "source": [
    "### We are out of memory!!!\n",
    "\n",
    "Lets check the state of the art for this task [LINK] (https://paperswithcode.com/sota/text-classification-on-20news)\n",
    "\n",
    "If we had enough GPU memory and more epochs we could have improved the accuracy a bit more."
   ]
  },
  {
   "cell_type": "markdown",
   "metadata": {},
   "source": [
    "## Make predictions on the test data"
   ]
  },
  {
   "cell_type": "code",
   "execution_count": 37,
   "metadata": {},
   "outputs": [],
   "source": [
    "learn_clas.load('clas_third');"
   ]
  },
  {
   "cell_type": "code",
   "execution_count": 42,
   "metadata": {},
   "outputs": [],
   "source": [
    "#Get test data predictions with  %probabilities and loss\n",
    "def argNmax(a, N, axis=None):\n",
    "    if axis is None:\n",
    "        return np.argpartition(a.ravel(), -N)[-N]\n",
    "    else:\n",
    "        return np.take(np.argpartition(a, -N, axis=axis), -N, axis=axis)\n",
    "\n",
    "\n",
    "def make_predictions_testdata():\n",
    "    y_pred, y_true, loss =  learn_clas.get_preds(ds_type=DatasetType.Valid, ordered = True, with_loss = True)\n",
    "    Pred_tst = []\n",
    "    Pred_tst_pro = []\n",
    "    Actual_tst = []\n",
    "    Actual_tst_pro = []\n",
    "    Loss_tst = []\n",
    "    prd_cat, num_cat, prob, data_text_c = [],[],[],[]\n",
    "    first_cat, second_cat, third_cat = [],[],[]\n",
    "    first_cat_p, second_cat_p, third_cat_p = [],[],[]\n",
    "    for r in range(0,df_tst.shape[0]):\n",
    "        pro = y_pred[r].numpy()*100\n",
    "        arg1max,arg2max,arg3max = argNmax(pro,1),argNmax(pro,2),argNmax(pro,3)\n",
    "        first_cat_l, first_cat_percent = data_clas.classes[arg1max], round(pro[arg1max],2)\n",
    "        second_cat_l, second_cat_percent = data_clas.classes[arg2max], round(pro[arg2max],2)\n",
    "        third_cat_l,third_cat_percent = data_clas.classes[arg3max], round(pro[arg3max],2)\n",
    "        true_cat = np.asarray(y_true[r]).tolist()\n",
    "        true_cat_l, true_cat_precent = data_clas.classes[true_cat], round(pro[true_cat],2)\n",
    "        first_cat.append(first_cat_l)\n",
    "        second_cat.append(second_cat_l)\n",
    "        third_cat.append(third_cat_l)    \n",
    "        first_cat_p.append(first_cat_percent)\n",
    "        second_cat_p.append(second_cat_percent)\n",
    "        third_cat_p.append(third_cat_percent)\n",
    "\n",
    "        Pred_tst.append(first_cat_l)\n",
    "        Pred_tst_pro.append(first_cat_percent)\n",
    "        Actual_tst.append(true_cat_l)\n",
    "        Actual_tst_pro.append(true_cat_precent)\n",
    "        Loss_tst.append(np.asarray(loss[r]))\n",
    "\n",
    "    test_prediction_df = pd.DataFrame({'c_filename':df_test['File_path'],\n",
    "                       'Loss':Loss_tst,           \n",
    "                       'actual_label': df_test['File_label'],\n",
    "                       'actual_label_prob':Actual_tst_pro,\n",
    "                       'predicted_label' : first_cat,\n",
    "                       'predicted_label_prob' : first_cat_p,\n",
    "                       'second_label': second_cat,\n",
    "                       'second_label_prob' : second_cat_p,\n",
    "                       'third_label': third_cat,\n",
    "                       'third_label_prob' : third_cat_p})\n",
    "\n",
    "    test_prediction_df.sort_values(by=['Loss'], ascending = False, inplace = True)\n",
    "    test_prediction_df.Loss = test_prediction_df.Loss.astype('float64') \n",
    "\n",
    "    return test_prediction_df"
   ]
  },
  {
   "cell_type": "code",
   "execution_count": 44,
   "metadata": {},
   "outputs": [],
   "source": [
    "#Make prediction on the test data with loss\n",
    "predict_df = make_predictions_testdata()"
   ]
  },
  {
   "cell_type": "code",
   "execution_count": 47,
   "metadata": {
    "scrolled": true
   },
   "outputs": [],
   "source": [
    "predict_df = pd.read_pickle('model_predictions_testdata.pkl')"
   ]
  },
  {
   "cell_type": "code",
   "execution_count": 70,
   "metadata": {
    "scrolled": true
   },
   "outputs": [
    {
     "data": {
      "text/html": [
       "<div>\n",
       "<style scoped>\n",
       "    .dataframe tbody tr th:only-of-type {\n",
       "        vertical-align: middle;\n",
       "    }\n",
       "\n",
       "    .dataframe tbody tr th {\n",
       "        vertical-align: top;\n",
       "    }\n",
       "\n",
       "    .dataframe thead th {\n",
       "        text-align: right;\n",
       "    }\n",
       "</style>\n",
       "<table border=\"1\" class=\"dataframe\">\n",
       "  <thead>\n",
       "    <tr style=\"text-align: right;\">\n",
       "      <th></th>\n",
       "      <th>c_filename</th>\n",
       "      <th>Loss</th>\n",
       "      <th>actual_label</th>\n",
       "      <th>actual_label_prob</th>\n",
       "      <th>predicted_label</th>\n",
       "      <th>predicted_label_prob</th>\n",
       "      <th>second_label</th>\n",
       "      <th>second_label_prob</th>\n",
       "      <th>third_label</th>\n",
       "      <th>third_label_prob</th>\n",
       "    </tr>\n",
       "  </thead>\n",
       "  <tbody>\n",
       "    <tr>\n",
       "      <th>0</th>\n",
       "      <td>C:\\Users\\p1thiyya\\Downloads\\20_newsgroups\\comp...</td>\n",
       "      <td>20.806932</td>\n",
       "      <td>comp.graphics</td>\n",
       "      <td>0.0</td>\n",
       "      <td>misc.forsale</td>\n",
       "      <td>100.000000</td>\n",
       "      <td>sci.electronics</td>\n",
       "      <td>0.0</td>\n",
       "      <td>comp.sys.ibm.pc.hardware</td>\n",
       "      <td>0.00</td>\n",
       "    </tr>\n",
       "    <tr>\n",
       "      <th>1</th>\n",
       "      <td>C:\\Users\\p1thiyya\\Downloads\\20_newsgroups\\comp...</td>\n",
       "      <td>17.244532</td>\n",
       "      <td>comp.sys.ibm.pc.hardware</td>\n",
       "      <td>0.0</td>\n",
       "      <td>misc.forsale</td>\n",
       "      <td>100.000000</td>\n",
       "      <td>comp.os.ms-windows.misc</td>\n",
       "      <td>0.0</td>\n",
       "      <td>comp.graphics</td>\n",
       "      <td>0.00</td>\n",
       "    </tr>\n",
       "    <tr>\n",
       "      <th>2</th>\n",
       "      <td>C:\\Users\\p1thiyya\\Downloads\\20_newsgroups\\misc...</td>\n",
       "      <td>16.606749</td>\n",
       "      <td>misc.forsale</td>\n",
       "      <td>0.0</td>\n",
       "      <td>comp.sys.ibm.pc.hardware</td>\n",
       "      <td>100.000000</td>\n",
       "      <td>rec.autos</td>\n",
       "      <td>0.0</td>\n",
       "      <td>comp.os.ms-windows.misc</td>\n",
       "      <td>0.00</td>\n",
       "    </tr>\n",
       "    <tr>\n",
       "      <th>3</th>\n",
       "      <td>C:\\Users\\p1thiyya\\Downloads\\20_newsgroups\\sci....</td>\n",
       "      <td>16.249413</td>\n",
       "      <td>sci.electronics</td>\n",
       "      <td>0.0</td>\n",
       "      <td>comp.sys.ibm.pc.hardware</td>\n",
       "      <td>100.000000</td>\n",
       "      <td>misc.forsale</td>\n",
       "      <td>0.0</td>\n",
       "      <td>comp.os.ms-windows.misc</td>\n",
       "      <td>0.00</td>\n",
       "    </tr>\n",
       "    <tr>\n",
       "      <th>4</th>\n",
       "      <td>C:\\Users\\p1thiyya\\Downloads\\20_newsgroups\\comp...</td>\n",
       "      <td>14.889646</td>\n",
       "      <td>comp.graphics</td>\n",
       "      <td>0.0</td>\n",
       "      <td>comp.sys.ibm.pc.hardware</td>\n",
       "      <td>99.199997</td>\n",
       "      <td>sci.electronics</td>\n",
       "      <td>0.4</td>\n",
       "      <td>comp.sys.mac.hardware</td>\n",
       "      <td>0.23</td>\n",
       "    </tr>\n",
       "  </tbody>\n",
       "</table>\n",
       "</div>"
      ],
      "text/plain": [
       "                                          c_filename       Loss  \\\n",
       "0  C:\\Users\\p1thiyya\\Downloads\\20_newsgroups\\comp...  20.806932   \n",
       "1  C:\\Users\\p1thiyya\\Downloads\\20_newsgroups\\comp...  17.244532   \n",
       "2  C:\\Users\\p1thiyya\\Downloads\\20_newsgroups\\misc...  16.606749   \n",
       "3  C:\\Users\\p1thiyya\\Downloads\\20_newsgroups\\sci....  16.249413   \n",
       "4  C:\\Users\\p1thiyya\\Downloads\\20_newsgroups\\comp...  14.889646   \n",
       "\n",
       "               actual_label  actual_label_prob           predicted_label  \\\n",
       "0             comp.graphics                0.0              misc.forsale   \n",
       "1  comp.sys.ibm.pc.hardware                0.0              misc.forsale   \n",
       "2              misc.forsale                0.0  comp.sys.ibm.pc.hardware   \n",
       "3           sci.electronics                0.0  comp.sys.ibm.pc.hardware   \n",
       "4             comp.graphics                0.0  comp.sys.ibm.pc.hardware   \n",
       "\n",
       "   predicted_label_prob             second_label  second_label_prob  \\\n",
       "0            100.000000          sci.electronics                0.0   \n",
       "1            100.000000  comp.os.ms-windows.misc                0.0   \n",
       "2            100.000000                rec.autos                0.0   \n",
       "3            100.000000             misc.forsale                0.0   \n",
       "4             99.199997          sci.electronics                0.4   \n",
       "\n",
       "                third_label  third_label_prob  \n",
       "0  comp.sys.ibm.pc.hardware              0.00  \n",
       "1             comp.graphics              0.00  \n",
       "2   comp.os.ms-windows.misc              0.00  \n",
       "3   comp.os.ms-windows.misc              0.00  \n",
       "4     comp.sys.mac.hardware              0.23  "
      ]
     },
     "execution_count": 70,
     "metadata": {},
     "output_type": "execute_result"
    }
   ],
   "source": [
    "predict_df.reset_index(drop=True).head()"
   ]
  },
  {
   "cell_type": "markdown",
   "metadata": {},
   "source": [
    "## Generate Classification Report"
   ]
  },
  {
   "cell_type": "code",
   "execution_count": 20,
   "metadata": {},
   "outputs": [],
   "source": [
    "from sklearn.metrics import classification_report"
   ]
  },
  {
   "cell_type": "code",
   "execution_count": 22,
   "metadata": {},
   "outputs": [
    {
     "name": "stdout",
     "output_type": "stream",
     "text": [
      "                          precision    recall  f1-score   support\n",
      "\n",
      "             alt.atheism       0.82      0.68      0.75       206\n",
      "           comp.graphics       0.86      0.79      0.82       221\n",
      " comp.os.ms-windows.misc       0.81      0.88      0.84       211\n",
      "comp.sys.ibm.pc.hardware       0.80      0.85      0.82       195\n",
      "   comp.sys.mac.hardware       0.88      0.87      0.87       196\n",
      "          comp.windows.x       0.88      0.88      0.88       202\n",
      "            misc.forsale       0.85      0.85      0.85       207\n",
      "               rec.autos       0.88      0.92      0.90       191\n",
      "         rec.motorcycles       0.94      0.96      0.95       215\n",
      "      rec.sport.baseball       0.96      0.95      0.95       200\n",
      "        rec.sport.hockey       0.99      0.96      0.98       192\n",
      "               sci.crypt       0.93      0.92      0.93       217\n",
      "         sci.electronics       0.87      0.79      0.83       214\n",
      "                 sci.med       0.90      0.92      0.91       190\n",
      "               sci.space       0.91      0.93      0.92       188\n",
      "  soc.religion.christian       0.93      0.95      0.94       193\n",
      "      talk.politics.guns       0.83      0.85      0.84       201\n",
      "   talk.politics.mideast       0.89      0.90      0.90       193\n",
      "      talk.politics.misc       0.65      0.65      0.65       208\n",
      "      talk.religion.misc       0.52      0.58      0.55       199\n",
      "\n",
      "                accuracy                           0.85      4039\n",
      "               macro avg       0.85      0.85      0.85      4039\n",
      "            weighted avg       0.85      0.85      0.85      4039\n",
      "\n"
     ]
    }
   ],
   "source": [
    "print(classification_report(predict_df['actual_label'], predict_df['predicted_label']))"
   ]
  },
  {
   "cell_type": "code",
   "execution_count": 23,
   "metadata": {},
   "outputs": [],
   "source": [
    "interp_I = ClassificationInterpretation.from_learner(learn_clas)"
   ]
  },
  {
   "cell_type": "code",
   "execution_count": 24,
   "metadata": {},
   "outputs": [
    {
     "data": {
      "image/png": "[encoded data removed]",
      "text/plain": [
       "<Figure size 720x720 with 1 Axes>"
      ]
     },
     "metadata": {
      "needs_background": "light"
     },
     "output_type": "display_data"
    }
   ],
   "source": [
    "interp_I.plot_confusion_matrix(figsize=(12,12), dpi=60)"
   ]
  },
  {
   "cell_type": "code",
   "execution_count": 27,
   "metadata": {
    "scrolled": true
   },
   "outputs": [
    {
     "name": "stdout",
     "output_type": "stream",
     "text": [
      "['Actual', 'Predicted', 'Mislabeled']\n"
     ]
    },
    {
     "data": {
      "text/plain": [
       "[('alt.atheism', 'talk.religion.misc', 53),\n",
       " ('talk.politics.misc', 'talk.religion.misc', 36),\n",
       " ('talk.religion.misc', 'talk.politics.misc', 31),\n",
       " ('talk.religion.misc', 'alt.atheism', 28),\n",
       " ('talk.politics.misc', 'talk.politics.guns', 17),\n",
       " ('talk.politics.guns', 'talk.politics.misc', 15),\n",
       " ('comp.graphics', 'comp.windows.x', 13),\n",
       " ('talk.politics.mideast', 'talk.politics.misc', 13),\n",
       " ('talk.politics.misc', 'talk.politics.mideast', 12),\n",
       " ('comp.sys.mac.hardware', 'comp.sys.ibm.pc.hardware', 11),\n",
       " ('talk.religion.misc', 'talk.politics.guns', 11),\n",
       " ('comp.sys.ibm.pc.hardware', 'comp.os.ms-windows.misc', 10)]"
      ]
     },
     "execution_count": 27,
     "metadata": {},
     "output_type": "execute_result"
    }
   ],
   "source": [
    "print(['Actual','Predicted','Mislabeled'])\n",
    "interp_I.most_confused(min_val=10)"
   ]
  },
  {
   "cell_type": "markdown",
   "metadata": {},
   "source": [
    "### Export the model"
   ]
  },
  {
   "cell_type": "code",
   "execution_count": 75,
   "metadata": {},
   "outputs": [],
   "source": [
    "learn_clas.export(file = 'export_clas.pkl')"
   ]
  },
  {
   "cell_type": "markdown",
   "metadata": {},
   "source": [
    "### Import the model"
   ]
  },
  {
   "cell_type": "code",
   "execution_count": 38,
   "metadata": {},
   "outputs": [],
   "source": [
    "learn_exp = load_learner('.', 'export_clas.pkl')"
   ]
  },
  {
   "cell_type": "code",
   "execution_count": 62,
   "metadata": {},
   "outputs": [],
   "source": [
    "def export_model_interpret_train(r):\n",
    "    ori_path = predict_df.iloc[r].c_filename\n",
    "    local_path = ori_path.replace(\"p1thiyya\\\\Downloads\", \"pradeep.thiyyagura\\\\Documents\\\\Learning\\\\Meetup_19\")\n",
    "    file_text = extract_contents(local_path)\n",
    "    cat_i, num_cat_i,prob_i = learn_exp.predict(file_text)\n",
    "    prob_per = [prob*100 for prob in prob_i.numpy()]\n",
    "    print(\"Actual: {}, Precition: {}, Probaility: {}\".format(predict_df.iloc[r].actual_label, cat_i, round(prob_per[num_cat_i],2)))\n",
    "    #print(\"Record_Seires_Prediction_ID : {}\".format(num_cat_i.numpy().tolist()))\n",
    "    #interp_T.show_intrinsic_attention(file_text)"
   ]
  },
  {
   "cell_type": "code",
   "execution_count": 73,
   "metadata": {},
   "outputs": [
    {
     "name": "stderr",
     "output_type": "stream",
     "text": [
      "C:\\Users\\pradeep.thiyyagura\\AppData\\Local\\Continuum\\anaconda3\\envs\\fastai_v1\\lib\\site-packages\\fastai\\torch_core.py:83: UserWarning: Tensor is int32: upgrading to int64; for better performance use int64 input\n",
      "  warn('Tensor is int32: upgrading to int64; for better performance use int64 input')\n"
     ]
    },
    {
     "name": "stdout",
     "output_type": "stream",
     "text": [
      "Actual: comp.graphics, Precition: sci.crypt, Probaility: 100.0\n"
     ]
    }
   ],
   "source": [
    "export_model_interpret_train(5)"
   ]
  },
  {
   "cell_type": "markdown",
   "metadata": {},
   "source": [
    "### Make Predictions on external text"
   ]
  },
  {
   "cell_type": "code",
   "execution_count": 71,
   "metadata": {},
   "outputs": [
    {
     "data": {
      "text/plain": [
       "\"Samsung's first shot at a foldable phone is off to a bumpy start, but it appears the company has more plans for the concept in the pipeline.The company teased at its annual Samsung (SSNLF) Developer Conference on Tuesday a mobile device with a clamshell form factor. In a video showed on stage, the Galaxy Fold smartphone transforms from a flip phone that opens vertically to one that expands horizontally.\""
      ]
     },
     "execution_count": 71,
     "metadata": {},
     "output_type": "execute_result"
    }
   ],
   "source": [
    "custom_text = \"Samsung's first shot at a foldable phone is off to a bumpy start, but it appears the company has more plans for the concept in the pipeline.The company teased at its annual Samsung (SSNLF) Developer Conference on Tuesday a mobile device with a clamshell form factor. In a video showed on stage, the Galaxy Fold smartphone transforms from a flip phone that opens vertically to one that expands horizontally.\"\n",
    "custom_text"
   ]
  },
  {
   "cell_type": "code",
   "execution_count": 72,
   "metadata": {},
   "outputs": [
    {
     "name": "stderr",
     "output_type": "stream",
     "text": [
      "C:\\Users\\pradeep.thiyyagura\\AppData\\Local\\Continuum\\anaconda3\\envs\\fastai_v1\\lib\\site-packages\\fastai\\torch_core.py:83: UserWarning: Tensor is int32: upgrading to int64; for better performance use int64 input\n",
      "  warn('Tensor is int32: upgrading to int64; for better performance use int64 input')\n"
     ]
    },
    {
     "data": {
      "text/plain": [
       "(Category sci.electronics,\n",
       " tensor(12),\n",
       " tensor([8.4951e-07, 1.2918e-04, 3.2803e-03, 5.6702e-02, 1.2349e-03, 1.5297e-05,\n",
       "         4.4244e-04, 1.9535e-03, 5.9851e-05, 3.5062e-06, 1.1902e-05, 5.0880e-04,\n",
       "         9.3534e-01, 3.1079e-04, 2.2386e-06, 2.7401e-06, 6.8466e-07, 3.0125e-07,\n",
       "         6.1629e-07, 1.2861e-06]))"
      ]
     },
     "execution_count": 72,
     "metadata": {},
     "output_type": "execute_result"
    }
   ],
   "source": [
    "learn_exp.predict(custom_text)"
   ]
  },
  {
   "cell_type": "code",
   "execution_count": 67,
   "metadata": {},
   "outputs": [
    {
     "data": {
      "text/plain": [
       "\"Just when you were wondering whatever happened to Jared Kushner, the White House adviser who got his job because his father-in-law is President, he popped up on an Israeli TV station on Monday to jab at the Democrat who may be on the ballot opposing President Donald Trump in 2020. He said he's been busy cleaning up the messes that former Vice President Joe Biden was supposedly responsible for creating related to the Middle East and criminal justice.\""
      ]
     },
     "execution_count": 67,
     "metadata": {},
     "output_type": "execute_result"
    }
   ],
   "source": [
    "custom_text = \"Just when you were wondering whatever happened to Jared Kushner, the White House adviser who got his job because his father-in-law is President, he popped up on an Israeli TV station on Monday to jab at the Democrat who may be on the ballot opposing President Donald Trump in 2020. He said he's been busy cleaning up the messes that former Vice President Joe Biden was supposedly responsible for creating related to the Middle East and criminal justice.\"\n",
    "custom_text"
   ]
  },
  {
   "cell_type": "code",
   "execution_count": 68,
   "metadata": {
    "scrolled": true
   },
   "outputs": [
    {
     "name": "stderr",
     "output_type": "stream",
     "text": [
      "C:\\Users\\pradeep.thiyyagura\\AppData\\Local\\Continuum\\anaconda3\\envs\\fastai_v1\\lib\\site-packages\\fastai\\torch_core.py:83: UserWarning: Tensor is int32: upgrading to int64; for better performance use int64 input\n",
      "  warn('Tensor is int32: upgrading to int64; for better performance use int64 input')\n"
     ]
    },
    {
     "data": {
      "text/plain": [
       "(Category talk.politics.mideast,\n",
       " tensor(17),\n",
       " tensor([2.1658e-07, 6.3029e-09, 5.1435e-09, 8.6563e-09, 5.4176e-08, 5.4007e-08,\n",
       "         2.2440e-07, 2.0075e-06, 6.1153e-07, 4.6601e-07, 6.6987e-07, 1.3581e-06,\n",
       "         5.2285e-09, 1.4311e-07, 1.4564e-06, 6.3407e-07, 3.9609e-04, 7.7187e-01,\n",
       "         2.2770e-01, 2.5708e-05]))"
      ]
     },
     "execution_count": 68,
     "metadata": {},
     "output_type": "execute_result"
    }
   ],
   "source": [
    "learn_exp.predict(custom_text)"
   ]
  },
  {
   "cell_type": "code",
   "execution_count": 64,
   "metadata": {},
   "outputs": [
    {
     "name": "stderr",
     "output_type": "stream",
     "text": [
      "C:\\Users\\pradeep.thiyyagura\\AppData\\Local\\Continuum\\anaconda3\\envs\\fastai_v1\\lib\\site-packages\\fastai\\torch_core.py:83: UserWarning: Tensor is int32: upgrading to int64; for better performance use int64 input\n",
      "  warn('Tensor is int32: upgrading to int64; for better performance use int64 input')\n"
     ]
    },
    {
     "name": "stdout",
     "output_type": "stream",
     "text": [
      "Actual: comp.graphics, Precition: sci.crypt, Probaility: 100.0\n"
     ]
    }
   ],
   "source": [
    "export_model_interpret_train(5)"
   ]
  },
  {
   "cell_type": "markdown",
   "metadata": {},
   "source": [
    "## Model Interpretation"
   ]
  },
  {
   "cell_type": "code",
   "execution_count": 61,
   "metadata": {},
   "outputs": [],
   "source": [
    "interp_T = TextClassificationInterpretation.from_learner(learn_clas)"
   ]
  },
  {
   "cell_type": "code",
   "execution_count": 40,
   "metadata": {},
   "outputs": [],
   "source": [
    "r = 580"
   ]
  },
  {
   "cell_type": "code",
   "execution_count": 43,
   "metadata": {},
   "outputs": [],
   "source": [
    "def model_interpret(r):\n",
    "    cat_i, num_cat_i,prob_i = learn_clas.predict(df_test.iloc[r].File_text)\n",
    "    prob_per = [prob*100 for prob in prob_i.numpy()]\n",
    "    print(\"Actual: {}, Precition: {}, Probaility: {}\".format(df_test.iloc[r].File_label, cat_i, round(prob_per[num_cat_i],2)))\n",
    "    #print(\"Record_Seires_Prediction_ID : {}\".format(num_cat_i.numpy().tolist()))\n",
    "    interp_T.show_intrinsic_attention(df_test.iloc[r].File_text)"
   ]
  },
  {
   "cell_type": "code",
   "execution_count": 45,
   "metadata": {
    "scrolled": true
   },
   "outputs": [
    {
     "name": "stderr",
     "output_type": "stream",
     "text": [
      "C:\\Users\\p1thiyya\\.conda\\envs\\fastai_v1\\lib\\site-packages\\fastai\\torch_core.py:83: UserWarning: Tensor is int32: upgrading to int64; for better performance use int64 input\n",
      "  warn('Tensor is int32: upgrading to int64; for better performance use int64 input')\n"
     ]
    },
    {
     "name": "stdout",
     "output_type": "stream",
     "text": [
      "Actual: comp.os.ms-windows.misc, Precition: comp.os.ms-windows.misc, Probaility: 99.87\n"
     ]
    },
    {
     "name": "stderr",
     "output_type": "stream",
     "text": [
      "C:\\Users\\p1thiyya\\.conda\\envs\\fastai_v1\\lib\\site-packages\\fastai\\torch_core.py:83: UserWarning: Tensor is int32: upgrading to int64; for better performance use int64 input\n",
      "  warn('Tensor is int32: upgrading to int64; for better performance use int64 input')\n"
     ]
    },
    {
     "data": {
      "text/html": [
       "<span style=\"font-family: monospace;\"><span title=\"0.248\" style=\"background-color: rgba(248, 139, 81, 0.5);\">xxbos</span> <span title=\"0.176\" style=\"background-color: rgba(237, 94, 60, 0.5);\">i</span> <span title=\"0.112\" style=\"background-color: rgba(217, 53, 41, 0.5);\">have</span> <span title=\"0.092\" style=\"background-color: rgba(210, 43, 38, 0.5);\">just</span> <span title=\"0.156\" style=\"background-color: rgba(230, 80, 53, 0.5);\">noticed</span> <span title=\"0.243\" style=\"background-color: rgba(247, 137, 79, 0.5);\">my</span> <span title=\"0.860\" style=\"background-color: rgba(54, 165, 87, 0.5);\">filemanager</span> <span title=\"0.104\" style=\"background-color: rgba(215, 49, 39, 0.5);\">doing</span> <span title=\"0.091\" style=\"background-color: rgba(210, 43, 38, 0.5);\">something</span> <span title=\"0.076\" style=\"background-color: rgba(202, 35, 38, 0.5);\">strange</span> <span title=\"0.049\" style=\"background-color: rgba(188, 22, 38, 0.5);\">recently</span> <span title=\"0.049\" style=\"background-color: rgba(188, 22, 38, 0.5);\">.</span> <span title=\"0.095\" style=\"background-color: rgba(212, 45, 38, 0.5);\">xxmaj</span> <span title=\"0.073\" style=\"background-color: rgba(200, 33, 38, 0.5);\">usually</span> <span title=\"0.144\" style=\"background-color: rgba(226, 73, 50, 0.5);\">,</span> <span title=\"0.059\" style=\"background-color: rgba(194, 28, 38, 0.5);\">the</span> <span title=\"0.085\" style=\"background-color: rgba(206, 39, 38, 0.5);\">line</span> <span title=\"0.213\" style=\"background-color: rgba(245, 116, 70, 0.5);\">at</span> <span title=\"0.101\" style=\"background-color: rgba(214, 47, 38, 0.5);\">the</span> <span title=\"0.097\" style=\"background-color: rgba(212, 45, 38, 0.5);\">bottom</span> <span title=\"0.198\" style=\"background-color: rgba(242, 106, 65, 0.5);\">of</span> <span title=\"0.100\" style=\"background-color: rgba(214, 47, 38, 0.5);\">the</span> <span title=\"0.207\" style=\"background-color: rgba(244, 111, 68, 0.5);\">filemanager</span> <span title=\"1.000\" style=\"background-color: rgba(0, 104, 55, 0.5);\">(</span> <span title=\"0.104\" style=\"background-color: rgba(215, 49, 39, 0.5);\">the</span> <span title=\"0.141\" style=\"background-color: rgba(225, 70, 49, 0.5);\">status</span> <span title=\"0.353\" style=\"background-color: rgba(253, 200, 119, 0.5);\">bar</span> <span title=\"0.251\" style=\"background-color: rgba(248, 142, 82, 0.5);\">,</span> <span title=\"0.030\" style=\"background-color: rgba(178, 13, 38, 0.5);\">i</span> <span title=\"0.045\" style=\"background-color: rgba(186, 20, 38, 0.5);\">guess</span> <span title=\"0.049\" style=\"background-color: rgba(188, 22, 38, 0.5);\">)</span> <span title=\"0.079\" style=\"background-color: rgba(204, 37, 38, 0.5);\">displays</span> <span title=\"0.085\" style=\"background-color: rgba(206, 39, 38, 0.5);\">the</span> <span title=\"0.275\" style=\"background-color: rgba(250, 157, 89, 0.5);\">total</span> <span title=\"0.100\" style=\"background-color: rgba(214, 47, 38, 0.5);\">disk</span> <span title=\"0.196\" style=\"background-color: rgba(242, 106, 65, 0.5);\">space</span> <span title=\"0.359\" style=\"background-color: rgba(253, 202, 120, 0.5);\">and</span> <span title=\"0.173\" style=\"background-color: rgba(236, 92, 59, 0.5);\">the</span> <span title=\"0.032\" style=\"background-color: rgba(180, 15, 38, 0.5);\">total</span> <span title=\"0.037\" style=\"background-color: rgba(182, 16, 38, 0.5);\">number</span> <span title=\"0.091\" style=\"background-color: rgba(210, 43, 38, 0.5);\">of</span> <span title=\"0.097\" style=\"background-color: rgba(212, 45, 38, 0.5);\">bytes</span> <span title=\"0.094\" style=\"background-color: rgba(212, 45, 38, 0.5);\">for</span> <span title=\"0.312\" style=\"background-color: rgba(253, 178, 101, 0.5);\">the</span> <span title=\"0.103\" style=\"background-color: rgba(215, 49, 39, 0.5);\">current</span> <span title=\"0.095\" style=\"background-color: rgba(212, 45, 38, 0.5);\">selection</span> <span title=\"0.132\" style=\"background-color: rgba(223, 65, 47, 0.5);\">.</span> <span title=\"0.258\" style=\"background-color: rgba(249, 147, 84, 0.5);\">xxmaj</span> <span title=\"0.207\" style=\"background-color: rgba(244, 111, 68, 0.5);\">if</span> <span title=\"0.019\" style=\"background-color: rgba(172, 7, 38, 0.5);\">i</span> <span title=\"0.020\" style=\"background-color: rgba(174, 9, 38, 0.5);\">select</span> <span title=\"0.058\" style=\"background-color: rgba(192, 26, 38, 0.5);\">a</span> <span title=\"0.059\" style=\"background-color: rgba(194, 28, 38, 0.5);\">whole</span> <span title=\"0.095\" style=\"background-color: rgba(212, 45, 38, 0.5);\">bunch</span> <span title=\"0.050\" style=\"background-color: rgba(188, 22, 38, 0.5);\">of</span> <span title=\"0.079\" style=\"background-color: rgba(204, 37, 38, 0.5);\">files</span> <span title=\"0.091\" style=\"background-color: rgba(210, 43, 38, 0.5);\">,</span> <span title=\"0.060\" style=\"background-color: rgba(194, 28, 38, 0.5);\">i</span> <span title=\"0.251\" style=\"background-color: rgba(248, 142, 82, 0.5);\">will</span> <span title=\"0.022\" style=\"background-color: rgba(174, 9, 38, 0.5);\">get</span> <span title=\"0.020\" style=\"background-color: rgba(174, 9, 38, 0.5);\">an</span> <span title=\"0.027\" style=\"background-color: rgba(176, 11, 38, 0.5);\">exact</span> <span title=\"0.044\" style=\"background-color: rgba(186, 20, 38, 0.5);\">byte</span> <span title=\"0.046\" style=\"background-color: rgba(186, 20, 38, 0.5);\">count</span> <span title=\"0.051\" style=\"background-color: rgba(190, 24, 38, 0.5);\">.</span> <span title=\"0.092\" style=\"background-color: rgba(210, 43, 38, 0.5);\">xxmaj</span> <span title=\"0.090\" style=\"background-color: rgba(210, 43, 38, 0.5);\">recently</span> <span title=\"0.042\" style=\"background-color: rgba(184, 18, 38, 0.5);\">,</span> <span title=\"0.015\" style=\"background-color: rgba(170, 5, 38, 0.5);\">i</span> <span title=\"0.041\" style=\"background-color: rgba(184, 18, 38, 0.5);\">notice</span> <span title=\"0.049\" style=\"background-color: rgba(188, 22, 38, 0.5);\">it</span> <span title=\"0.127\" style=\"background-color: rgba(222, 63, 46, 0.5);\">incorrectly</span> <span title=\"0.035\" style=\"background-color: rgba(182, 16, 38, 0.5);\">displays</span> <span title=\"0.065\" style=\"background-color: rgba(196, 30, 38, 0.5);\">this</span> <span title=\"0.161\" style=\"background-color: rgba(232, 85, 56, 0.5);\">count</span> <span title=\"0.151\" style=\"background-color: rgba(229, 77, 52, 0.5);\">;</span> <span title=\"0.280\" style=\"background-color: rgba(251, 159, 90, 0.5);\">it</span> <span title=\"0.118\" style=\"background-color: rgba(220, 58, 43, 0.5);\">&#x27;s</span> <span title=\"0.048\" style=\"background-color: rgba(188, 22, 38, 0.5);\">xxunk</span> <span title=\"0.105\" style=\"background-color: rgba(216, 51, 40, 0.5);\">!</span> <span title=\"0.039\" style=\"background-color: rgba(184, 18, 38, 0.5);\">xxmaj</span> <span title=\"0.043\" style=\"background-color: rgba(184, 18, 38, 0.5);\">if</span> <span title=\"0.029\" style=\"background-color: rgba(178, 13, 38, 0.5);\">i</span> <span title=\"0.093\" style=\"background-color: rgba(210, 43, 38, 0.5);\">select</span> <span title=\"0.044\" style=\"background-color: rgba(186, 20, 38, 0.5);\">a</span> <span title=\"0.045\" style=\"background-color: rgba(186, 20, 38, 0.5);\">file</span> <span title=\"0.046\" style=\"background-color: rgba(186, 20, 38, 0.5);\">that</span> <span title=\"0.100\" style=\"background-color: rgba(214, 47, 38, 0.5);\">is</span> <span title=\"0.115\" style=\"background-color: rgba(218, 56, 42, 0.5);\">,</span> <span title=\"0.209\" style=\"background-color: rgba(244, 114, 69, 0.5);\">say</span> <span title=\"0.133\" style=\"background-color: rgba(224, 68, 48, 0.5);\">,</span> <span title=\"0.310\" style=\"background-color: rgba(253, 178, 101, 0.5);\">532</span> <span title=\"0.087\" style=\"background-color: rgba(208, 41, 38, 0.5);\">bytes</span> <span title=\"0.038\" style=\"background-color: rgba(182, 16, 38, 0.5);\">,</span> <span title=\"0.035\" style=\"background-color: rgba(180, 15, 38, 0.5);\">it</span> <span title=\"0.074\" style=\"background-color: rgba(200, 33, 38, 0.5);\">correctly</span> <span title=\"0.060\" style=\"background-color: rgba(194, 28, 38, 0.5);\">displays</span> <span title=\"0.293\" style=\"background-color: rgba(252, 170, 95, 0.5);\">&#x27;</span> <span title=\"0.151\" style=\"background-color: rgba(229, 77, 52, 0.5);\">532</span> <span title=\"0.032\" style=\"background-color: rgba(180, 15, 38, 0.5);\">bytes</span> <span title=\"0.055\" style=\"background-color: rgba(192, 26, 38, 0.5);\">&#x27;</span> <span title=\"0.094\" style=\"background-color: rgba(210, 43, 38, 0.5);\">.</span> <span title=\"0.226\" style=\"background-color: rgba(246, 124, 74, 0.5);\">xxmaj</span> <span title=\"0.193\" style=\"background-color: rgba(241, 104, 64, 0.5);\">if</span> <span title=\"0.611\" style=\"background-color: rgba(211, 236, 135, 0.5);\">i</span> <span title=\"0.124\" style=\"background-color: rgba(221, 61, 45, 0.5);\">select</span> <span title=\"0.021\" style=\"background-color: rgba(174, 9, 38, 0.5);\">select</span> <span title=\"0.021\" style=\"background-color: rgba(174, 9, 38, 0.5);\">a</span> <span title=\"0.045\" style=\"background-color: rgba(186, 20, 38, 0.5);\">file</span> <span title=\"0.049\" style=\"background-color: rgba(188, 22, 38, 0.5);\">that</span> <span title=\"0.081\" style=\"background-color: rgba(204, 37, 38, 0.5);\">is</span> <span title=\"0.079\" style=\"background-color: rgba(204, 37, 38, 0.5);\">23,482</span> <span title=\"0.112\" style=\"background-color: rgba(217, 53, 41, 0.5);\">bytes</span> <span title=\"0.122\" style=\"background-color: rgba(221, 61, 45, 0.5);\">,</span> <span title=\"0.086\" style=\"background-color: rgba(208, 41, 38, 0.5);\">it</span> <span title=\"0.176\" style=\"background-color: rgba(236, 92, 59, 0.5);\">displays</span> <span title=\"0.050\" style=\"background-color: rgba(188, 22, 38, 0.5);\">&#x27;</span> <span title=\"0.097\" style=\"background-color: rgba(212, 45, 38, 0.5);\">23</span> <span title=\"0.405\" style=\"background-color: rgba(254, 225, 141, 0.5);\">bytes</span> <span title=\"0.206\" style=\"background-color: rgba(244, 111, 68, 0.5);\">&#x27;</span> <span title=\"0.031\" style=\"background-color: rgba(178, 13, 38, 0.5);\">,</span> <span title=\"0.056\" style=\"background-color: rgba(192, 26, 38, 0.5);\">not</span> <span title=\"0.135\" style=\"background-color: rgba(224, 68, 48, 0.5);\">23</span> <span title=\"0.080\" style=\"background-color: rgba(204, 37, 38, 0.5);\">xxmaj</span> <span title=\"0.153\" style=\"background-color: rgba(230, 80, 53, 0.5);\">kbytes</span> <span title=\"0.198\" style=\"background-color: rgba(242, 106, 65, 0.5);\">,</span> <span title=\"0.035\" style=\"background-color: rgba(182, 16, 38, 0.5);\">just</span> <span title=\"0.024\" style=\"background-color: rgba(176, 11, 38, 0.5);\">23</span> <span title=\"0.068\" style=\"background-color: rgba(198, 32, 38, 0.5);\">bytes</span> <span title=\"0.049\" style=\"background-color: rgba(188, 22, 38, 0.5);\">!</span> <span title=\"0.089\" style=\"background-color: rgba(208, 41, 38, 0.5);\">xxmaj</span> <span title=\"0.083\" style=\"background-color: rgba(206, 39, 38, 0.5);\">if</span> <span title=\"0.186\" style=\"background-color: rgba(239, 99, 62, 0.5);\">i</span> <span title=\"0.023\" style=\"background-color: rgba(174, 9, 38, 0.5);\">select</span> <span title=\"0.040\" style=\"background-color: rgba(184, 18, 38, 0.5);\">xxunk</span> <span title=\"0.055\" style=\"background-color: rgba(192, 26, 38, 0.5);\">it</span> <span title=\"0.083\" style=\"background-color: rgba(206, 39, 38, 0.5);\">will</span> <span title=\"0.029\" style=\"background-color: rgba(178, 13, 38, 0.5);\">report</span> <span title=\"0.026\" style=\"background-color: rgba(176, 11, 38, 0.5);\">only</span> <span title=\"0.050\" style=\"background-color: rgba(188, 22, 38, 0.5);\">893</span> <span title=\"0.051\" style=\"background-color: rgba(190, 24, 38, 0.5);\">bytes</span> <span title=\"0.065\" style=\"background-color: rgba(196, 30, 38, 0.5);\">in</span> <span title=\"0.128\" style=\"background-color: rgba(222, 63, 46, 0.5);\">the</span> <span title=\"0.060\" style=\"background-color: rgba(194, 28, 38, 0.5);\">selection</span> <span title=\"0.096\" style=\"background-color: rgba(212, 45, 38, 0.5);\">.</span> <span title=\"0.163\" style=\"background-color: rgba(232, 85, 56, 0.5);\">xxmaj</span> <span title=\"0.123\" style=\"background-color: rgba(221, 61, 45, 0.5);\">if</span> <span title=\"0.199\" style=\"background-color: rgba(242, 106, 65, 0.5);\">i</span> <span title=\"0.795\" style=\"background-color: rgba(104, 190, 99, 0.5);\">select</span> <span title=\"0.115\" style=\"background-color: rgba(218, 56, 42, 0.5);\">over</span> <span title=\"0.035\" style=\"background-color: rgba(182, 16, 38, 0.5);\">a</span> <span title=\"0.049\" style=\"background-color: rgba(188, 22, 38, 0.5);\">xxmaj</span> <span title=\"0.190\" style=\"background-color: rgba(240, 101, 63, 0.5);\">meg</span> <span title=\"0.020\" style=\"background-color: rgba(174, 9, 38, 0.5);\">worth</span> <span title=\"0.022\" style=\"background-color: rgba(174, 9, 38, 0.5);\">of</span> <span title=\"0.065\" style=\"background-color: rgba(196, 30, 38, 0.5);\">files</span> <span title=\"0.056\" style=\"background-color: rgba(192, 26, 38, 0.5);\">,</span> <span title=\"0.114\" style=\"background-color: rgba(218, 56, 42, 0.5);\">say</span> <span title=\"0.097\" style=\"background-color: rgba(212, 45, 38, 0.5);\">3,356,345</span> <span title=\"0.092\" style=\"background-color: rgba(210, 43, 38, 0.5);\">it</span> <span title=\"0.073\" style=\"background-color: rgba(200, 33, 38, 0.5);\">reports</span> <span title=\"0.171\" style=\"background-color: rgba(234, 89, 58, 0.5);\">3</span> <span title=\"0.090\" style=\"background-color: rgba(208, 41, 38, 0.5);\">bytes</span> <span title=\"0.041\" style=\"background-color: rgba(184, 18, 38, 0.5);\">!</span> <span title=\"0.114\" style=\"background-color: rgba(218, 56, 42, 0.5);\">xxmaj</span> <span title=\"0.035\" style=\"background-color: rgba(182, 16, 38, 0.5);\">it</span> <span title=\"0.167\" style=\"background-color: rgba(233, 87, 57, 0.5);\">&#x27;s</span> <span title=\"0.224\" style=\"background-color: rgba(246, 124, 74, 0.5);\">as</span> <span title=\"0.988\" style=\"background-color: rgba(3, 109, 57, 0.5);\">if</span> <span title=\"0.075\" style=\"background-color: rgba(202, 35, 38, 0.5);\">it</span> <span title=\"0.084\" style=\"background-color: rgba(206, 39, 38, 0.5);\">&#x27;s</span> <span title=\"0.083\" style=\"background-color: rgba(206, 39, 38, 0.5);\">got</span> <span title=\"0.154\" style=\"background-color: rgba(230, 80, 53, 0.5);\">a</span> <span title=\"0.035\" style=\"background-color: rgba(180, 15, 38, 0.5);\">problem</span> <span title=\"0.017\" style=\"background-color: rgba(172, 7, 38, 0.5);\">with</span> <span title=\"0.023\" style=\"background-color: rgba(174, 9, 38, 0.5);\">displaying</span> <span title=\"0.019\" style=\"background-color: rgba(172, 7, 38, 0.5);\">more</span> <span title=\"0.036\" style=\"background-color: rgba(182, 16, 38, 0.5);\">than</span> <span title=\"0.036\" style=\"background-color: rgba(182, 16, 38, 0.5);\">3</span> <span title=\"0.024\" style=\"background-color: rgba(176, 11, 38, 0.5);\">characters</span> <span title=\"0.023\" style=\"background-color: rgba(174, 9, 38, 0.5);\">!</span> <span title=\"0.059\" style=\"background-color: rgba(194, 28, 38, 0.5);\">xxmaj</span> <span title=\"0.034\" style=\"background-color: rgba(180, 15, 38, 0.5);\">my</span> <span title=\"0.055\" style=\"background-color: rgba(192, 26, 38, 0.5);\">system</span> <span title=\"0.038\" style=\"background-color: rgba(182, 16, 38, 0.5);\">:</span> <span title=\"0.109\" style=\"background-color: rgba(217, 53, 41, 0.5);\">xxup</span> <span title=\"0.068\" style=\"background-color: rgba(198, 32, 38, 0.5);\">486dx</span> <span title=\"0.083\" style=\"background-color: rgba(206, 39, 38, 0.5);\">/</span> <span title=\"0.063\" style=\"background-color: rgba(196, 30, 38, 0.5);\">33</span> <span title=\"0.113\" style=\"background-color: rgba(218, 56, 42, 0.5);\">,</span> <span title=\"0.098\" style=\"background-color: rgba(214, 47, 38, 0.5);\">8</span> <span title=\"0.032\" style=\"background-color: rgba(180, 15, 38, 0.5);\">m</span> <span title=\"0.043\" style=\"background-color: rgba(186, 20, 38, 0.5);\">memory</span> <span title=\"0.050\" style=\"background-color: rgba(188, 22, 38, 0.5);\">,</span> <span title=\"0.112\" style=\"background-color: rgba(217, 53, 41, 0.5);\">xxmaj</span> <span title=\"0.138\" style=\"background-color: rgba(225, 70, 49, 0.5);\">stacker</span> <span title=\"0.087\" style=\"background-color: rgba(208, 41, 38, 0.5);\">3.0</span> <span title=\"0.130\" style=\"background-color: rgba(223, 65, 47, 0.5);\">,</span> <span title=\"0.555\" style=\"background-color: rgba(233, 245, 161, 0.5);\">xxup</span> <span title=\"0.162\" style=\"background-color: rgba(232, 85, 56, 0.5);\">dos</span> <span title=\"0.070\" style=\"background-color: rgba(198, 32, 38, 0.5);\">5</span> <span title=\"0.031\" style=\"background-color: rgba(180, 15, 38, 0.5);\">,</span> <span title=\"0.064\" style=\"background-color: rgba(196, 30, 38, 0.5);\">xxmaj</span> <span title=\"0.084\" style=\"background-color: rgba(206, 39, 38, 0.5);\">win</span> <span title=\"0.114\" style=\"background-color: rgba(218, 56, 42, 0.5);\">3.1</span> <span title=\"0.071\" style=\"background-color: rgba(200, 33, 38, 0.5);\">.</span> <span title=\"0.165\" style=\"background-color: rgba(233, 87, 57, 0.5);\">i</span> <span title=\"0.737\" style=\"background-color: rgba(142, 206, 103, 0.5);\">&#x27;ve</span> <span title=\"0.110\" style=\"background-color: rgba(217, 53, 41, 0.5);\">run</span> <span title=\"0.048\" style=\"background-color: rgba(188, 22, 38, 0.5);\">the</span> <span title=\"0.080\" style=\"background-color: rgba(204, 37, 38, 0.5);\">latest</span> <span title=\"0.221\" style=\"background-color: rgba(245, 121, 72, 0.5);\">virus</span> <span title=\"0.077\" style=\"background-color: rgba(202, 35, 38, 0.5);\">scanners</span> <span title=\"0.064\" style=\"background-color: rgba(196, 30, 38, 0.5);\">(</span> <span title=\"0.143\" style=\"background-color: rgba(226, 73, 50, 0.5);\">xxunk</span> <span title=\"0.446\" style=\"background-color: rgba(254, 238, 163, 0.5);\">,</span> <span title=\"0.094\" style=\"background-color: rgba(210, 43, 38, 0.5);\">f</span> <span title=\"0.015\" style=\"background-color: rgba(170, 5, 38, 0.5);\">-</span> <span title=\"0.025\" style=\"background-color: rgba(176, 11, 38, 0.5);\">prot</span> <span title=\"0.025\" style=\"background-color: rgba(176, 11, 38, 0.5);\">)</span> <span title=\"0.039\" style=\"background-color: rgba(184, 18, 38, 0.5);\">and</span> <span title=\"0.030\" style=\"background-color: rgba(178, 13, 38, 0.5);\">they</span> <span title=\"0.033\" style=\"background-color: rgba(180, 15, 38, 0.5);\">did</span> <span title=\"0.087\" style=\"background-color: rgba(208, 41, 38, 0.5);\">n&#x27;t</span> <span title=\"0.186\" style=\"background-color: rgba(239, 99, 62, 0.5);\">report</span> <span title=\"0.096\" style=\"background-color: rgba(212, 45, 38, 0.5);\">anything</span> <span title=\"0.021\" style=\"background-color: rgba(174, 9, 38, 0.5);\">.</span> <span title=\"0.043\" style=\"background-color: rgba(184, 18, 38, 0.5);\">xxmaj</span> <span title=\"0.015\" style=\"background-color: rgba(170, 5, 38, 0.5);\">could</span> <span title=\"0.051\" style=\"background-color: rgba(190, 24, 38, 0.5);\">i</span> <span title=\"0.029\" style=\"background-color: rgba(178, 13, 38, 0.5);\">have</span> <span title=\"0.118\" style=\"background-color: rgba(220, 58, 43, 0.5);\">unknowingly</span> <span title=\"0.010\" style=\"background-color: rgba(168, 3, 38, 0.5);\">altered</span> <span title=\"0.009\" style=\"background-color: rgba(168, 3, 38, 0.5);\">something</span> <span title=\"0.013\" style=\"background-color: rgba(170, 5, 38, 0.5);\">that</span> <span title=\"0.015\" style=\"background-color: rgba(170, 5, 38, 0.5);\">controls</span> <span title=\"0.014\" style=\"background-color: rgba(170, 5, 38, 0.5);\">the</span> <span title=\"0.028\" style=\"background-color: rgba(178, 13, 38, 0.5);\">formatting</span> <span title=\"0.018\" style=\"background-color: rgba(172, 7, 38, 0.5);\">of</span> <span title=\"0.012\" style=\"background-color: rgba(170, 5, 38, 0.5);\">the</span> <span title=\"0.021\" style=\"background-color: rgba(174, 9, 38, 0.5);\">status</span> <span title=\"0.030\" style=\"background-color: rgba(178, 13, 38, 0.5);\">bar</span> <span title=\"0.082\" style=\"background-color: rgba(204, 37, 38, 0.5);\">in</span> <span title=\"0.049\" style=\"background-color: rgba(188, 22, 38, 0.5);\">the</span> <span title=\"0.045\" style=\"background-color: rgba(186, 20, 38, 0.5);\">xxunk</span> <span title=\"0.120\" style=\"background-color: rgba(220, 58, 43, 0.5);\">?</span> <span title=\"0.075\" style=\"background-color: rgba(202, 35, 38, 0.5);\">xxrep</span> <span title=\"0.049\" style=\"background-color: rgba(188, 22, 38, 0.5);\">77</span> <span title=\"0.041\" style=\"background-color: rgba(184, 18, 38, 0.5);\">-</span> <span title=\"0.096\" style=\"background-color: rgba(212, 45, 38, 0.5);\">_</span> <span title=\"0.054\" style=\"background-color: rgba(190, 24, 38, 0.5);\">/</span> <span title=\"0.171\" style=\"background-color: rgba(234, 89, 58, 0.5);\">_</span> <span title=\"0.032\" style=\"background-color: rgba(180, 15, 38, 0.5);\">/</span> <span title=\"0.025\" style=\"background-color: rgba(176, 11, 38, 0.5);\">_</span> <span title=\"0.030\" style=\"background-color: rgba(178, 13, 38, 0.5);\">/</span> <span title=\"0.105\" style=\"background-color: rgba(215, 49, 39, 0.5);\">_</span> <span title=\"0.127\" style=\"background-color: rgba(222, 63, 46, 0.5);\">/</span> <span title=\"0.016\" style=\"background-color: rgba(172, 7, 38, 0.5);\">_</span> <span title=\"0.024\" style=\"background-color: rgba(176, 11, 38, 0.5);\">/</span> <span title=\"0.069\" style=\"background-color: rgba(198, 32, 38, 0.5);\">_</span> <span title=\"0.037\" style=\"background-color: rgba(182, 16, 38, 0.5);\">/</span> <span title=\"0.039\" style=\"background-color: rgba(182, 16, 38, 0.5);\">_</span> <span title=\"0.074\" style=\"background-color: rgba(200, 33, 38, 0.5);\">/</span> <span title=\"0.060\" style=\"background-color: rgba(194, 28, 38, 0.5);\">_</span> <span title=\"0.036\" style=\"background-color: rgba(182, 16, 38, 0.5);\">/</span> <span title=\"0.037\" style=\"background-color: rgba(182, 16, 38, 0.5);\">xxmaj</span> <span title=\"0.057\" style=\"background-color: rgba(192, 26, 38, 0.5);\">nicholas</span> <span title=\"0.042\" style=\"background-color: rgba(184, 18, 38, 0.5);\">xxmaj</span> <span title=\"0.049\" style=\"background-color: rgba(188, 22, 38, 0.5);\">xxunk</span> <span title=\"0.031\" style=\"background-color: rgba(180, 15, 38, 0.5);\">,</span> <span title=\"0.037\" style=\"background-color: rgba(182, 16, 38, 0.5);\">xxunk</span> <span title=\"0.025\" style=\"background-color: rgba(176, 11, 38, 0.5);\">_</span> <span title=\"0.032\" style=\"background-color: rgba(180, 15, 38, 0.5);\">/</span> <span title=\"0.023\" style=\"background-color: rgba(174, 9, 38, 0.5);\">xxwrep</span> <span title=\"0.030\" style=\"background-color: rgba(178, 13, 38, 0.5);\">6</span> <span title=\"0.022\" style=\"background-color: rgba(174, 9, 38, 0.5);\">_</span> <span title=\"0.030\" style=\"background-color: rgba(178, 13, 38, 0.5);\">/</span> <span title=\"0.023\" style=\"background-color: rgba(174, 9, 38, 0.5);\">xxmaj</span> <span title=\"0.031\" style=\"background-color: rgba(180, 15, 38, 0.5);\">bell</span> <span title=\"0.026\" style=\"background-color: rgba(176, 11, 38, 0.5);\">-</span> <span title=\"0.038\" style=\"background-color: rgba(182, 16, 38, 0.5);\">xxmaj</span> <span title=\"0.041\" style=\"background-color: rgba(184, 18, 38, 0.5);\">northern</span> <span title=\"0.060\" style=\"background-color: rgba(194, 28, 38, 0.5);\">xxmaj</span> <span title=\"0.203\" style=\"background-color: rgba(244, 111, 68, 0.5);\">research</span> <span title=\"0.070\" style=\"background-color: rgba(198, 32, 38, 0.5);\">,</span> <span title=\"0.094\" style=\"background-color: rgba(212, 45, 38, 0.5);\">xxmaj</span> <span title=\"0.024\" style=\"background-color: rgba(176, 11, 38, 0.5);\">ottawa</span> <span title=\"0.070\" style=\"background-color: rgba(198, 32, 38, 0.5);\">xxwrep</span> <span title=\"0.043\" style=\"background-color: rgba(186, 20, 38, 0.5);\">5</span> <span title=\"0.055\" style=\"background-color: rgba(192, 26, 38, 0.5);\">_</span> <span title=\"0.040\" style=\"background-color: rgba(184, 18, 38, 0.5);\">/</span> <span title=\"0.066\" style=\"background-color: rgba(196, 30, 38, 0.5);\">_</span> <span title=\"0.034\" style=\"background-color: rgba(180, 15, 38, 0.5);\">/</span> <span title=\"0.046\" style=\"background-color: rgba(186, 20, 38, 0.5);\">_</span> <span title=\"0.034\" style=\"background-color: rgba(180, 15, 38, 0.5);\">/</span> <span title=\"0.040\" style=\"background-color: rgba(184, 18, 38, 0.5);\">(</span> <span title=\"0.134\" style=\"background-color: rgba(224, 68, 48, 0.5);\">613</span> <span title=\"0.070\" style=\"background-color: rgba(198, 32, 38, 0.5);\">)</span> <span title=\"0.061\" style=\"background-color: rgba(194, 28, 38, 0.5);\">765</span> <span title=\"0.156\" style=\"background-color: rgba(230, 80, 53, 0.5);\">-</span> <span title=\"0.075\" style=\"background-color: rgba(202, 35, 38, 0.5);\">xxunk</span> <span title=\"0.050\" style=\"background-color: rgba(188, 22, 38, 0.5);\">/</span> <span title=\"0.022\" style=\"background-color: rgba(174, 9, 38, 0.5);\">xxunk</span> <span title=\"0.031\" style=\"background-color: rgba(178, 13, 38, 0.5);\">-</span> <span title=\"0.126\" style=\"background-color: rgba(222, 63, 46, 0.5);\">xxunk</span> <span title=\"0.054\" style=\"background-color: rgba(190, 24, 38, 0.5);\">_</span> <span title=\"0.120\" style=\"background-color: rgba(220, 58, 43, 0.5);\">/</span> <span title=\"0.025\" style=\"background-color: rgba(176, 11, 38, 0.5);\">_</span> <span title=\"0.031\" style=\"background-color: rgba(180, 15, 38, 0.5);\">/</span> <span title=\"0.021\" style=\"background-color: rgba(174, 9, 38, 0.5);\">xxwrep</span> <span title=\"0.034\" style=\"background-color: rgba(180, 15, 38, 0.5);\">5</span> <span title=\"0.028\" style=\"background-color: rgba(178, 13, 38, 0.5);\">_</span> <span title=\"0.046\" style=\"background-color: rgba(186, 20, 38, 0.5);\">/</span> <span title=\"0.044\" style=\"background-color: rgba(186, 20, 38, 0.5);\">_</span> <span title=\"0.078\" style=\"background-color: rgba(204, 37, 38, 0.5);\">/</span> <span title=\"0.324\" style=\"background-color: rgba(253, 184, 106, 0.5);\">_</span> <span title=\"0.133\" style=\"background-color: rgba(224, 68, 48, 0.5);\">/</span> <span title=\"0.211\" style=\"background-color: rgba(244, 114, 69, 0.5);\">_</span> <span title=\"0.115\" style=\"background-color: rgba(218, 56, 42, 0.5);\">/</span> <span title=\"0.037\" style=\"background-color: rgba(182, 16, 38, 0.5);\">_</span> <span title=\"0.024\" style=\"background-color: rgba(176, 11, 38, 0.5);\">/</span> <span title=\"0.037\" style=\"background-color: rgba(182, 16, 38, 0.5);\">_</span> <span title=\"0.017\" style=\"background-color: rgba(172, 7, 38, 0.5);\">/</span> <span title=\"0.044\" style=\"background-color: rgba(186, 20, 38, 0.5);\">_</span> <span title=\"0.040\" style=\"background-color: rgba(184, 18, 38, 0.5);\">/</span> <span title=\"0.045\" style=\"background-color: rgba(186, 20, 38, 0.5);\">_</span> <span title=\"0.026\" style=\"background-color: rgba(176, 11, 38, 0.5);\">/</span> <span title=\"0.032\" style=\"background-color: rgba(180, 15, 38, 0.5);\">_</span> <span title=\"0.028\" style=\"background-color: rgba(178, 13, 38, 0.5);\">/</span> <span title=\"0.048\" style=\"background-color: rgba(188, 22, 38, 0.5);\">xxup</span> <span title=\"0.025\" style=\"background-color: rgba(176, 11, 38, 0.5);\">xxunk</span> <span title=\"0.029\" style=\"background-color: rgba(178, 13, 38, 0.5);\">xxmaj</span> <span title=\"0.025\" style=\"background-color: rgba(176, 11, 38, 0.5);\">development</span> <span title=\"0.031\" style=\"background-color: rgba(178, 13, 38, 0.5);\">xxmaj</span> <span title=\"0.041\" style=\"background-color: rgba(184, 18, 38, 0.5);\">operations</span> <span title=\"0.024\" style=\"background-color: rgba(176, 11, 38, 0.5);\">xxrep</span> <span title=\"0.035\" style=\"background-color: rgba(180, 15, 38, 0.5);\">77</span> <span title=\"0.025\" style=\"background-color: rgba(176, 11, 38, 0.5);\">-</span></span>"
      ],
      "text/plain": [
       "<IPython.core.display.HTML object>"
      ]
     },
     "metadata": {},
     "output_type": "display_data"
    }
   ],
   "source": [
    "model_interpret(580)"
   ]
  },
  {
   "cell_type": "code",
   "execution_count": 46,
   "metadata": {},
   "outputs": [
    {
     "name": "stderr",
     "output_type": "stream",
     "text": [
      "C:\\Users\\p1thiyya\\.conda\\envs\\fastai_v1\\lib\\site-packages\\fastai\\torch_core.py:83: UserWarning: Tensor is int32: upgrading to int64; for better performance use int64 input\n",
      "  warn('Tensor is int32: upgrading to int64; for better performance use int64 input')\n"
     ]
    },
    {
     "name": "stdout",
     "output_type": "stream",
     "text": [
      "Actual: comp.windows.x, Precition: comp.windows.x, Probaility: 99.99\n"
     ]
    },
    {
     "name": "stderr",
     "output_type": "stream",
     "text": [
      "C:\\Users\\p1thiyya\\.conda\\envs\\fastai_v1\\lib\\site-packages\\fastai\\torch_core.py:83: UserWarning: Tensor is int32: upgrading to int64; for better performance use int64 input\n",
      "  warn('Tensor is int32: upgrading to int64; for better performance use int64 input')\n"
     ]
    },
    {
     "data": {
      "text/html": [
       "<span style=\"font-family: monospace;\"><span title=\"0.244\" style=\"background-color: rgba(247, 137, 79, 0.5);\">xxbos</span> <span title=\"0.241\" style=\"background-color: rgba(247, 134, 78, 0.5);\">&gt;</span> <span title=\"0.169\" style=\"background-color: rgba(234, 89, 58, 0.5);\">xxmaj</span> <span title=\"0.131\" style=\"background-color: rgba(223, 65, 47, 0.5);\">if</span> <span title=\"0.273\" style=\"background-color: rgba(250, 154, 88, 0.5);\">anyone</span> <span title=\"0.328\" style=\"background-color: rgba(253, 186, 107, 0.5);\">has</span> <span title=\"0.279\" style=\"background-color: rgba(251, 159, 90, 0.5);\">any</span> <span title=\"0.298\" style=\"background-color: rgba(252, 172, 96, 0.5);\">information</span> <span title=\"0.351\" style=\"background-color: rgba(253, 198, 117, 0.5);\">about</span> <span title=\"0.175\" style=\"background-color: rgba(236, 92, 59, 0.5);\">the</span> <span title=\"0.212\" style=\"background-color: rgba(245, 116, 70, 0.5);\">existence</span> <span title=\"0.739\" style=\"background-color: rgba(139, 205, 103, 0.5);\">or</span> <span title=\"0.226\" style=\"background-color: rgba(246, 124, 74, 0.5);\">location</span> <span title=\"0.792\" style=\"background-color: rgba(107, 191, 99, 0.5);\">of</span> <span title=\"0.368\" style=\"background-color: rgba(253, 208, 125, 0.5);\">a</span> <span title=\"0.256\" style=\"background-color: rgba(248, 144, 83, 0.5);\">&gt;</span> <span title=\"0.249\" style=\"background-color: rgba(248, 139, 81, 0.5);\">dedicated</span> <span title=\"0.234\" style=\"background-color: rgba(246, 129, 76, 0.5);\">x</span> <span title=\"0.706\" style=\"background-color: rgba(162, 215, 105, 0.5);\">server</span> <span title=\"0.805\" style=\"background-color: rgba(96, 186, 97, 0.5);\">kernel</span> <span title=\"0.399\" style=\"background-color: rgba(254, 224, 139, 0.5);\">for</span> <span title=\"0.356\" style=\"background-color: rgba(253, 202, 120, 0.5);\">the</span> <span title=\"0.118\" style=\"background-color: rgba(220, 58, 43, 0.5);\">xxmaj</span> <span title=\"0.140\" style=\"background-color: rgba(225, 70, 49, 0.5);\">sun3</span> <span title=\"0.322\" style=\"background-color: rgba(253, 184, 106, 0.5);\">,</span> <span title=\"1.000\" style=\"background-color: rgba(0, 104, 55, 0.5);\">please</span> <span title=\"0.066\" style=\"background-color: rgba(196, 30, 38, 0.5);\">send</span> <span title=\"0.125\" style=\"background-color: rgba(222, 63, 46, 0.5);\">email</span> <span title=\"0.183\" style=\"background-color: rgba(238, 97, 61, 0.5);\">.</span> <span title=\"0.231\" style=\"background-color: rgba(246, 129, 76, 0.5);\">i</span> <span title=\"0.021\" style=\"background-color: rgba(174, 9, 38, 0.5);\">am</span> <span title=\"0.026\" style=\"background-color: rgba(176, 11, 38, 0.5);\">&gt;</span> <span title=\"0.041\" style=\"background-color: rgba(184, 18, 38, 0.5);\">trying</span> <span title=\"0.032\" style=\"background-color: rgba(180, 15, 38, 0.5);\">to</span> <span title=\"0.031\" style=\"background-color: rgba(178, 13, 38, 0.5);\">put</span> <span title=\"0.080\" style=\"background-color: rgba(204, 37, 38, 0.5);\">some</span> <span title=\"0.031\" style=\"background-color: rgba(178, 13, 38, 0.5);\">neglected</span> <span title=\"0.104\" style=\"background-color: rgba(215, 49, 39, 0.5);\">xxmaj</span> <span title=\"0.147\" style=\"background-color: rgba(228, 75, 51, 0.5);\">sun3s</span> <span title=\"0.306\" style=\"background-color: rgba(253, 176, 99, 0.5);\">to</span> <span title=\"0.207\" style=\"background-color: rgba(244, 114, 69, 0.5);\">good</span> <span title=\"0.906\" style=\"background-color: rgba(24, 149, 78, 0.5);\">use</span> <span title=\"0.090\" style=\"background-color: rgba(210, 43, 38, 0.5);\">but</span> <span title=\"0.202\" style=\"background-color: rgba(244, 109, 67, 0.5);\">they</span> <span title=\"0.036\" style=\"background-color: rgba(182, 16, 38, 0.5);\">do</span> <span title=\"0.028\" style=\"background-color: rgba(178, 13, 38, 0.5);\">n&#x27;t</span> <span title=\"0.032\" style=\"background-color: rgba(180, 15, 38, 0.5);\">have</span> <span title=\"0.043\" style=\"background-color: rgba(184, 18, 38, 0.5);\">&gt;</span> <span title=\"0.044\" style=\"background-color: rgba(186, 20, 38, 0.5);\">enough</span> <span title=\"0.057\" style=\"background-color: rgba(192, 26, 38, 0.5);\">memory</span> <span title=\"0.072\" style=\"background-color: rgba(200, 33, 38, 0.5);\">for</span> <span title=\"0.067\" style=\"background-color: rgba(198, 32, 38, 0.5);\">sunos</span> <span title=\"0.137\" style=\"background-color: rgba(224, 68, 48, 0.5);\">4.1.1</span> <span title=\"0.190\" style=\"background-color: rgba(240, 101, 63, 0.5);\">.</span> <span title=\"0.168\" style=\"background-color: rgba(233, 87, 57, 0.5);\">xxmaj</span> <span title=\"0.375\" style=\"background-color: rgba(253, 210, 127, 0.5);\">thanks</span> <span title=\"0.176\" style=\"background-color: rgba(237, 94, 60, 0.5);\">in</span> <span title=\"0.020\" style=\"background-color: rgba(174, 9, 38, 0.5);\">advance</span> <span title=\"0.023\" style=\"background-color: rgba(174, 9, 38, 0.5);\">for</span> <span title=\"0.100\" style=\"background-color: rgba(214, 47, 38, 0.5);\">any</span> <span title=\"0.030\" style=\"background-color: rgba(178, 13, 38, 0.5);\">help</span> <span title=\"0.043\" style=\"background-color: rgba(184, 18, 38, 0.5);\">.</span> <span title=\"0.027\" style=\"background-color: rgba(176, 11, 38, 0.5);\">xxmaj</span> <span title=\"0.044\" style=\"background-color: rgba(186, 20, 38, 0.5);\">there</span> <span title=\"0.023\" style=\"background-color: rgba(174, 9, 38, 0.5);\">is</span> <span title=\"0.020\" style=\"background-color: rgba(174, 9, 38, 0.5);\">a</span> <span title=\"0.048\" style=\"background-color: rgba(188, 22, 38, 0.5);\">free</span> <span title=\"0.038\" style=\"background-color: rgba(182, 16, 38, 0.5);\">program</span> <span title=\"0.063\" style=\"background-color: rgba(196, 30, 38, 0.5);\">called</span> <span title=\"0.037\" style=\"background-color: rgba(182, 16, 38, 0.5);\">&#x27;</span> <span title=\"0.055\" style=\"background-color: rgba(192, 26, 38, 0.5);\">xkernel</span> <span title=\"0.123\" style=\"background-color: rgba(221, 61, 45, 0.5);\">&#x27;</span> <span title=\"0.178\" style=\"background-color: rgba(237, 94, 60, 0.5);\">which</span> <span title=\"0.150\" style=\"background-color: rgba(229, 77, 52, 0.5);\">does</span> <span title=\"0.191\" style=\"background-color: rgba(240, 101, 63, 0.5);\">just</span> <span title=\"0.769\" style=\"background-color: rgba(122, 197, 101, 0.5);\">that</span> <span title=\"0.053\" style=\"background-color: rgba(190, 24, 38, 0.5);\">.</span> <span title=\"0.031\" style=\"background-color: rgba(180, 15, 38, 0.5);\">xxmaj</span> <span title=\"0.029\" style=\"background-color: rgba(178, 13, 38, 0.5);\">it</span> <span title=\"0.029\" style=\"background-color: rgba(178, 13, 38, 0.5);\">is</span> <span title=\"0.019\" style=\"background-color: rgba(172, 7, 38, 0.5);\">by</span> <span title=\"0.029\" style=\"background-color: rgba(178, 13, 38, 0.5);\">xxmaj</span> <span title=\"0.060\" style=\"background-color: rgba(194, 28, 38, 0.5);\">seth</span> <span title=\"0.046\" style=\"background-color: rgba(186, 20, 38, 0.5);\">xxmaj</span> <span title=\"0.055\" style=\"background-color: rgba(192, 26, 38, 0.5);\">robertson</span> <span title=\"0.064\" style=\"background-color: rgba(196, 30, 38, 0.5);\">(</span> <span title=\"0.071\" style=\"background-color: rgba(200, 33, 38, 0.5);\">xxunk</span> <span title=\"0.076\" style=\"background-color: rgba(202, 35, 38, 0.5);\">)</span> <span title=\"0.335\" style=\"background-color: rgba(253, 190, 110, 0.5);\">.</span> <span title=\"0.116\" style=\"background-color: rgba(218, 56, 42, 0.5);\">xxmaj</span> <span title=\"0.246\" style=\"background-color: rgba(248, 139, 81, 0.5);\">it</span> <span title=\"0.030\" style=\"background-color: rgba(178, 13, 38, 0.5);\">takes</span> <span title=\"0.063\" style=\"background-color: rgba(196, 30, 38, 0.5);\">a</span> <span title=\"0.023\" style=\"background-color: rgba(174, 9, 38, 0.5);\">sun</span> <span title=\"0.018\" style=\"background-color: rgba(172, 7, 38, 0.5);\">3</span> <span title=\"0.019\" style=\"background-color: rgba(172, 7, 38, 0.5);\">and</span> <span title=\"0.033\" style=\"background-color: rgba(180, 15, 38, 0.5);\">boots</span> <span title=\"0.067\" style=\"background-color: rgba(198, 32, 38, 0.5);\">a</span> <span title=\"0.044\" style=\"background-color: rgba(186, 20, 38, 0.5);\">limited</span> <span title=\"0.108\" style=\"background-color: rgba(216, 51, 40, 0.5);\">kernel</span> <span title=\"0.049\" style=\"background-color: rgba(188, 22, 38, 0.5);\">which</span> <span title=\"0.024\" style=\"background-color: rgba(176, 11, 38, 0.5);\">allows</span> <span title=\"0.041\" style=\"background-color: rgba(184, 18, 38, 0.5);\">you</span> <span title=\"0.113\" style=\"background-color: rgba(217, 53, 41, 0.5);\">to</span> <span title=\"0.040\" style=\"background-color: rgba(184, 18, 38, 0.5);\">run</span> <span title=\"0.066\" style=\"background-color: rgba(198, 32, 38, 0.5);\">xxup</span> <span title=\"0.094\" style=\"background-color: rgba(212, 45, 38, 0.5);\">x.</span> <span title=\"0.024\" style=\"background-color: rgba(176, 11, 38, 0.5);\">xxmaj</span> <span title=\"0.036\" style=\"background-color: rgba(182, 16, 38, 0.5);\">we</span> <span title=\"0.025\" style=\"background-color: rgba(176, 11, 38, 0.5);\">converted</span> <span title=\"0.014\" style=\"background-color: rgba(170, 5, 38, 0.5);\">4</span> <span title=\"0.045\" style=\"background-color: rgba(186, 20, 38, 0.5);\">machines</span> <span title=\"0.064\" style=\"background-color: rgba(196, 30, 38, 0.5);\">over</span> <span title=\"0.065\" style=\"background-color: rgba(196, 30, 38, 0.5);\">this</span> <span title=\"0.027\" style=\"background-color: rgba(176, 11, 38, 0.5);\">semester</span> <span title=\"0.052\" style=\"background-color: rgba(190, 24, 38, 0.5);\">and</span> <span title=\"0.082\" style=\"background-color: rgba(206, 39, 38, 0.5);\">the</span> <span title=\"0.062\" style=\"background-color: rgba(194, 28, 38, 0.5);\">speedup</span> <span title=\"0.056\" style=\"background-color: rgba(192, 26, 38, 0.5);\">is</span> <span title=\"0.131\" style=\"background-color: rgba(223, 65, 47, 0.5);\">enormously</span> <span title=\"0.055\" style=\"background-color: rgba(192, 26, 38, 0.5);\">xxunk</span> <span title=\"0.055\" style=\"background-color: rgba(192, 26, 38, 0.5);\">--</span> <span title=\"0.144\" style=\"background-color: rgba(226, 73, 50, 0.5);\">i</span> <span title=\"0.032\" style=\"background-color: rgba(180, 15, 38, 0.5);\">find</span> <span title=\"0.043\" style=\"background-color: rgba(184, 18, 38, 0.5);\">them</span> <span title=\"0.113\" style=\"background-color: rgba(217, 53, 41, 0.5);\">faster</span> <span title=\"0.065\" style=\"background-color: rgba(196, 30, 38, 0.5);\">than</span> <span title=\"0.149\" style=\"background-color: rgba(229, 77, 52, 0.5);\">an</span> <span title=\"0.033\" style=\"background-color: rgba(180, 15, 38, 0.5);\">xxup</span> <span title=\"0.025\" style=\"background-color: rgba(176, 11, 38, 0.5);\">ncd</span> <span title=\"0.060\" style=\"background-color: rgba(194, 28, 38, 0.5);\">15inch</span> <span title=\"0.049\" style=\"background-color: rgba(188, 22, 38, 0.5);\">black&amp;white</span> <span title=\"0.075\" style=\"background-color: rgba(202, 35, 38, 0.5);\">xterminal</span> <span title=\"0.084\" style=\"background-color: rgba(206, 39, 38, 0.5);\">that</span> <span title=\"0.103\" style=\"background-color: rgba(215, 49, 39, 0.5);\">we</span> <span title=\"0.075\" style=\"background-color: rgba(202, 35, 38, 0.5);\">are</span> <span title=\"0.095\" style=\"background-color: rgba(212, 45, 38, 0.5);\">playing</span> <span title=\"0.089\" style=\"background-color: rgba(208, 41, 38, 0.5);\">with</span> <span title=\"0.342\" style=\"background-color: rgba(253, 194, 114, 0.5);\">,</span> <span title=\"0.412\" style=\"background-color: rgba(254, 227, 145, 0.5);\">and</span> <span title=\"0.340\" style=\"background-color: rgba(253, 194, 114, 0.5);\">a</span> <span title=\"0.221\" style=\"background-color: rgba(245, 121, 72, 0.5);\">bigger</span> <span title=\"0.055\" style=\"background-color: rgba(192, 26, 38, 0.5);\">screen</span> <span title=\"0.076\" style=\"background-color: rgba(202, 35, 38, 0.5);\">to</span> <span title=\"0.017\" style=\"background-color: rgba(172, 7, 38, 0.5);\">boot</span> <span title=\"0.017\" style=\"background-color: rgba(172, 7, 38, 0.5);\">!</span> <span title=\"0.041\" style=\"background-color: rgba(184, 18, 38, 0.5);\">xxmaj</span> <span title=\"0.014\" style=\"background-color: rgba(170, 5, 38, 0.5);\">as</span> <span title=\"0.010\" style=\"background-color: rgba(168, 3, 38, 0.5);\">a</span> <span title=\"0.018\" style=\"background-color: rgba(172, 7, 38, 0.5);\">matter</span> <span title=\"0.029\" style=\"background-color: rgba(178, 13, 38, 0.5);\">of</span> <span title=\"0.053\" style=\"background-color: rgba(190, 24, 38, 0.5);\">fact</span> <span title=\"0.049\" style=\"background-color: rgba(188, 22, 38, 0.5);\">,</span> <span title=\"0.014\" style=\"background-color: rgba(170, 5, 38, 0.5);\">the</span> <span title=\"0.047\" style=\"background-color: rgba(186, 20, 38, 0.5);\">department</span> <span title=\"0.025\" style=\"background-color: rgba(176, 11, 38, 0.5);\">just</span> <span title=\"0.019\" style=\"background-color: rgba(172, 7, 38, 0.5);\">bought</span> <span title=\"0.024\" style=\"background-color: rgba(176, 11, 38, 0.5);\">some</span> <span title=\"0.027\" style=\"background-color: rgba(176, 11, 38, 0.5);\">old</span> <span title=\"0.042\" style=\"background-color: rgba(184, 18, 38, 0.5);\">sun3s</span> <span title=\"0.018\" style=\"background-color: rgba(172, 7, 38, 0.5);\">at</span> <span title=\"0.029\" style=\"background-color: rgba(178, 13, 38, 0.5);\">an</span> <span title=\"0.015\" style=\"background-color: rgba(170, 5, 38, 0.5);\">auction</span> <span title=\"0.032\" style=\"background-color: rgba(180, 15, 38, 0.5);\">to</span> <span title=\"0.036\" style=\"background-color: rgba(182, 16, 38, 0.5);\">convert</span> <span title=\"0.074\" style=\"background-color: rgba(202, 35, 38, 0.5);\">!</span> <span title=\"0.060\" style=\"background-color: rgba(194, 28, 38, 0.5);\">}</span> <span title=\"0.081\" style=\"background-color: rgba(204, 37, 38, 0.5);\">xxmaj</span> <span title=\"0.068\" style=\"background-color: rgba(198, 32, 38, 0.5);\">xkernel</span> <span title=\"0.114\" style=\"background-color: rgba(218, 56, 42, 0.5);\">is</span> <span title=\"0.352\" style=\"background-color: rgba(253, 200, 119, 0.5);\">available</span> <span title=\"0.141\" style=\"background-color: rgba(226, 73, 50, 0.5);\">for</span> <span title=\"0.095\" style=\"background-color: rgba(212, 45, 38, 0.5);\">anonymous</span> <span title=\"0.163\" style=\"background-color: rgba(232, 85, 56, 0.5);\">ftp</span> <span title=\"0.034\" style=\"background-color: rgba(180, 15, 38, 0.5);\">from</span> <span title=\"0.040\" style=\"background-color: rgba(184, 18, 38, 0.5);\">xxunk</span> <span title=\"0.041\" style=\"background-color: rgba(184, 18, 38, 0.5);\">}</span> <span title=\"0.064\" style=\"background-color: rgba(196, 30, 38, 0.5);\">[</span> <span title=\"0.088\" style=\"background-color: rgba(208, 41, 38, 0.5);\">xxunk</span> <span title=\"0.081\" style=\"background-color: rgba(204, 37, 38, 0.5);\">]</span> <span title=\"0.484\" style=\"background-color: rgba(254, 249, 181, 0.5);\">in</span> <span title=\"0.056\" style=\"background-color: rgba(192, 26, 38, 0.5);\">/</span> <span title=\"0.076\" style=\"background-color: rgba(202, 35, 38, 0.5);\">xxmaj</span> <span title=\"0.058\" style=\"background-color: rgba(192, 26, 38, 0.5);\">xkernel</span> <span title=\"0.092\" style=\"background-color: rgba(210, 43, 38, 0.5);\">/</span> <span title=\"0.117\" style=\"background-color: rgba(218, 56, 42, 0.5);\">xxmaj</span> <span title=\"0.053\" style=\"background-color: rgba(190, 24, 38, 0.5);\">xxunk</span> <span title=\"0.052\" style=\"background-color: rgba(190, 24, 38, 0.5);\">(</span> <span title=\"0.020\" style=\"background-color: rgba(174, 9, 38, 0.5);\">/</span> <span title=\"0.029\" style=\"background-color: rgba(178, 13, 38, 0.5);\">xxmaj</span> <span title=\"0.036\" style=\"background-color: rgba(182, 16, 38, 0.5);\">xkernel</span> <span title=\"0.036\" style=\"background-color: rgba(182, 16, 38, 0.5);\">is</span> <span title=\"0.025\" style=\"background-color: rgba(176, 11, 38, 0.5);\">a</span> <span title=\"0.024\" style=\"background-color: rgba(176, 11, 38, 0.5);\">xxunk</span> <span title=\"0.059\" style=\"background-color: rgba(194, 28, 38, 0.5);\">to</span> <span title=\"0.053\" style=\"background-color: rgba(190, 24, 38, 0.5);\">the</span> <span title=\"0.335\" style=\"background-color: rgba(253, 190, 110, 0.5);\">}</span> <span title=\"0.029\" style=\"background-color: rgba(178, 13, 38, 0.5);\">latest</span> <span title=\"0.016\" style=\"background-color: rgba(172, 7, 38, 0.5);\">version</span> <span title=\"0.040\" style=\"background-color: rgba(184, 18, 38, 0.5);\">of</span> <span title=\"0.017\" style=\"background-color: rgba(172, 7, 38, 0.5);\">xxmaj</span> <span title=\"0.027\" style=\"background-color: rgba(176, 11, 38, 0.5);\">xkernel</span> <span title=\"0.034\" style=\"background-color: rgba(180, 15, 38, 0.5);\">)</span> <span title=\"0.226\" style=\"background-color: rgba(246, 124, 74, 0.5);\">xxmaj</span> <span title=\"0.023\" style=\"background-color: rgba(174, 9, 38, 0.5);\">note</span> <span title=\"0.023\" style=\"background-color: rgba(176, 11, 38, 0.5);\">that</span> <span title=\"0.049\" style=\"background-color: rgba(188, 22, 38, 0.5);\">the</span> <span title=\"0.019\" style=\"background-color: rgba(172, 7, 38, 0.5);\">compiled</span> <span title=\"0.023\" style=\"background-color: rgba(174, 9, 38, 0.5);\">version</span> <span title=\"0.029\" style=\"background-color: rgba(178, 13, 38, 0.5);\">which</span> <span title=\"0.039\" style=\"background-color: rgba(182, 16, 38, 0.5);\">is</span> <span title=\"0.064\" style=\"background-color: rgba(196, 30, 38, 0.5);\">available</span> <span title=\"0.096\" style=\"background-color: rgba(212, 45, 38, 0.5);\">is</span> <span title=\"0.029\" style=\"background-color: rgba(178, 13, 38, 0.5);\">for</span> <span title=\"0.051\" style=\"background-color: rgba(190, 24, 38, 0.5);\">the</span> <span title=\"0.364\" style=\"background-color: rgba(253, 206, 124, 0.5);\">sun</span> <span title=\"0.022\" style=\"background-color: rgba(174, 9, 38, 0.5);\">3</span> <span title=\"0.038\" style=\"background-color: rgba(182, 16, 38, 0.5);\">/</span> <span title=\"0.020\" style=\"background-color: rgba(174, 9, 38, 0.5);\">50</span> <span title=\"0.049\" style=\"background-color: rgba(188, 22, 38, 0.5);\">,</span> <span title=\"0.026\" style=\"background-color: rgba(176, 11, 38, 0.5);\">but</span> <span title=\"0.043\" style=\"background-color: rgba(184, 18, 38, 0.5);\">compiling</span> <span title=\"0.154\" style=\"background-color: rgba(230, 80, 53, 0.5);\">to</span> <span title=\"0.085\" style=\"background-color: rgba(206, 39, 38, 0.5);\">work</span> <span title=\"0.031\" style=\"background-color: rgba(178, 13, 38, 0.5);\">for</span> <span title=\"0.019\" style=\"background-color: rgba(172, 7, 38, 0.5);\">a</span> <span title=\"0.029\" style=\"background-color: rgba(178, 13, 38, 0.5);\">sun</span> <span title=\"0.030\" style=\"background-color: rgba(178, 13, 38, 0.5);\">3</span> <span title=\"0.038\" style=\"background-color: rgba(182, 16, 38, 0.5);\">/</span> <span title=\"0.031\" style=\"background-color: rgba(180, 15, 38, 0.5);\">xxunk</span> <span title=\"0.044\" style=\"background-color: rgba(186, 20, 38, 0.5);\">should</span> <span title=\"0.083\" style=\"background-color: rgba(206, 39, 38, 0.5);\">be</span> <span title=\"0.056\" style=\"background-color: rgba(192, 26, 38, 0.5);\">quite</span> <span title=\"0.019\" style=\"background-color: rgba(172, 7, 38, 0.5);\">easy</span> <span title=\"0.018\" style=\"background-color: rgba(172, 7, 38, 0.5);\">.</span> <span title=\"0.008\" style=\"background-color: rgba(166, 1, 38, 0.5);\">i</span> <span title=\"0.021\" style=\"background-color: rgba(174, 9, 38, 0.5);\">am</span> <span title=\"0.069\" style=\"background-color: rgba(198, 32, 38, 0.5);\">not</span> <span title=\"0.025\" style=\"background-color: rgba(176, 11, 38, 0.5);\">connected</span> <span title=\"0.046\" style=\"background-color: rgba(186, 20, 38, 0.5);\">with</span> <span title=\"0.028\" style=\"background-color: rgba(178, 13, 38, 0.5);\">xkernel</span> <span title=\"0.025\" style=\"background-color: rgba(176, 11, 38, 0.5);\">except</span> <span title=\"0.064\" style=\"background-color: rgba(196, 30, 38, 0.5);\">as</span> <span title=\"0.043\" style=\"background-color: rgba(186, 20, 38, 0.5);\">a</span> <span title=\"0.025\" style=\"background-color: rgba(176, 11, 38, 0.5);\">satisfied</span> <span title=\"0.018\" style=\"background-color: rgba(172, 7, 38, 0.5);\">installer</span> <span title=\"0.030\" style=\"background-color: rgba(178, 13, 38, 0.5);\">and</span> <span title=\"0.032\" style=\"background-color: rgba(180, 15, 38, 0.5);\">user</span> <span title=\"0.061\" style=\"background-color: rgba(194, 28, 38, 0.5);\">8)</span> <span title=\"0.016\" style=\"background-color: rgba(172, 7, 38, 0.5);\">.</span> <span title=\"0.013\" style=\"background-color: rgba(170, 5, 38, 0.5);\">i</span> <span title=\"0.030\" style=\"background-color: rgba(178, 13, 38, 0.5);\">may</span> <span title=\"0.019\" style=\"background-color: rgba(172, 7, 38, 0.5);\">be</span> <span title=\"0.024\" style=\"background-color: rgba(176, 11, 38, 0.5);\">able</span> <span title=\"0.031\" style=\"background-color: rgba(178, 13, 38, 0.5);\">to</span> <span title=\"0.058\" style=\"background-color: rgba(192, 26, 38, 0.5);\">answer</span> <span title=\"0.049\" style=\"background-color: rgba(188, 22, 38, 0.5);\">questions</span> <span title=\"0.286\" style=\"background-color: rgba(251, 165, 92, 0.5);\">;</span> <span title=\"0.054\" style=\"background-color: rgba(190, 24, 38, 0.5);\">feel</span> <span title=\"0.044\" style=\"background-color: rgba(186, 20, 38, 0.5);\">free</span> <span title=\"0.062\" style=\"background-color: rgba(194, 28, 38, 0.5);\">to</span> <span title=\"0.213\" style=\"background-color: rgba(245, 116, 70, 0.5);\">email</span> <span title=\"0.085\" style=\"background-color: rgba(206, 39, 38, 0.5);\">me</span> <span title=\"0.278\" style=\"background-color: rgba(251, 159, 90, 0.5);\">.</span> <span title=\"0.016\" style=\"background-color: rgba(172, 7, 38, 0.5);\">xxmaj</span> <span title=\"0.029\" style=\"background-color: rgba(178, 13, 38, 0.5);\">greg</span> <span title=\"0.028\" style=\"background-color: rgba(178, 13, 38, 0.5);\">xxmaj</span> <span title=\"0.007\" style=\"background-color: rgba(166, 1, 38, 0.5);\">owen</span> <span title=\"0.010\" style=\"background-color: rgba(168, 3, 38, 0.5);\">{</span> <span title=\"0.016\" style=\"background-color: rgba(170, 5, 38, 0.5);\">gowen@forte.cs.tufts.edu</span> <span title=\"0.010\" style=\"background-color: rgba(168, 3, 38, 0.5);\">,</span> <span title=\"0.016\" style=\"background-color: rgba(172, 7, 38, 0.5);\">gowen@jade.tufts.edu</span> <span title=\"0.009\" style=\"background-color: rgba(168, 3, 38, 0.5);\">}</span> <span title=\"0.045\" style=\"background-color: rgba(186, 20, 38, 0.5);\">xxmaj</span> <span title=\"0.025\" style=\"background-color: rgba(176, 11, 38, 0.5);\">systems</span> <span title=\"0.018\" style=\"background-color: rgba(172, 7, 38, 0.5);\">xxmaj</span> <span title=\"0.019\" style=\"background-color: rgba(172, 7, 38, 0.5);\">programmer</span> <span title=\"0.016\" style=\"background-color: rgba(172, 7, 38, 0.5);\">and</span> <span title=\"0.010\" style=\"background-color: rgba(168, 3, 38, 0.5);\">xxup</span> <span title=\"0.009\" style=\"background-color: rgba(168, 3, 38, 0.5);\">ta</span> <span title=\"0.026\" style=\"background-color: rgba(176, 11, 38, 0.5);\">,</span> <span title=\"0.018\" style=\"background-color: rgba(172, 7, 38, 0.5);\">xxmaj</span> <span title=\"0.027\" style=\"background-color: rgba(176, 11, 38, 0.5);\">tufts</span> <span title=\"0.056\" style=\"background-color: rgba(192, 26, 38, 0.5);\">xxmaj</span> <span title=\"0.091\" style=\"background-color: rgba(210, 43, 38, 0.5);\">university</span> <span title=\"0.280\" style=\"background-color: rgba(251, 159, 90, 0.5);\">xxmaj</span> <span title=\"0.143\" style=\"background-color: rgba(226, 73, 50, 0.5);\">computer</span> <span title=\"0.189\" style=\"background-color: rgba(240, 101, 63, 0.5);\">xxmaj</span> <span title=\"0.254\" style=\"background-color: rgba(248, 144, 83, 0.5);\">science</span> <span title=\"0.703\" style=\"background-color: rgba(164, 216, 105, 0.5);\">xxmaj</span> <span title=\"0.165\" style=\"background-color: rgba(233, 87, 57, 0.5);\">dept</span> <span title=\"0.415\" style=\"background-color: rgba(254, 228, 147, 0.5);\">.</span> <span title=\"0.089\" style=\"background-color: rgba(208, 41, 38, 0.5);\">230-</span> <span title=\"0.058\" style=\"background-color: rgba(192, 26, 38, 0.5);\">xxmaj</span> <span title=\"0.059\" style=\"background-color: rgba(194, 28, 38, 0.5);\">all</span> <span title=\"0.186\" style=\"background-color: rgba(239, 99, 62, 0.5);\">transfers</span> <span title=\"0.052\" style=\"background-color: rgba(190, 24, 38, 0.5);\">are</span> <span title=\"0.073\" style=\"background-color: rgba(200, 33, 38, 0.5);\">disclaimed</span> <span title=\"0.033\" style=\"background-color: rgba(180, 15, 38, 0.5);\">by</span> <span title=\"0.027\" style=\"background-color: rgba(176, 11, 38, 0.5);\">my</span> <span title=\"0.040\" style=\"background-color: rgba(184, 18, 38, 0.5);\">host</span> <span title=\"0.033\" style=\"background-color: rgba(180, 15, 38, 0.5);\">name</span> <span title=\"0.056\" style=\"background-color: rgba(192, 26, 38, 0.5);\">and</span> <span title=\"0.286\" style=\"background-color: rgba(251, 165, 92, 0.5);\">boss</span> <span title=\"0.086\" style=\"background-color: rgba(206, 39, 38, 0.5);\">&#x27;s</span> <span title=\"0.090\" style=\"background-color: rgba(208, 41, 38, 0.5);\">address</span> <span title=\"0.065\" style=\"background-color: rgba(196, 30, 38, 0.5);\">.</span> <span title=\"0.172\" style=\"background-color: rgba(234, 89, 58, 0.5);\">230-</span> <span title=\"0.070\" style=\"background-color: rgba(198, 32, 38, 0.5);\">xxmaj</span> <span title=\"0.149\" style=\"background-color: rgba(229, 77, 52, 0.5);\">if</span> <span title=\"0.064\" style=\"background-color: rgba(196, 30, 38, 0.5);\">you</span> <span title=\"0.022\" style=\"background-color: rgba(174, 9, 38, 0.5);\">do</span> <span title=\"0.019\" style=\"background-color: rgba(172, 7, 38, 0.5);\">n&#x27;t</span> <span title=\"0.039\" style=\"background-color: rgba(182, 16, 38, 0.5);\">like</span> <span title=\"0.104\" style=\"background-color: rgba(215, 49, 39, 0.5);\">this</span> <span title=\"0.033\" style=\"background-color: rgba(180, 15, 38, 0.5);\">policy</span> <span title=\"0.067\" style=\"background-color: rgba(198, 32, 38, 0.5);\">,</span> <span title=\"0.045\" style=\"background-color: rgba(186, 20, 38, 0.5);\">disconnect</span> <span title=\"0.030\" style=\"background-color: rgba(178, 13, 38, 0.5);\">now</span> <span title=\"0.124\" style=\"background-color: rgba(221, 61, 45, 0.5);\">!</span></span>"
      ],
      "text/plain": [
       "<IPython.core.display.HTML object>"
      ]
     },
     "metadata": {},
     "output_type": "display_data"
    }
   ],
   "source": [
    "model_interpret(1098)"
   ]
  },
  {
   "cell_type": "markdown",
   "metadata": {},
   "source": [
    "### Incorrect Prediction"
   ]
  },
  {
   "cell_type": "markdown",
   "metadata": {},
   "source": [
    "But it makes sense the email address was given more importance. we should probably use regular expression and clean the data further"
   ]
  },
  {
   "cell_type": "code",
   "execution_count": 47,
   "metadata": {
    "scrolled": true
   },
   "outputs": [
    {
     "name": "stderr",
     "output_type": "stream",
     "text": [
      "C:\\Users\\p1thiyya\\.conda\\envs\\fastai_v1\\lib\\site-packages\\fastai\\torch_core.py:83: UserWarning: Tensor is int32: upgrading to int64; for better performance use int64 input\n",
      "  warn('Tensor is int32: upgrading to int64; for better performance use int64 input')\n"
     ]
    },
    {
     "name": "stdout",
     "output_type": "stream",
     "text": [
      "Actual: alt.atheism, Precition: talk.religion.misc, Probaility: 56.23\n"
     ]
    },
    {
     "name": "stderr",
     "output_type": "stream",
     "text": [
      "C:\\Users\\p1thiyya\\.conda\\envs\\fastai_v1\\lib\\site-packages\\fastai\\torch_core.py:83: UserWarning: Tensor is int32: upgrading to int64; for better performance use int64 input\n",
      "  warn('Tensor is int32: upgrading to int64; for better performance use int64 input')\n"
     ]
    },
    {
     "data": {
      "text/html": [
       "<span style=\"font-family: monospace;\"><span title=\"0.256\" style=\"background-color: rgba(248, 144, 83, 0.5);\">xxbos</span> <span title=\"0.422\" style=\"background-color: rgba(254, 231, 151, 0.5);\">wpr@atlanta.dg.com</span> <span title=\"0.156\" style=\"background-color: rgba(230, 80, 53, 0.5);\">(</span> <span title=\"0.111\" style=\"background-color: rgba(217, 53, 41, 0.5);\">xxmaj</span> <span title=\"0.200\" style=\"background-color: rgba(244, 109, 67, 0.5);\">bill</span> <span title=\"0.125\" style=\"background-color: rgba(222, 63, 46, 0.5);\">xxmaj</span> <span title=\"0.497\" style=\"background-color: rgba(254, 254, 189, 0.5);\">rawlins</span> <span title=\"0.088\" style=\"background-color: rgba(208, 41, 38, 0.5);\">)</span> <span title=\"0.093\" style=\"background-color: rgba(210, 43, 38, 0.5);\">writes</span> <span title=\"0.032\" style=\"background-color: rgba(180, 15, 38, 0.5);\">:</span> <span title=\"0.053\" style=\"background-color: rgba(190, 24, 38, 0.5);\">&gt;</span> <span title=\"0.047\" style=\"background-color: rgba(188, 22, 38, 0.5);\">&gt;</span> <span title=\"0.025\" style=\"background-color: rgba(176, 11, 38, 0.5);\">[</span> <span title=\"0.037\" style=\"background-color: rgba(182, 16, 38, 0.5);\">...</span> <span title=\"0.031\" style=\"background-color: rgba(178, 13, 38, 0.5);\">]</span> <span title=\"0.033\" style=\"background-color: rgba(180, 15, 38, 0.5);\">it</span> <span title=\"0.041\" style=\"background-color: rgba(184, 18, 38, 0.5);\">is</span> <span title=\"0.058\" style=\"background-color: rgba(192, 26, 38, 0.5);\">patently</span> <span title=\"0.192\" style=\"background-color: rgba(241, 104, 64, 0.5);\">untrue</span> <span title=\"0.222\" style=\"background-color: rgba(245, 121, 72, 0.5);\">(</span> <span title=\"0.034\" style=\"background-color: rgba(180, 15, 38, 0.5);\">as</span> <span title=\"0.032\" style=\"background-color: rgba(180, 15, 38, 0.5);\">has</span> <span title=\"0.043\" style=\"background-color: rgba(186, 20, 38, 0.5);\">been</span> <span title=\"0.039\" style=\"background-color: rgba(184, 18, 38, 0.5);\">demonstrated</span> <span title=\"0.079\" style=\"background-color: rgba(204, 37, 38, 0.5);\">ad</span> <span title=\"0.092\" style=\"background-color: rgba(210, 43, 38, 0.5);\">&gt;</span> <span title=\"0.059\" style=\"background-color: rgba(194, 28, 38, 0.5);\">&gt;</span> <span title=\"0.025\" style=\"background-color: rgba(176, 11, 38, 0.5);\">nauseum</span> <span title=\"0.044\" style=\"background-color: rgba(186, 20, 38, 0.5);\">)</span> <span title=\"0.213\" style=\"background-color: rgba(245, 116, 70, 0.5);\">that</span> <span title=\"0.038\" style=\"background-color: rgba(182, 16, 38, 0.5);\">the</span> <span title=\"0.031\" style=\"background-color: rgba(178, 13, 38, 0.5);\">complexity</span> <span title=\"0.046\" style=\"background-color: rgba(186, 20, 38, 0.5);\">of</span> <span title=\"0.176\" style=\"background-color: rgba(237, 94, 60, 0.5);\">life</span> <span title=\"0.042\" style=\"background-color: rgba(184, 18, 38, 0.5);\">is</span> <span title=\"0.126\" style=\"background-color: rgba(222, 63, 46, 0.5);\">a</span> <span title=\"0.031\" style=\"background-color: rgba(180, 15, 38, 0.5);\">contradiction</span> <span title=\"0.049\" style=\"background-color: rgba(188, 22, 38, 0.5);\">of</span> <span title=\"0.118\" style=\"background-color: rgba(220, 58, 43, 0.5);\">the</span> <span title=\"0.042\" style=\"background-color: rgba(184, 18, 38, 0.5);\">second</span> <span title=\"0.024\" style=\"background-color: rgba(176, 11, 38, 0.5);\">&gt;</span> <span title=\"0.035\" style=\"background-color: rgba(180, 15, 38, 0.5);\">&gt;</span> <span title=\"0.025\" style=\"background-color: rgba(176, 11, 38, 0.5);\">law</span> <span title=\"0.013\" style=\"background-color: rgba(170, 5, 38, 0.5);\">.</span> <span title=\"0.016\" style=\"background-color: rgba(172, 7, 38, 0.5);\">&gt;</span> <span title=\"0.052\" style=\"background-color: rgba(190, 24, 38, 0.5);\">xxmaj</span> <span title=\"0.013\" style=\"background-color: rgba(170, 5, 38, 0.5);\">my</span> <span title=\"0.018\" style=\"background-color: rgba(172, 7, 38, 0.5);\">point</span> <span title=\"0.017\" style=\"background-color: rgba(172, 7, 38, 0.5);\">is</span> <span title=\"0.013\" style=\"background-color: rgba(170, 5, 38, 0.5);\">that</span> <span title=\"0.030\" style=\"background-color: rgba(178, 13, 38, 0.5);\">order</span> <span title=\"0.034\" style=\"background-color: rgba(180, 15, 38, 0.5);\">does</span> <span title=\"0.017\" style=\"background-color: rgba(172, 7, 38, 0.5);\">not</span> <span title=\"0.020\" style=\"background-color: rgba(174, 9, 38, 0.5);\">come</span> <span title=\"0.055\" style=\"background-color: rgba(192, 26, 38, 0.5);\">from</span> <span title=\"0.030\" style=\"background-color: rgba(178, 13, 38, 0.5);\">disorder</span> <span title=\"0.029\" style=\"background-color: rgba(178, 13, 38, 0.5);\">.</span> <span title=\"0.042\" style=\"background-color: rgba(184, 18, 38, 0.5);\">xxmaj</span> <span title=\"0.049\" style=\"background-color: rgba(188, 22, 38, 0.5);\">it</span> <span title=\"0.162\" style=\"background-color: rgba(232, 85, 56, 0.5);\">does</span> <span title=\"0.022\" style=\"background-color: rgba(174, 9, 38, 0.5);\">not</span> <span title=\"0.030\" style=\"background-color: rgba(178, 13, 38, 0.5);\">...</span> <span title=\"0.026\" style=\"background-color: rgba(176, 11, 38, 0.5);\">or</span> <span title=\"0.023\" style=\"background-color: rgba(174, 9, 38, 0.5);\">it</span> <span title=\"0.023\" style=\"background-color: rgba(174, 9, 38, 0.5);\">can</span> <span title=\"0.022\" style=\"background-color: rgba(174, 9, 38, 0.5);\">not</span> <span title=\"0.017\" style=\"background-color: rgba(172, 7, 38, 0.5);\">?</span> <span title=\"0.014\" style=\"background-color: rgba(170, 5, 38, 0.5);\">xxmaj</span> <span title=\"0.013\" style=\"background-color: rgba(170, 5, 38, 0.5);\">when</span> <span title=\"0.016\" style=\"background-color: rgba(172, 7, 38, 0.5);\">you</span> <span title=\"0.010\" style=\"background-color: rgba(168, 3, 38, 0.5);\">xxunk</span> <span title=\"0.017\" style=\"background-color: rgba(172, 7, 38, 0.5);\">water</span> <span title=\"0.015\" style=\"background-color: rgba(170, 5, 38, 0.5);\">,</span> <span title=\"0.028\" style=\"background-color: rgba(178, 13, 38, 0.5);\">you</span> <span title=\"0.036\" style=\"background-color: rgba(182, 16, 38, 0.5);\">&#x27;ve</span> <span title=\"0.070\" style=\"background-color: rgba(198, 32, 38, 0.5);\">created</span> <span title=\"0.073\" style=\"background-color: rgba(200, 33, 38, 0.5);\">an</span> <span title=\"0.016\" style=\"background-color: rgba(172, 7, 38, 0.5);\">ordered</span> <span title=\"0.021\" style=\"background-color: rgba(174, 9, 38, 0.5);\">crystal</span> <span title=\"0.027\" style=\"background-color: rgba(176, 11, 38, 0.5);\">from</span> <span title=\"0.036\" style=\"background-color: rgba(182, 16, 38, 0.5);\">a</span> <span title=\"0.037\" style=\"background-color: rgba(182, 16, 38, 0.5);\">disordered</span> <span title=\"0.054\" style=\"background-color: rgba(190, 24, 38, 0.5);\">liquid</span> <span title=\"0.080\" style=\"background-color: rgba(204, 37, 38, 0.5);\">.</span> <span title=\"0.110\" style=\"background-color: rgba(217, 53, 41, 0.5);\">xxmaj</span> <span title=\"0.052\" style=\"background-color: rgba(190, 24, 38, 0.5);\">overall</span> <span title=\"0.079\" style=\"background-color: rgba(204, 37, 38, 0.5);\">,</span> <span title=\"0.491\" style=\"background-color: rgba(254, 251, 185, 0.5);\">the</span> <span title=\"0.110\" style=\"background-color: rgba(217, 53, 41, 0.5);\">entropy</span> <span title=\"0.015\" style=\"background-color: rgba(170, 5, 38, 0.5);\">is</span> <span title=\"0.015\" style=\"background-color: rgba(170, 5, 38, 0.5);\">increased</span> <span title=\"0.037\" style=\"background-color: rgba(182, 16, 38, 0.5);\">,</span> <span title=\"0.014\" style=\"background-color: rgba(170, 5, 38, 0.5);\">but</span> <span title=\"0.028\" style=\"background-color: rgba(178, 13, 38, 0.5);\">locally</span> <span title=\"0.111\" style=\"background-color: rgba(217, 53, 41, 0.5);\">order</span> <span title=\"0.019\" style=\"background-color: rgba(172, 7, 38, 0.5);\">is</span> <span title=\"0.013\" style=\"background-color: rgba(170, 5, 38, 0.5);\">increased</span> <span title=\"0.016\" style=\"background-color: rgba(172, 7, 38, 0.5);\">.</span> <span title=\"0.009\" style=\"background-color: rgba(168, 3, 38, 0.5);\">&gt;</span> <span title=\"0.015\" style=\"background-color: rgba(170, 5, 38, 0.5);\">...</span> <span title=\"0.043\" style=\"background-color: rgba(184, 18, 38, 0.5);\">the</span> <span title=\"0.022\" style=\"background-color: rgba(174, 9, 38, 0.5);\">creation</span> <span title=\"0.011\" style=\"background-color: rgba(168, 3, 38, 0.5);\">od</span> <span title=\"0.010\" style=\"background-color: rgba(168, 3, 38, 0.5);\">xxup</span> <span title=\"0.013\" style=\"background-color: rgba(170, 5, 38, 0.5);\">dna</span> <span title=\"0.031\" style=\"background-color: rgba(178, 13, 38, 0.5);\">by</span> <span title=\"0.037\" style=\"background-color: rgba(182, 16, 38, 0.5);\">random</span> <span title=\"0.047\" style=\"background-color: rgba(188, 22, 38, 0.5);\">processes</span> <span title=\"0.041\" style=\"background-color: rgba(184, 18, 38, 0.5);\">is</span> <span title=\"0.106\" style=\"background-color: rgba(216, 51, 40, 0.5);\">xxunk</span> <span title=\"0.143\" style=\"background-color: rgba(226, 73, 50, 0.5);\">remote</span> <span title=\"0.081\" style=\"background-color: rgba(204, 37, 38, 0.5);\">.</span> <span title=\"0.218\" style=\"background-color: rgba(245, 119, 71, 0.5);\">xxmaj</span> <span title=\"0.039\" style=\"background-color: rgba(182, 16, 38, 0.5);\">and</span> <span title=\"0.068\" style=\"background-color: rgba(198, 32, 38, 0.5);\">,</span> <span title=\"0.031\" style=\"background-color: rgba(178, 13, 38, 0.5);\">you</span> <span title=\"0.013\" style=\"background-color: rgba(170, 5, 38, 0.5);\">find</span> <span title=\"0.039\" style=\"background-color: rgba(184, 18, 38, 0.5);\">the</span> <span title=\"0.035\" style=\"background-color: rgba(180, 15, 38, 0.5);\">idea</span> <span title=\"0.015\" style=\"background-color: rgba(170, 5, 38, 0.5);\">of</span> <span title=\"0.031\" style=\"background-color: rgba(178, 13, 38, 0.5);\">a</span> <span title=\"0.028\" style=\"background-color: rgba(178, 13, 38, 0.5);\">god</span> <span title=\"0.017\" style=\"background-color: rgba(172, 7, 38, 0.5);\">more</span> <span title=\"0.012\" style=\"background-color: rgba(170, 5, 38, 0.5);\">likely</span> <span title=\"0.018\" style=\"background-color: rgba(172, 7, 38, 0.5);\">?</span> <span title=\"0.022\" style=\"background-color: rgba(174, 9, 38, 0.5);\">xxmaj</span> <span title=\"0.018\" style=\"background-color: rgba(172, 7, 38, 0.5);\">besides</span> <span title=\"0.035\" style=\"background-color: rgba(180, 15, 38, 0.5);\">,</span> <span title=\"0.016\" style=\"background-color: rgba(172, 7, 38, 0.5);\">we</span> <span title=\"0.026\" style=\"background-color: rgba(176, 11, 38, 0.5);\">can</span> <span title=\"0.085\" style=\"background-color: rgba(206, 39, 38, 0.5);\">apply</span> <span title=\"0.032\" style=\"background-color: rgba(180, 15, 38, 0.5);\">the</span> <span title=\"0.025\" style=\"background-color: rgba(176, 11, 38, 0.5);\">xxunk</span> <span title=\"0.032\" style=\"background-color: rgba(180, 15, 38, 0.5);\">principle</span> <span title=\"0.045\" style=\"background-color: rgba(186, 20, 38, 0.5);\">to</span> <span title=\"0.044\" style=\"background-color: rgba(186, 20, 38, 0.5);\">circumvent</span> <span title=\"0.064\" style=\"background-color: rgba(196, 30, 38, 0.5);\">any</span> <span title=\"0.028\" style=\"background-color: rgba(178, 13, 38, 0.5);\">xxunk</span> <span title=\"0.042\" style=\"background-color: rgba(184, 18, 38, 0.5);\">problems</span> <span title=\"0.036\" style=\"background-color: rgba(182, 16, 38, 0.5);\">.</span> <span title=\"0.068\" style=\"background-color: rgba(198, 32, 38, 0.5);\">keith</span></span>"
      ],
      "text/plain": [
       "<IPython.core.display.HTML object>"
      ]
     },
     "metadata": {},
     "output_type": "display_data"
    }
   ],
   "source": [
    "model_interpret(1)"
   ]
  },
  {
   "cell_type": "markdown",
   "metadata": {},
   "source": [
    "## Predictions and interpreatation from outside data"
   ]
  },
  {
   "cell_type": "code",
   "execution_count": 66,
   "metadata": {},
   "outputs": [
    {
     "data": {
      "text/plain": [
       "\"Virgin Galactic began trading on the New York Stock exchange Monday — another sign that entrepreneur-built space companies are maturing.The startup is trading under the ticker SPCE, replacing the IPOA moniker that Galactic's merger partner, Social Capital Hedosophia, has traded under since 2017.\""
      ]
     },
     "execution_count": 66,
     "metadata": {},
     "output_type": "execute_result"
    }
   ],
   "source": [
    "cnn_bussiness = \"Virgin Galactic began trading on the New York Stock exchange Monday — another sign that entrepreneur-built space companies are maturing.The startup is trading under the ticker SPCE, replacing the IPOA moniker that Galactic's merger partner, Social Capital Hedosophia, has traded under since 2017.\"\n",
    "cnn_bussiness"
   ]
  },
  {
   "cell_type": "code",
   "execution_count": 49,
   "metadata": {},
   "outputs": [
    {
     "name": "stderr",
     "output_type": "stream",
     "text": [
      "C:\\Users\\p1thiyya\\.conda\\envs\\fastai_v1\\lib\\site-packages\\fastai\\torch_core.py:83: UserWarning: Tensor is int32: upgrading to int64; for better performance use int64 input\n",
      "  warn('Tensor is int32: upgrading to int64; for better performance use int64 input')\n"
     ]
    },
    {
     "data": {
      "text/plain": [
       "(Category sci.space,\n",
       " tensor(14),\n",
       " tensor([1.4023e-03, 6.9076e-06, 5.5106e-04, 8.7064e-05, 9.3099e-03, 2.2461e-04,\n",
       "         6.8057e-02, 1.1286e-03, 1.4833e-04, 5.6959e-03, 3.8950e-05, 4.1646e-02,\n",
       "         1.8721e-03, 3.6487e-04, 7.6670e-01, 1.1644e-02, 1.8370e-03, 3.7896e-03,\n",
       "         5.2911e-02, 3.2588e-02]))"
      ]
     },
     "execution_count": 49,
     "metadata": {},
     "output_type": "execute_result"
    }
   ],
   "source": [
    "learn_clas.predict(cnn_bussiness)"
   ]
  },
  {
   "cell_type": "code",
   "execution_count": 50,
   "metadata": {},
   "outputs": [
    {
     "name": "stderr",
     "output_type": "stream",
     "text": [
      "C:\\Users\\p1thiyya\\.conda\\envs\\fastai_v1\\lib\\site-packages\\fastai\\torch_core.py:83: UserWarning: Tensor is int32: upgrading to int64; for better performance use int64 input\n",
      "  warn('Tensor is int32: upgrading to int64; for better performance use int64 input')\n"
     ]
    },
    {
     "data": {
      "text/html": [
       "<span style=\"font-family: monospace;\"><span title=\"0.197\" style=\"background-color: rgba(242, 106, 65, 0.5);\">xxbos</span> <span title=\"0.230\" style=\"background-color: rgba(246, 126, 75, 0.5);\">xxmaj</span> <span title=\"0.544\" style=\"background-color: rgba(237, 247, 167, 0.5);\">virgin</span> <span title=\"0.317\" style=\"background-color: rgba(253, 182, 104, 0.5);\">xxmaj</span> <span title=\"1.000\" style=\"background-color: rgba(0, 104, 55, 0.5);\">galactic</span> <span title=\"0.226\" style=\"background-color: rgba(246, 124, 74, 0.5);\">began</span> <span title=\"0.450\" style=\"background-color: rgba(254, 239, 165, 0.5);\">trading</span> <span title=\"0.208\" style=\"background-color: rgba(244, 114, 69, 0.5);\">on</span> <span title=\"0.136\" style=\"background-color: rgba(224, 68, 48, 0.5);\">the</span> <span title=\"0.095\" style=\"background-color: rgba(212, 45, 38, 0.5);\">xxmaj</span> <span title=\"0.164\" style=\"background-color: rgba(232, 85, 56, 0.5);\">new</span> <span title=\"0.122\" style=\"background-color: rgba(221, 61, 45, 0.5);\">xxmaj</span> <span title=\"0.230\" style=\"background-color: rgba(246, 126, 75, 0.5);\">york</span> <span title=\"0.173\" style=\"background-color: rgba(236, 92, 59, 0.5);\">xxmaj</span> <span title=\"0.533\" style=\"background-color: rgba(242, 249, 173, 0.5);\">stock</span> <span title=\"0.452\" style=\"background-color: rgba(254, 239, 165, 0.5);\">exchange</span> <span title=\"0.126\" style=\"background-color: rgba(222, 63, 46, 0.5);\">xxmaj</span> <span title=\"0.339\" style=\"background-color: rgba(253, 192, 112, 0.5);\">monday</span> <span title=\"0.251\" style=\"background-color: rgba(248, 142, 82, 0.5);\">xxunk</span> <span title=\"0.202\" style=\"background-color: rgba(244, 109, 67, 0.5);\">another</span> <span title=\"0.348\" style=\"background-color: rgba(253, 198, 117, 0.5);\">sign</span> <span title=\"0.270\" style=\"background-color: rgba(250, 154, 88, 0.5);\">that</span> <span title=\"0.501\" style=\"background-color: rgba(254, 254, 189, 0.5);\">xxunk</span> <span title=\"0.239\" style=\"background-color: rgba(247, 134, 78, 0.5);\">-</span> <span title=\"0.501\" style=\"background-color: rgba(254, 254, 189, 0.5);\">built</span> <span title=\"0.921\" style=\"background-color: rgba(20, 141, 74, 0.5);\">space</span> <span title=\"0.159\" style=\"background-color: rgba(231, 82, 54, 0.5);\">companies</span> <span title=\"0.033\" style=\"background-color: rgba(180, 15, 38, 0.5);\">are</span> <span title=\"0.065\" style=\"background-color: rgba(196, 30, 38, 0.5);\">xxunk</span> <span title=\"0.030\" style=\"background-color: rgba(178, 13, 38, 0.5);\">.</span> <span title=\"0.046\" style=\"background-color: rgba(186, 20, 38, 0.5);\">xxmaj</span> <span title=\"0.141\" style=\"background-color: rgba(226, 73, 50, 0.5);\">the</span> <span title=\"0.416\" style=\"background-color: rgba(254, 228, 147, 0.5);\">startup</span> <span title=\"0.105\" style=\"background-color: rgba(215, 49, 39, 0.5);\">is</span> <span title=\"0.331\" style=\"background-color: rgba(253, 188, 109, 0.5);\">trading</span> <span title=\"0.105\" style=\"background-color: rgba(215, 49, 39, 0.5);\">under</span> <span title=\"0.053\" style=\"background-color: rgba(190, 24, 38, 0.5);\">the</span> <span title=\"0.162\" style=\"background-color: rgba(232, 85, 56, 0.5);\">xxunk</span> <span title=\"0.049\" style=\"background-color: rgba(188, 22, 38, 0.5);\">xxup</span> <span title=\"0.114\" style=\"background-color: rgba(218, 56, 42, 0.5);\">xxunk</span> <span title=\"0.043\" style=\"background-color: rgba(186, 20, 38, 0.5);\">,</span> <span title=\"0.206\" style=\"background-color: rgba(244, 111, 68, 0.5);\">replacing</span> <span title=\"0.085\" style=\"background-color: rgba(206, 39, 38, 0.5);\">the</span> <span title=\"0.078\" style=\"background-color: rgba(204, 37, 38, 0.5);\">xxup</span> <span title=\"0.154\" style=\"background-color: rgba(230, 80, 53, 0.5);\">xxunk</span> <span title=\"0.281\" style=\"background-color: rgba(251, 159, 90, 0.5);\">moniker</span> <span title=\"0.087\" style=\"background-color: rgba(208, 41, 38, 0.5);\">that</span> <span title=\"0.113\" style=\"background-color: rgba(217, 53, 41, 0.5);\">xxmaj</span> <span title=\"0.424\" style=\"background-color: rgba(254, 231, 151, 0.5);\">galactic</span> <span title=\"0.069\" style=\"background-color: rgba(198, 32, 38, 0.5);\">&#x27;s</span> <span title=\"0.115\" style=\"background-color: rgba(218, 56, 42, 0.5);\">merger</span> <span title=\"0.099\" style=\"background-color: rgba(214, 47, 38, 0.5);\">partner</span> <span title=\"0.030\" style=\"background-color: rgba(178, 13, 38, 0.5);\">,</span> <span title=\"0.050\" style=\"background-color: rgba(188, 22, 38, 0.5);\">xxmaj</span> <span title=\"0.165\" style=\"background-color: rgba(233, 87, 57, 0.5);\">social</span> <span title=\"0.068\" style=\"background-color: rgba(198, 32, 38, 0.5);\">xxmaj</span> <span title=\"0.078\" style=\"background-color: rgba(202, 35, 38, 0.5);\">capital</span> <span title=\"0.024\" style=\"background-color: rgba(176, 11, 38, 0.5);\">xxmaj</span> <span title=\"0.025\" style=\"background-color: rgba(176, 11, 38, 0.5);\">xxunk</span> <span title=\"0.012\" style=\"background-color: rgba(170, 5, 38, 0.5);\">,</span> <span title=\"0.038\" style=\"background-color: rgba(182, 16, 38, 0.5);\">has</span> <span title=\"0.103\" style=\"background-color: rgba(215, 49, 39, 0.5);\">traded</span> <span title=\"0.053\" style=\"background-color: rgba(190, 24, 38, 0.5);\">under</span> <span title=\"0.074\" style=\"background-color: rgba(202, 35, 38, 0.5);\">since</span> <span title=\"0.106\" style=\"background-color: rgba(216, 51, 40, 0.5);\">xxunk</span> <span title=\"0.045\" style=\"background-color: rgba(186, 20, 38, 0.5);\">.</span></span>"
      ],
      "text/plain": [
       "<IPython.core.display.HTML object>"
      ]
     },
     "metadata": {},
     "output_type": "display_data"
    }
   ],
   "source": [
    "interp_T.show_intrinsic_attention(cnn_bussiness)"
   ]
  },
  {
   "cell_type": "markdown",
   "metadata": {},
   "source": [
    "## Inspect High Loss"
   ]
  },
  {
   "cell_type": "code",
   "execution_count": 65,
   "metadata": {
    "scrolled": true
   },
   "outputs": [
    {
     "data": {
      "text/html": [
       "<div>\n",
       "<style scoped>\n",
       "    .dataframe tbody tr th:only-of-type {\n",
       "        vertical-align: middle;\n",
       "    }\n",
       "\n",
       "    .dataframe tbody tr th {\n",
       "        vertical-align: top;\n",
       "    }\n",
       "\n",
       "    .dataframe thead th {\n",
       "        text-align: right;\n",
       "    }\n",
       "</style>\n",
       "<table border=\"1\" class=\"dataframe\">\n",
       "  <thead>\n",
       "    <tr style=\"text-align: right;\">\n",
       "      <th></th>\n",
       "      <th>c_filename</th>\n",
       "      <th>Loss</th>\n",
       "      <th>actual_label</th>\n",
       "      <th>actual_label_prob</th>\n",
       "      <th>predicted_label</th>\n",
       "      <th>predicted_label_prob</th>\n",
       "      <th>second_label</th>\n",
       "      <th>second_label_prob</th>\n",
       "      <th>third_label</th>\n",
       "      <th>third_label_prob</th>\n",
       "    </tr>\n",
       "  </thead>\n",
       "  <tbody>\n",
       "    <tr>\n",
       "      <th>0</th>\n",
       "      <td>C:\\Users\\p1thiyya\\Downloads\\20_newsgroups\\comp...</td>\n",
       "      <td>20.806932</td>\n",
       "      <td>comp.graphics</td>\n",
       "      <td>0.0</td>\n",
       "      <td>misc.forsale</td>\n",
       "      <td>100.000000</td>\n",
       "      <td>sci.electronics</td>\n",
       "      <td>0.0</td>\n",
       "      <td>comp.sys.ibm.pc.hardware</td>\n",
       "      <td>0.00</td>\n",
       "    </tr>\n",
       "    <tr>\n",
       "      <th>1</th>\n",
       "      <td>C:\\Users\\p1thiyya\\Downloads\\20_newsgroups\\comp...</td>\n",
       "      <td>17.244532</td>\n",
       "      <td>comp.sys.ibm.pc.hardware</td>\n",
       "      <td>0.0</td>\n",
       "      <td>misc.forsale</td>\n",
       "      <td>100.000000</td>\n",
       "      <td>comp.os.ms-windows.misc</td>\n",
       "      <td>0.0</td>\n",
       "      <td>comp.graphics</td>\n",
       "      <td>0.00</td>\n",
       "    </tr>\n",
       "    <tr>\n",
       "      <th>2</th>\n",
       "      <td>C:\\Users\\p1thiyya\\Downloads\\20_newsgroups\\misc...</td>\n",
       "      <td>16.606749</td>\n",
       "      <td>misc.forsale</td>\n",
       "      <td>0.0</td>\n",
       "      <td>comp.sys.ibm.pc.hardware</td>\n",
       "      <td>100.000000</td>\n",
       "      <td>rec.autos</td>\n",
       "      <td>0.0</td>\n",
       "      <td>comp.os.ms-windows.misc</td>\n",
       "      <td>0.00</td>\n",
       "    </tr>\n",
       "    <tr>\n",
       "      <th>3</th>\n",
       "      <td>C:\\Users\\p1thiyya\\Downloads\\20_newsgroups\\sci....</td>\n",
       "      <td>16.249413</td>\n",
       "      <td>sci.electronics</td>\n",
       "      <td>0.0</td>\n",
       "      <td>comp.sys.ibm.pc.hardware</td>\n",
       "      <td>100.000000</td>\n",
       "      <td>misc.forsale</td>\n",
       "      <td>0.0</td>\n",
       "      <td>comp.os.ms-windows.misc</td>\n",
       "      <td>0.00</td>\n",
       "    </tr>\n",
       "    <tr>\n",
       "      <th>4</th>\n",
       "      <td>C:\\Users\\p1thiyya\\Downloads\\20_newsgroups\\comp...</td>\n",
       "      <td>14.889646</td>\n",
       "      <td>comp.graphics</td>\n",
       "      <td>0.0</td>\n",
       "      <td>comp.sys.ibm.pc.hardware</td>\n",
       "      <td>99.199997</td>\n",
       "      <td>sci.electronics</td>\n",
       "      <td>0.4</td>\n",
       "      <td>comp.sys.mac.hardware</td>\n",
       "      <td>0.23</td>\n",
       "    </tr>\n",
       "  </tbody>\n",
       "</table>\n",
       "</div>"
      ],
      "text/plain": [
       "                                          c_filename       Loss  \\\n",
       "0  C:\\Users\\p1thiyya\\Downloads\\20_newsgroups\\comp...  20.806932   \n",
       "1  C:\\Users\\p1thiyya\\Downloads\\20_newsgroups\\comp...  17.244532   \n",
       "2  C:\\Users\\p1thiyya\\Downloads\\20_newsgroups\\misc...  16.606749   \n",
       "3  C:\\Users\\p1thiyya\\Downloads\\20_newsgroups\\sci....  16.249413   \n",
       "4  C:\\Users\\p1thiyya\\Downloads\\20_newsgroups\\comp...  14.889646   \n",
       "\n",
       "               actual_label  actual_label_prob           predicted_label  \\\n",
       "0             comp.graphics                0.0              misc.forsale   \n",
       "1  comp.sys.ibm.pc.hardware                0.0              misc.forsale   \n",
       "2              misc.forsale                0.0  comp.sys.ibm.pc.hardware   \n",
       "3           sci.electronics                0.0  comp.sys.ibm.pc.hardware   \n",
       "4             comp.graphics                0.0  comp.sys.ibm.pc.hardware   \n",
       "\n",
       "   predicted_label_prob             second_label  second_label_prob  \\\n",
       "0            100.000000          sci.electronics                0.0   \n",
       "1            100.000000  comp.os.ms-windows.misc                0.0   \n",
       "2            100.000000                rec.autos                0.0   \n",
       "3            100.000000             misc.forsale                0.0   \n",
       "4             99.199997          sci.electronics                0.4   \n",
       "\n",
       "                third_label  third_label_prob  \n",
       "0  comp.sys.ibm.pc.hardware              0.00  \n",
       "1             comp.graphics              0.00  \n",
       "2   comp.os.ms-windows.misc              0.00  \n",
       "3   comp.os.ms-windows.misc              0.00  \n",
       "4     comp.sys.mac.hardware              0.23  "
      ]
     },
     "execution_count": 65,
     "metadata": {},
     "output_type": "execute_result"
    }
   ],
   "source": [
    "predict_df.reset_index(drop=True).head()"
   ]
  },
  {
   "cell_type": "code",
   "execution_count": 63,
   "metadata": {},
   "outputs": [],
   "source": [
    "def model_interpret_train(r):\n",
    "    file_text = extract_contents(predict_df.iloc[r].c_filename)\n",
    "    cat_i, num_cat_i,prob_i = learn_clas.predict(file_text)\n",
    "    prob_per = [prob*100 for prob in prob_i.numpy()]\n",
    "    print(\"Actual: {}, Precition: {}, Probaility: {}\".format(predict_df.iloc[r].actual_label, cat_i, round(prob_per[num_cat_i],2)))\n",
    "    #print(\"Record_Seires_Prediction_ID : {}\".format(num_cat_i.numpy().tolist()))\n",
    "    interp_T.show_intrinsic_attention(file_text)"
   ]
  },
  {
   "cell_type": "code",
   "execution_count": 64,
   "metadata": {
    "scrolled": true
   },
   "outputs": [
    {
     "name": "stderr",
     "output_type": "stream",
     "text": [
      "C:\\Users\\p1thiyya\\.conda\\envs\\fastai_v1\\lib\\site-packages\\fastai\\torch_core.py:83: UserWarning: Tensor is int32: upgrading to int64; for better performance use int64 input\n",
      "  warn('Tensor is int32: upgrading to int64; for better performance use int64 input')\n"
     ]
    },
    {
     "name": "stdout",
     "output_type": "stream",
     "text": [
      "Actual: comp.graphics, Precition: misc.forsale, Probaility: 100.0\n"
     ]
    },
    {
     "name": "stderr",
     "output_type": "stream",
     "text": [
      "C:\\Users\\p1thiyya\\.conda\\envs\\fastai_v1\\lib\\site-packages\\fastai\\torch_core.py:83: UserWarning: Tensor is int32: upgrading to int64; for better performance use int64 input\n",
      "  warn('Tensor is int32: upgrading to int64; for better performance use int64 input')\n"
     ]
    },
    {
     "data": {
      "text/html": [
       "<span style=\"font-family: monospace;\"><span title=\"0.165\" style=\"background-color: rgba(233, 87, 57, 0.5);\">xxbos</span> <span title=\"0.193\" style=\"background-color: rgba(241, 104, 64, 0.5);\">i</span> <span title=\"0.132\" style=\"background-color: rgba(223, 65, 47, 0.5);\">am</span> <span title=\"0.220\" style=\"background-color: rgba(245, 121, 72, 0.5);\">looking</span> <span title=\"0.240\" style=\"background-color: rgba(247, 134, 78, 0.5);\">for</span> <span title=\"0.170\" style=\"background-color: rgba(234, 89, 58, 0.5);\">xxmaj</span> <span title=\"0.183\" style=\"background-color: rgba(238, 97, 61, 0.5);\">super</span> <span title=\"0.397\" style=\"background-color: rgba(253, 222, 137, 0.5);\">8</span> <span title=\"0.268\" style=\"background-color: rgba(250, 152, 86, 0.5);\">mm</span> <span title=\"0.378\" style=\"background-color: rgba(253, 212, 129, 0.5);\">xxmaj</span> <span title=\"0.215\" style=\"background-color: rgba(245, 119, 71, 0.5);\">projector</span> <span title=\"0.761\" style=\"background-color: rgba(127, 199, 101, 0.5);\">with</span> <span title=\"0.110\" style=\"background-color: rgba(217, 53, 41, 0.5);\">xxup</span> <span title=\"0.112\" style=\"background-color: rgba(217, 53, 41, 0.5);\">sounds</span> <span title=\"0.225\" style=\"background-color: rgba(246, 124, 74, 0.5);\">.</span> <span title=\"0.073\" style=\"background-color: rgba(200, 33, 38, 0.5);\">xxmaj</span> <span title=\"0.092\" style=\"background-color: rgba(210, 43, 38, 0.5);\">if</span> <span title=\"0.068\" style=\"background-color: rgba(198, 32, 38, 0.5);\">anybody</span> <span title=\"0.203\" style=\"background-color: rgba(244, 111, 68, 0.5);\">out</span> <span title=\"0.314\" style=\"background-color: rgba(253, 180, 102, 0.5);\">there</span> <span title=\"0.119\" style=\"background-color: rgba(220, 58, 43, 0.5);\">has</span> <span title=\"0.064\" style=\"background-color: rgba(196, 30, 38, 0.5);\">one</span> <span title=\"0.088\" style=\"background-color: rgba(208, 41, 38, 0.5);\">for</span> <span title=\"0.108\" style=\"background-color: rgba(216, 51, 40, 0.5);\">sale</span> <span title=\"0.139\" style=\"background-color: rgba(225, 70, 49, 0.5);\">,</span> <span title=\"0.248\" style=\"background-color: rgba(248, 139, 81, 0.5);\">send</span> <span title=\"0.085\" style=\"background-color: rgba(206, 39, 38, 0.5);\">email</span> <span title=\"0.210\" style=\"background-color: rgba(244, 114, 69, 0.5);\">with</span> <span title=\"0.174\" style=\"background-color: rgba(236, 92, 59, 0.5);\">the</span> <span title=\"0.153\" style=\"background-color: rgba(230, 80, 53, 0.5);\">name</span> <span title=\"0.137\" style=\"background-color: rgba(225, 70, 49, 0.5);\">of</span> <span title=\"0.082\" style=\"background-color: rgba(204, 37, 38, 0.5);\">brand</span> <span title=\"0.160\" style=\"background-color: rgba(231, 82, 54, 0.5);\">,</span> <span title=\"0.062\" style=\"background-color: rgba(194, 28, 38, 0.5);\">condition</span> <span title=\"0.228\" style=\"background-color: rgba(246, 126, 75, 0.5);\">of</span> <span title=\"0.061\" style=\"background-color: rgba(194, 28, 38, 0.5);\">the</span> <span title=\"0.111\" style=\"background-color: rgba(217, 53, 41, 0.5);\">projector</span> <span title=\"0.052\" style=\"background-color: rgba(190, 24, 38, 0.5);\">,</span> <span title=\"0.072\" style=\"background-color: rgba(200, 33, 38, 0.5);\">and</span> <span title=\"0.247\" style=\"background-color: rgba(248, 139, 81, 0.5);\">price</span> <span title=\"0.052\" style=\"background-color: rgba(190, 24, 38, 0.5);\">for</span> <span title=\"0.041\" style=\"background-color: rgba(184, 18, 38, 0.5);\">sale</span> <span title=\"0.091\" style=\"background-color: rgba(210, 43, 38, 0.5);\">to</span> <span title=\"0.054\" style=\"background-color: rgba(190, 24, 38, 0.5);\">kimd@rpi.edu</span> <span title=\"0.053\" style=\"background-color: rgba(190, 24, 38, 0.5);\">(</span> <span title=\"0.142\" style=\"background-color: rgba(226, 73, 50, 0.5);\">xxup</span> <span title=\"0.078\" style=\"background-color: rgba(202, 35, 38, 0.5);\">it</span> <span title=\"0.479\" style=\"background-color: rgba(254, 248, 179, 0.5);\">xxup</span> <span title=\"0.064\" style=\"background-color: rgba(196, 30, 38, 0.5);\">must</span> <span title=\"0.059\" style=\"background-color: rgba(194, 28, 38, 0.5);\">xxup</span> <span title=\"0.052\" style=\"background-color: rgba(190, 24, 38, 0.5);\">have</span> <span title=\"0.077\" style=\"background-color: rgba(202, 35, 38, 0.5);\">xxup</span> <span title=\"0.067\" style=\"background-color: rgba(198, 32, 38, 0.5);\">sound</span> <span title=\"0.151\" style=\"background-color: rgba(229, 77, 52, 0.5);\">xxup</span> <span title=\"0.084\" style=\"background-color: rgba(206, 39, 38, 0.5);\">capability</span> <span title=\"0.100\" style=\"background-color: rgba(214, 47, 38, 0.5);\">)</span> <span title=\"0.100\" style=\"background-color: rgba(214, 47, 38, 0.5);\">xxmaj</span> <span title=\"0.208\" style=\"background-color: rgba(244, 114, 69, 0.5);\">danny</span> <span title=\"0.103\" style=\"background-color: rgba(215, 49, 39, 0.5);\">kimd@rpi.edu</span></span>"
      ],
      "text/plain": [
       "<IPython.core.display.HTML object>"
      ]
     },
     "metadata": {},
     "output_type": "display_data"
    }
   ],
   "source": [
    "model_interpret_train(0)"
   ]
  },
  {
   "cell_type": "code",
   "execution_count": 66,
   "metadata": {},
   "outputs": [
    {
     "name": "stderr",
     "output_type": "stream",
     "text": [
      "C:\\Users\\p1thiyya\\.conda\\envs\\fastai_v1\\lib\\site-packages\\fastai\\torch_core.py:83: UserWarning: Tensor is int32: upgrading to int64; for better performance use int64 input\n",
      "  warn('Tensor is int32: upgrading to int64; for better performance use int64 input')\n"
     ]
    },
    {
     "name": "stdout",
     "output_type": "stream",
     "text": [
      "Actual: comp.sys.ibm.pc.hardware, Precition: misc.forsale, Probaility: 100.0\n"
     ]
    },
    {
     "name": "stderr",
     "output_type": "stream",
     "text": [
      "C:\\Users\\p1thiyya\\.conda\\envs\\fastai_v1\\lib\\site-packages\\fastai\\torch_core.py:83: UserWarning: Tensor is int32: upgrading to int64; for better performance use int64 input\n",
      "  warn('Tensor is int32: upgrading to int64; for better performance use int64 input')\n"
     ]
    },
    {
     "data": {
      "text/html": [
       "<span style=\"font-family: monospace;\"><span title=\"0.368\" style=\"background-color: rgba(253, 208, 125, 0.5);\">xxbos</span> <span title=\"0.413\" style=\"background-color: rgba(254, 227, 145, 0.5);\">xxup</span> <span title=\"0.328\" style=\"background-color: rgba(253, 186, 107, 0.5);\">for</span> <span title=\"0.488\" style=\"background-color: rgba(254, 251, 185, 0.5);\">xxup</span> <span title=\"0.442\" style=\"background-color: rgba(254, 237, 161, 0.5);\">sale</span> <span title=\"1.000\" style=\"background-color: rgba(0, 104, 55, 0.5);\">!</span> <span title=\"0.257\" style=\"background-color: rgba(248, 144, 83, 0.5);\">!</span> <span title=\"0.168\" style=\"background-color: rgba(233, 87, 57, 0.5);\">!</span> <span title=\"0.217\" style=\"background-color: rgba(245, 119, 71, 0.5);\">xxunk</span> <span title=\"0.286\" style=\"background-color: rgba(251, 165, 92, 0.5);\">xxunk</span> <span title=\"0.526\" style=\"background-color: rgba(245, 250, 177, 0.5);\">xxmaj</span> <span title=\"0.520\" style=\"background-color: rgba(246, 251, 179, 0.5);\">it</span> <span title=\"0.412\" style=\"background-color: rgba(254, 227, 145, 0.5);\">&#x27;s</span> <span title=\"0.276\" style=\"background-color: rgba(250, 157, 89, 0.5);\">in</span> <span title=\"0.349\" style=\"background-color: rgba(253, 198, 117, 0.5);\">very</span> <span title=\"0.383\" style=\"background-color: rgba(253, 216, 132, 0.5);\">good</span> <span title=\"0.454\" style=\"background-color: rgba(254, 241, 167, 0.5);\">condition</span> <span title=\"0.621\" style=\"background-color: rgba(207, 234, 132, 0.5);\">,</span> <span title=\"0.616\" style=\"background-color: rgba(209, 235, 133, 0.5);\">used</span> <span title=\"0.310\" style=\"background-color: rgba(253, 178, 101, 0.5);\">for</span> <span title=\"0.095\" style=\"background-color: rgba(212, 45, 38, 0.5);\">one</span> <span title=\"0.317\" style=\"background-color: rgba(253, 182, 104, 0.5);\">year</span> <span title=\"0.223\" style=\"background-color: rgba(246, 124, 74, 0.5);\">.</span> <span title=\"0.240\" style=\"background-color: rgba(247, 134, 78, 0.5);\">xxmaj</span> <span title=\"0.160\" style=\"background-color: rgba(231, 82, 54, 0.5);\">it</span> <span title=\"0.106\" style=\"background-color: rgba(216, 51, 40, 0.5);\">has</span> <span title=\"0.085\" style=\"background-color: rgba(206, 39, 38, 0.5);\">-</span> <span title=\"0.122\" style=\"background-color: rgba(221, 61, 45, 0.5);\">25</span> <span title=\"0.242\" style=\"background-color: rgba(247, 134, 78, 0.5);\">xxmaj</span> <span title=\"0.366\" style=\"background-color: rgba(253, 206, 124, 0.5);\">mhz</span> <span title=\"0.335\" style=\"background-color: rgba(253, 190, 110, 0.5);\">xxmaj</span> <span title=\"0.439\" style=\"background-color: rgba(254, 236, 159, 0.5);\">intel</span> <span title=\"0.255\" style=\"background-color: rgba(248, 144, 83, 0.5);\">386</span> <span title=\"0.652\" style=\"background-color: rgba(191, 227, 122, 0.5);\">-</span> <span title=\"0.265\" style=\"background-color: rgba(249, 149, 85, 0.5);\">52</span> <span title=\"0.636\" style=\"background-color: rgba(199, 231, 127, 0.5);\">xxup</span> <span title=\"0.489\" style=\"background-color: rgba(254, 251, 185, 0.5);\">mb</span> <span title=\"0.231\" style=\"background-color: rgba(246, 129, 76, 0.5);\">xxmaj</span> <span title=\"0.150\" style=\"background-color: rgba(229, 77, 52, 0.5);\">hard</span> <span title=\"0.250\" style=\"background-color: rgba(248, 142, 82, 0.5);\">xxmaj</span> <span title=\"0.177\" style=\"background-color: rgba(237, 94, 60, 0.5);\">disk</span> <span title=\"0.435\" style=\"background-color: rgba(254, 234, 157, 0.5);\">-</span> <span title=\"0.258\" style=\"background-color: rgba(249, 147, 84, 0.5);\">xxmaj</span> <span title=\"0.449\" style=\"background-color: rgba(254, 239, 165, 0.5);\">super</span> <span title=\"0.155\" style=\"background-color: rgba(230, 80, 53, 0.5);\">xxmaj</span> <span title=\"0.297\" style=\"background-color: rgba(252, 170, 95, 0.5);\">color</span> <span title=\"0.194\" style=\"background-color: rgba(241, 104, 64, 0.5);\">xxup</span> <span title=\"0.117\" style=\"background-color: rgba(218, 56, 42, 0.5);\">vga</span> <span title=\"0.109\" style=\"background-color: rgba(216, 51, 40, 0.5);\">xxmaj</span> <span title=\"0.311\" style=\"background-color: rgba(253, 178, 101, 0.5);\">monitor</span> <span title=\"0.100\" style=\"background-color: rgba(214, 47, 38, 0.5);\">-</span> <span title=\"0.205\" style=\"background-color: rgba(244, 111, 68, 0.5);\">2-button</span> <span title=\"0.125\" style=\"background-color: rgba(222, 63, 46, 0.5);\">mouse</span> <span title=\"0.313\" style=\"background-color: rgba(253, 180, 102, 0.5);\">-</span> <span title=\"0.087\" style=\"background-color: rgba(208, 41, 38, 0.5);\">1.44</span> <span title=\"0.215\" style=\"background-color: rgba(245, 116, 70, 0.5);\">xxup</span> <span title=\"0.137\" style=\"background-color: rgba(225, 70, 49, 0.5);\">mg</span> <span title=\"0.146\" style=\"background-color: rgba(228, 75, 51, 0.5);\">floppy</span> <span title=\"0.679\" style=\"background-color: rgba(177, 221, 113, 0.5);\">disk</span> <span title=\"0.304\" style=\"background-color: rgba(253, 174, 97, 0.5);\">drive</span> <span title=\"0.179\" style=\"background-color: rgba(237, 94, 60, 0.5);\">xxmaj</span> <span title=\"0.141\" style=\"background-color: rgba(226, 73, 50, 0.5);\">software</span> <span title=\"0.376\" style=\"background-color: rgba(253, 212, 129, 0.5);\">:</span> <span title=\"0.200\" style=\"background-color: rgba(244, 109, 67, 0.5);\">xxrep</span> <span title=\"0.234\" style=\"background-color: rgba(246, 129, 76, 0.5);\">12</span> <span title=\"0.257\" style=\"background-color: rgba(248, 144, 83, 0.5);\">-</span> <span title=\"0.133\" style=\"background-color: rgba(224, 68, 48, 0.5);\">-</span> <span title=\"0.196\" style=\"background-color: rgba(242, 106, 65, 0.5);\">xxmaj</span> <span title=\"0.230\" style=\"background-color: rgba(246, 129, 76, 0.5);\">microsoft</span> <span title=\"0.186\" style=\"background-color: rgba(239, 99, 62, 0.5);\">xxmaj</span> <span title=\"0.453\" style=\"background-color: rgba(254, 241, 167, 0.5);\">dos</span> <span title=\"0.164\" style=\"background-color: rgba(232, 85, 56, 0.5);\">5.0</span> <span title=\"0.173\" style=\"background-color: rgba(236, 92, 59, 0.5);\">-</span> <span title=\"0.260\" style=\"background-color: rgba(249, 147, 84, 0.5);\">xxmaj</span> <span title=\"0.134\" style=\"background-color: rgba(224, 68, 48, 0.5);\">microsoft</span> <span title=\"0.116\" style=\"background-color: rgba(218, 56, 42, 0.5);\">xxmaj</span> <span title=\"0.251\" style=\"background-color: rgba(248, 142, 82, 0.5);\">windows</span> <span title=\"0.194\" style=\"background-color: rgba(241, 104, 64, 0.5);\">3.1</span> <span title=\"0.147\" style=\"background-color: rgba(228, 75, 51, 0.5);\">-</span> <span title=\"0.416\" style=\"background-color: rgba(254, 228, 147, 0.5);\">xxmaj</span> <span title=\"0.129\" style=\"background-color: rgba(223, 65, 47, 0.5);\">microsoft</span> <span title=\"0.279\" style=\"background-color: rgba(251, 159, 90, 0.5);\">xxmaj</span> <span title=\"0.258\" style=\"background-color: rgba(249, 147, 84, 0.5);\">works</span> <span title=\"0.199\" style=\"background-color: rgba(242, 106, 65, 0.5);\">for</span> <span title=\"0.142\" style=\"background-color: rgba(226, 73, 50, 0.5);\">xxmaj</span> <span title=\"0.104\" style=\"background-color: rgba(215, 49, 39, 0.5);\">windows</span> <span title=\"0.255\" style=\"background-color: rgba(248, 144, 83, 0.5);\">2.0</span> <span title=\"0.089\" style=\"background-color: rgba(208, 41, 38, 0.5);\">-</span> <span title=\"0.273\" style=\"background-color: rgba(250, 154, 88, 0.5);\">xxmaj</span> <span title=\"0.189\" style=\"background-color: rgba(240, 101, 63, 0.5);\">borland</span> <span title=\"0.133\" style=\"background-color: rgba(224, 68, 48, 0.5);\">xxmaj</span> <span title=\"0.107\" style=\"background-color: rgba(216, 51, 40, 0.5);\">turbo</span> <span title=\"0.089\" style=\"background-color: rgba(208, 41, 38, 0.5);\">xxmaj</span> <span title=\"0.233\" style=\"background-color: rgba(246, 129, 76, 0.5);\">pascal</span> <span title=\"0.141\" style=\"background-color: rgba(226, 73, 50, 0.5);\">6.0</span> <span title=\"0.314\" style=\"background-color: rgba(253, 180, 102, 0.5);\">-</span> <span title=\"0.191\" style=\"background-color: rgba(240, 101, 63, 0.5);\">xxmaj</span> <span title=\"0.144\" style=\"background-color: rgba(226, 73, 50, 0.5);\">borland</span> <span title=\"0.437\" style=\"background-color: rgba(254, 234, 157, 0.5);\">xxmaj</span> <span title=\"0.175\" style=\"background-color: rgba(236, 92, 59, 0.5);\">turbo</span> <span title=\"0.156\" style=\"background-color: rgba(230, 80, 53, 0.5);\">xxup</span> <span title=\"0.150\" style=\"background-color: rgba(229, 77, 52, 0.5);\">c++</span> <span title=\"0.135\" style=\"background-color: rgba(224, 68, 48, 0.5);\">3.0</span> <span title=\"0.551\" style=\"background-color: rgba(234, 246, 163, 0.5);\">for</span> <span title=\"0.190\" style=\"background-color: rgba(240, 101, 63, 0.5);\">xxmaj</span> <span title=\"0.529\" style=\"background-color: rgba(243, 250, 175, 0.5);\">dos</span> <span title=\"0.251\" style=\"background-color: rgba(248, 142, 82, 0.5);\">i</span> <span title=\"0.179\" style=\"background-color: rgba(237, 94, 60, 0.5);\">&#x27;m</span> <span title=\"0.182\" style=\"background-color: rgba(238, 97, 61, 0.5);\">asking</span> <span title=\"0.109\" style=\"background-color: rgba(216, 51, 40, 0.5);\">$</span> <span title=\"0.100\" style=\"background-color: rgba(214, 47, 38, 0.5);\">1499</span> <span title=\"0.104\" style=\"background-color: rgba(215, 49, 39, 0.5);\">for</span> <span title=\"0.443\" style=\"background-color: rgba(254, 237, 161, 0.5);\">the</span> <span title=\"0.108\" style=\"background-color: rgba(216, 51, 40, 0.5);\">system</span> <span title=\"0.177\" style=\"background-color: rgba(237, 94, 60, 0.5);\">.</span> <span title=\"0.090\" style=\"background-color: rgba(210, 43, 38, 0.5);\">xxmaj</span> <span title=\"0.197\" style=\"background-color: rgba(242, 106, 65, 0.5);\">send</span> <span title=\"0.127\" style=\"background-color: rgba(222, 63, 46, 0.5);\">me</span> <span title=\"0.160\" style=\"background-color: rgba(231, 82, 54, 0.5);\">e</span> <span title=\"0.093\" style=\"background-color: rgba(210, 43, 38, 0.5);\">-</span> <span title=\"0.287\" style=\"background-color: rgba(251, 165, 92, 0.5);\">mail</span> <span title=\"0.339\" style=\"background-color: rgba(253, 192, 112, 0.5);\">if</span> <span title=\"0.205\" style=\"background-color: rgba(244, 111, 68, 0.5);\">interested</span> <span title=\"0.264\" style=\"background-color: rgba(249, 149, 85, 0.5);\">.</span></span>"
      ],
      "text/plain": [
       "<IPython.core.display.HTML object>"
      ]
     },
     "metadata": {},
     "output_type": "display_data"
    }
   ],
   "source": [
    "model_interpret_train(1)"
   ]
  },
  {
   "cell_type": "markdown",
   "metadata": {},
   "source": [
    "## Model was correct in both the above cases!!!"
   ]
  },
  {
   "cell_type": "code",
   "execution_count": null,
   "metadata": {},
   "outputs": [],
   "source": []
  }
 ],
 "metadata": {
  "kernelspec": {
   "display_name": "fastai v1",
   "language": "python",
   "name": "fastai_v1"
  },
  "language_info": {
   "codemirror_mode": {
    "name": "ipython",
    "version": 3
   },
   "file_extension": ".py",
   "mimetype": "text/x-python",
   "name": "python",
   "nbconvert_exporter": "python",
   "pygments_lexer": "ipython3",
   "version": "3.7.3"
  }
 },
 "nbformat": 4,
 "nbformat_minor": 2
}
